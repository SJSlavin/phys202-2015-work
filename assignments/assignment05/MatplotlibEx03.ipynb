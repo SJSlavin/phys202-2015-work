{
 "cells": [
  {
   "cell_type": "markdown",
   "metadata": {
    "nbgrader": {}
   },
   "source": [
    "# Matplotlib Exercise 3"
   ]
  },
  {
   "cell_type": "markdown",
   "metadata": {
    "nbgrader": {}
   },
   "source": [
    "## Imports"
   ]
  },
  {
   "cell_type": "code",
   "execution_count": 2,
   "metadata": {
    "collapsed": false,
    "nbgrader": {}
   },
   "outputs": [],
   "source": [
    "%matplotlib inline\n",
    "import matplotlib.pyplot as plt\n",
    "import numpy as np"
   ]
  },
  {
   "cell_type": "markdown",
   "metadata": {
    "nbgrader": {}
   },
   "source": [
    "## Contour plots of 2d wavefunctions"
   ]
  },
  {
   "cell_type": "markdown",
   "metadata": {
    "nbgrader": {}
   },
   "source": [
    "The wavefunction of a 2d quantum well is:\n",
    "\n",
    "$$ \\psi_{n_x,n_y}(x,y) = \\frac{2}{L}\n",
    "    \\sin{\\left( \\frac{n_x \\pi x}{L} \\right)} \n",
    "    \\sin{\\left( \\frac{n_y \\pi y}{L} \\right)} $$\n",
    "\n",
    "This is a scalar field and $n_x$ and $n_y$ are quantum numbers that measure the level of excitation in the x and y directions. $L$ is the size of the well.\n",
    "    \n",
    "Define a function `well2d` that computes this wavefunction for values of `x` and `y` that are NumPy arrays."
   ]
  },
  {
   "cell_type": "code",
   "execution_count": 3,
   "metadata": {
    "collapsed": true,
    "nbgrader": {
     "checksum": "702bb86154c0c4ec6fbd9e63c7f50289",
     "solution": true
    }
   },
   "outputs": [],
   "source": [
    "def well2d(x, y, nx, ny, L=1.0):\n",
    "    \"\"\"Compute the 2d quantum well wave function.\"\"\"\n",
    "    return (2/L) * np.sin((nx * np.pi * x)/L) * np.sin((ny * np.pi * y)/L)"
   ]
  },
  {
   "cell_type": "code",
   "execution_count": 4,
   "metadata": {
    "collapsed": false,
    "deletable": false,
    "nbgrader": {
     "checksum": "ee9cdf5b84f1f0d4d545448b2196c9b2",
     "grade": true,
     "grade_id": "matplotlibex03a",
     "points": 2
    }
   },
   "outputs": [],
   "source": [
    "psi = well2d(np.linspace(0,1,10), np.linspace(0,1,10), 1, 1)\n",
    "assert len(psi)==10\n",
    "assert psi.shape==(10,)"
   ]
  },
  {
   "cell_type": "code",
   "execution_count": 5,
   "metadata": {
    "collapsed": false
   },
   "outputs": [
    {
     "name": "stdout",
     "output_type": "stream",
     "text": [
      "[  0.00000000e+00   2.33955557e-01   8.26351822e-01   1.50000000e+00\n",
      "   1.93969262e+00   1.93969262e+00   1.50000000e+00   8.26351822e-01\n",
      "   2.33955557e-01   2.99951957e-32]\n"
     ]
    }
   ],
   "source": [
    "print(well2d(np.linspace(0,1,10), np.linspace(0,1,10), 1, 1))"
   ]
  },
  {
   "cell_type": "markdown",
   "metadata": {
    "collapsed": false,
    "nbgrader": {}
   },
   "source": [
    "The `contour`, `contourf`, `pcolor` and `pcolormesh` functions of Matplotlib can be used for effective visualizations of 2d scalar fields. Use the Matplotlib documentation to learn how to use these functions along with the `numpy.meshgrid` function to visualize the above wavefunction:\n",
    "\n",
    "* Use $n_x=3$, $n_y=2$ and $L=0$.\n",
    "* Use the limits $[0,1]$ for the x and y axis.\n",
    "* Customize your plot to make it effective and beautiful.\n",
    "* Use a non-default colormap.\n",
    "* Add a colorbar to you visualization.\n",
    "\n",
    "First make a plot using one of the contour functions:"
   ]
  },
  {
   "cell_type": "code",
   "execution_count": 25,
   "metadata": {
    "collapsed": false,
    "deletable": false,
    "nbgrader": {
     "checksum": "6cff4e8e53b15273846c3aecaea84a3d",
     "solution": true
    }
   },
   "outputs": [
    {
     "data": {
      "image/png": "[encoded data removed]",
      "text/plain": [
       "<matplotlib.figure.Figure at 0x7f70f1f94cc0>"
      ]
     },
     "metadata": {},
     "output_type": "display_data"
    }
   ],
   "source": [
    "# YOUR CODE HERE\n",
    "\n",
    "x, y = np.meshgrid(np.linspace(0, 1, 10), np.linspace(0, 1, 10))\n",
    "\n",
    "plt.contourf(well2d(x, y, 3, 2, 1), 20, cmap=\"gnuplot\")\n",
    "plt.colorbar()\n",
    "\n",
    "plt.tick_params(axis = \"x\", direction = \"out\", length = 5)\n",
    "plt.tick_params(axis = \"y\", direction = \"out\", length = 5)\n",
    "plt.box(False)"
   ]
  },
  {
   "cell_type": "code",
   "execution_count": 8,
   "metadata": {
    "collapsed": true,
    "deletable": false,
    "nbgrader": {
     "checksum": "961e97980ad72d5d3aeace8b9915374a",
     "grade": true,
     "grade_id": "matplotlibex03b",
     "points": 4
    }
   },
   "outputs": [],
   "source": [
    "assert True # use this cell for grading the contour plot"
   ]
  },
  {
   "cell_type": "markdown",
   "metadata": {
    "nbgrader": {}
   },
   "source": [
    "Next make a visualization using one of the pcolor functions:"
   ]
  },
  {
   "cell_type": "code",
   "execution_count": 35,
   "metadata": {
    "collapsed": false,
    "deletable": false,
    "nbgrader": {
     "checksum": "6cff4e8e53b15273846c3aecaea84a3d",
     "solution": true
    }
   },
   "outputs": [
    {
     "data": {
      "image/png": "[encoded data removed]",
      "text/plain": [
       "<matplotlib.figure.Figure at 0x7f70f1bc3908>"
      ]
     },
     "metadata": {},
     "output_type": "display_data"
    }
   ],
   "source": [
    "# YOUR CODE HERE\n",
    "x, y = np.meshgrid(np.linspace(0, 1, 10), np.linspace(0, 1, 10))\n",
    "\n",
    "plt.pcolormesh(well2d(x, y, 3, 2, 1), cmap=\"gnuplot\", alpha=0.9)\n",
    "plt.colorbar()\n",
    "\n",
    "plt.tick_params(axis = \"x\", direction = \"out\", length = 5)\n",
    "plt.tick_params(axis = \"y\", direction = \"out\", length = 5)\n",
    "plt.box(False)"
   ]
  },
  {
   "cell_type": "code",
   "execution_count": null,
   "metadata": {
    "collapsed": true,
    "deletable": false,
    "nbgrader": {
     "checksum": "50b5f6fadc515274f80f58c1694c20ad",
     "grade": true,
     "grade_id": "matplotlibex03c",
     "points": 4
    }
   },
   "outputs": [],
   "source": [
    "assert True # use this cell for grading the pcolor plot"
   ]
  }
 ],
 "metadata": {
  "kernelspec": {
   "display_name": "Python 3",
   "language": "python",
   "name": "python3"
  },
  "language_info": {
   "codemirror_mode": {
    "name": "ipython",
    "version": 3
   },
   "file_extension": ".py",
   "mimetype": "text/x-python",
   "name": "python",
   "nbconvert_exporter": "python",
   "pygments_lexer": "ipython3",
   "version": "3.4.0"
  }
 },
 "nbformat": 4,
 "nbformat_minor": 0
}
