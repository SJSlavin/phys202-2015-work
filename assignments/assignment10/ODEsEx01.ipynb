{
 "cells": [
  {
   "cell_type": "markdown",
   "metadata": {
    "nbgrader": {}
   },
   "source": [
    "# Ordinary Differential Equations Exercise 1"
   ]
  },
  {
   "cell_type": "markdown",
   "metadata": {
    "nbgrader": {}
   },
   "source": [
    "## Imports"
   ]
  },
  {
   "cell_type": "code",
   "execution_count": 2,
   "metadata": {
    "collapsed": false,
    "nbgrader": {}
   },
   "outputs": [
    {
     "name": "stderr",
     "output_type": "stream",
     "text": [
      ":0: FutureWarning: IPython widgets are experimental and may change in the future.\n"
     ]
    }
   ],
   "source": [
    "%matplotlib inline\n",
    "import matplotlib.pyplot as plt\n",
    "import numpy as np\n",
    "import seaborn as sns\n",
    "from scipy.integrate import odeint\n",
    "from IPython.html.widgets import interact, fixed"
   ]
  },
  {
   "cell_type": "markdown",
   "metadata": {
    "nbgrader": {}
   },
   "source": [
    "## Euler's method"
   ]
  },
  {
   "cell_type": "markdown",
   "metadata": {
    "nbgrader": {}
   },
   "source": [
    "[Euler's method](http://en.wikipedia.org/wiki/Euler_method) is the simplest numerical approach for solving a first order ODE numerically. Given the differential equation\n",
    "\n",
    "$$ \\frac{dy}{dx} = f(y(x), x) $$\n",
    "\n",
    "with the initial condition:\n",
    "\n",
    "$$ y(x_0)=y_0 $$\n",
    "\n",
    "Euler's method performs updates using the equations:\n",
    "\n",
    "$$ y_{n+1} = y_n + h f(y_n,x_n) $$\n",
    "\n",
    "$$ h = x_{n+1} - x_n $$\n",
    "\n",
    "Write a function `solve_euler` that implements the Euler method for a 1d ODE and follows the specification described in the docstring:"
   ]
  },
  {
   "cell_type": "code",
   "execution_count": 3,
   "metadata": {
    "collapsed": false,
    "nbgrader": {
     "checksum": "970f9fafed818a7c2b3202d7c5f42f7f",
     "solution": true
    }
   },
   "outputs": [],
   "source": [
    "def solve_euler(derivs, y0, x):\n",
    "    \"\"\"Solve a 1d ODE using Euler's method.\n",
    "    \n",
    "    Parameters\n",
    "    ----------\n",
    "    derivs : function\n",
    "        The derivative of the diff-eq with the signature deriv(y,x) where\n",
    "        y and x are floats.\n",
    "    y0 : float\n",
    "        The initial condition y[0] = y(x[0]).\n",
    "    x : np.ndarray, list, tuple\n",
    "        The array of times at which of solve the diff-eq.\n",
    "    \n",
    "    Returns\n",
    "    -------\n",
    "    y : np.ndarray\n",
    "        Array of solutions y[i] = y(x[i])\n",
    "    \"\"\"\n",
    "    y = [y0]\n",
    "    for n in range(1, len(x)):\n",
    "        y.append(y[n-1] + (x[n] - x[n-1])*derivs(y[n-1], x[n-1]))\n",
    "        \n",
    "    return np.asarray(y)"
   ]
  },
  {
   "cell_type": "code",
   "execution_count": 4,
   "metadata": {
    "collapsed": false,
    "deletable": false,
    "nbgrader": {
     "checksum": "dde39b8046d2099cf0618eb75d9d49a2",
     "grade": true,
     "grade_id": "odesex01a",
     "points": 2
    }
   },
   "outputs": [],
   "source": [
    "assert np.allclose(solve_euler(lambda y, x: 1, 0, [0,1,2]), [0,1,2])"
   ]
  },
  {
   "cell_type": "markdown",
   "metadata": {
    "nbgrader": {}
   },
   "source": [
    "The [midpoint method]() is another numerical method for solving the above differential equation. In general it is more accurate than the Euler method. It uses the update equation:\n",
    "\n",
    "$$ y_{n+1} = y_n + h f\\left(y_n+\\frac{h}{2}f(y_n,x_n),x_n+\\frac{h}{2}\\right) $$\n",
    "\n",
    "Write a function `solve_midpoint` that implements the midpoint method for a 1d ODE and follows the specification described in the docstring:"
   ]
  },
  {
   "cell_type": "code",
   "execution_count": 5,
   "metadata": {
    "collapsed": true,
    "nbgrader": {
     "checksum": "caba5256e19921e2282330d0b0b85337",
     "solution": true
    }
   },
   "outputs": [],
   "source": [
    "def solve_midpoint(derivs, y0, x):\n",
    "    \"\"\"Solve a 1d ODE using the Midpoint method.\n",
    "    \n",
    "    Parameters\n",
    "    ----------\n",
    "    derivs : function\n",
    "        The derivative of the diff-eq with the signature deriv(y,x) where y\n",
    "        and x are floats.\n",
    "    y0 : float\n",
    "        The initial condition y[0] = y(x[0]).\n",
    "    x : np.ndarray, list, tuple\n",
    "        The array of times at which of solve the diff-eq.\n",
    "    \n",
    "    Returns\n",
    "    -------\n",
    "    y : np.ndarray\n",
    "        Array of solutions y[i] = y(x[i])\n",
    "    \"\"\"\n",
    "    # YOUR CODE HERE\n",
    "    y = [y0]\n",
    "    for n in range(1, len(x)):\n",
    "        h = x[n] - x[n-1]\n",
    "        y.append(y[n-1] + h*derivs(y[n-1] + h/2*derivs(y[n-1], x[n-1]), x[n-1] + h/2))\n",
    "        \n",
    "    return np.asarray(y)"
   ]
  },
  {
   "cell_type": "code",
   "execution_count": 6,
   "metadata": {
    "collapsed": true,
    "deletable": false,
    "nbgrader": {
     "checksum": "f8e6136e04daabfb02cd8ed157e194d8",
     "grade": true,
     "grade_id": "odesex01b",
     "points": 2
    }
   },
   "outputs": [],
   "source": [
    "assert np.allclose(solve_midpoint(lambda y, x: 1, 0, [0,1,2]), [0,1,2])"
   ]
  },
  {
   "cell_type": "markdown",
   "metadata": {
    "nbgrader": {}
   },
   "source": [
    "You are now going to solve the following differential equation:\n",
    "\n",
    "$$\n",
    "\\frac{dy}{dx} = x + 2y\n",
    "$$\n",
    "\n",
    "which has the analytical solution:\n",
    "\n",
    "$$\n",
    "y(x) = 0.25 e^{2x} - 0.5 x - 0.25\n",
    "$$\n",
    "\n",
    "First, write a `solve_exact` function that compute the exact solution and follows the specification described in the docstring:"
   ]
  },
  {
   "cell_type": "code",
   "execution_count": 7,
   "metadata": {
    "collapsed": false,
    "nbgrader": {
     "checksum": "8abaa12752f4606d727cbe599443dc6b",
     "grade": false,
     "grade_id": "",
     "points": 0,
     "solution": true
    }
   },
   "outputs": [],
   "source": [
    "def solve_exact(x):\n",
    "    \"\"\"compute the exact solution to dy/dx = x + 2y.\n",
    "    \n",
    "    Parameters\n",
    "    ----------\n",
    "    x : np.ndarray\n",
    "        Array of x values to compute the solution at.\n",
    "    \n",
    "    Returns\n",
    "    -------\n",
    "    y : np.ndarray\n",
    "        Array of solutions at y[i] = y(x[i]).\n",
    "    \"\"\"\n",
    "    # YOUR CODE HERE\n",
    "    return 0.25*np.exp(2*x) - 0.5*x - 0.25"
   ]
  },
  {
   "cell_type": "code",
   "execution_count": 8,
   "metadata": {
    "collapsed": false,
    "deletable": false,
    "nbgrader": {
     "checksum": "1234041305bef6ff5b2f7daf4ae33597",
     "grade": true,
     "grade_id": "odesex01c",
     "points": 2
    }
   },
   "outputs": [],
   "source": [
    "assert np.allclose(solve_exact(np.array([0,1,2])),np.array([0., 1.09726402, 12.39953751]))"
   ]
  },
  {
   "cell_type": "markdown",
   "metadata": {
    "nbgrader": {}
   },
   "source": [
    "In the following cell you are going to solve the above ODE using four different algorithms:\n",
    "\n",
    "1. Euler's method\n",
    "2. Midpoint method\n",
    "3. `odeint`\n",
    "4. Exact\n",
    "\n",
    "Here are the details:\n",
    "\n",
    "* Generate an array of x values with $N=11$ points over the interval $[0,1]$ ($h=0.1$).\n",
    "* Define the `derivs` function for the above differential equation.\n",
    "* Using the `solve_euler`, `solve_midpoint`, `odeint` and `solve_exact` functions to compute\n",
    "  the solutions using the 4 approaches.\n",
    "\n",
    "Visualize the solutions on a sigle figure with two subplots:\n",
    "\n",
    "1. Plot the $y(x)$ versus $x$ for each of the 4 approaches.\n",
    "2. Plot $\\left|y(x)-y_{exact}(x)\\right|$ versus $x$ for each of the 3 numerical approaches.\n",
    "\n",
    "Your visualization should have legends, labeled axes, titles and be customized for beauty and effectiveness.\n",
    "\n",
    "While your final plot will use $N=10$ points, first try making $N$ larger and smaller to see how that affects the errors of the different approaches."
   ]
  },
  {
   "cell_type": "code",
   "execution_count": 9,
   "metadata": {
    "collapsed": false,
    "deletable": false,
    "nbgrader": {
     "checksum": "6cff4e8e53b15273846c3aecaea84a3d",
     "solution": true
    }
   },
   "outputs": [
    {
     "name": "stdout",
     "output_type": "stream",
     "text": [
      "(1,)\n",
      "[ 1.          1.2         1.45        1.76        2.142       2.6104\n",
      "  3.18248     3.878976    4.7247712   5.74972544  6.98967053]\n",
      "[ 1.          1.225       1.5105      1.86981     2.3191682   2.8783852\n",
      "  3.57162995  4.42838854  5.48463402  6.7842535   8.38078927]\n"
     ]
    },
    {
     "ename": "ValueError",
     "evalue": "object too deep for desired array",
     "output_type": "error",
     "traceback": [
      "\u001b[1;31m---------------------------------------------------------------------------\u001b[0m",
      "\u001b[1;31mValueError\u001b[0m                                Traceback (most recent call last)",
      "\u001b[1;32m<ipython-input-9-3bcd7c35e8fb>\u001b[0m in \u001b[0;36m<module>\u001b[1;34m()\u001b[0m\n\u001b[0;32m     13\u001b[0m \u001b[0mprint\u001b[0m\u001b[1;33m(\u001b[0m\u001b[0msolve_euler\u001b[0m\u001b[1;33m(\u001b[0m\u001b[0mderivs\u001b[0m\u001b[1;33m,\u001b[0m \u001b[1;36m1.0\u001b[0m\u001b[1;33m,\u001b[0m \u001b[0mx\u001b[0m\u001b[1;33m)\u001b[0m\u001b[1;33m)\u001b[0m\u001b[1;33m\u001b[0m\u001b[0m\n\u001b[0;32m     14\u001b[0m \u001b[0mprint\u001b[0m\u001b[1;33m(\u001b[0m\u001b[0msolve_midpoint\u001b[0m\u001b[1;33m(\u001b[0m\u001b[0mderivs\u001b[0m\u001b[1;33m,\u001b[0m \u001b[1;36m1.0\u001b[0m\u001b[1;33m,\u001b[0m \u001b[0mx\u001b[0m\u001b[1;33m)\u001b[0m\u001b[1;33m)\u001b[0m\u001b[1;33m\u001b[0m\u001b[0m\n\u001b[1;32m---> 15\u001b[1;33m \u001b[0mprint\u001b[0m\u001b[1;33m(\u001b[0m\u001b[0modeint\u001b[0m\u001b[1;33m(\u001b[0m\u001b[0mderivs\u001b[0m\u001b[1;33m,\u001b[0m \u001b[0my0\u001b[0m\u001b[1;33m,\u001b[0m \u001b[0mx\u001b[0m\u001b[1;33m)\u001b[0m\u001b[1;33m)\u001b[0m\u001b[1;33m\u001b[0m\u001b[0m\n\u001b[0m",
      "\u001b[1;32m/usr/local/lib/python3.4/dist-packages/scipy/integrate/odepack.py\u001b[0m in \u001b[0;36modeint\u001b[1;34m(func, y0, t, args, Dfun, col_deriv, full_output, ml, mu, rtol, atol, tcrit, h0, hmax, hmin, ixpr, mxstep, mxhnil, mxordn, mxords, printmessg)\u001b[0m\n\u001b[0;32m    146\u001b[0m     output = _odepack.odeint(func, y0, t, args, Dfun, col_deriv, ml, mu,\n\u001b[0;32m    147\u001b[0m                              \u001b[0mfull_output\u001b[0m\u001b[1;33m,\u001b[0m \u001b[0mrtol\u001b[0m\u001b[1;33m,\u001b[0m \u001b[0matol\u001b[0m\u001b[1;33m,\u001b[0m \u001b[0mtcrit\u001b[0m\u001b[1;33m,\u001b[0m \u001b[0mh0\u001b[0m\u001b[1;33m,\u001b[0m \u001b[0mhmax\u001b[0m\u001b[1;33m,\u001b[0m \u001b[0mhmin\u001b[0m\u001b[1;33m,\u001b[0m\u001b[1;33m\u001b[0m\u001b[0m\n\u001b[1;32m--> 148\u001b[1;33m                              ixpr, mxstep, mxhnil, mxordn, mxords)\n\u001b[0m\u001b[0;32m    149\u001b[0m     \u001b[1;32mif\u001b[0m \u001b[0moutput\u001b[0m\u001b[1;33m[\u001b[0m\u001b[1;33m-\u001b[0m\u001b[1;36m1\u001b[0m\u001b[1;33m]\u001b[0m \u001b[1;33m<\u001b[0m \u001b[1;36m0\u001b[0m\u001b[1;33m:\u001b[0m\u001b[1;33m\u001b[0m\u001b[0m\n\u001b[0;32m    150\u001b[0m         \u001b[0mprint\u001b[0m\u001b[1;33m(\u001b[0m\u001b[0m_msgs\u001b[0m\u001b[1;33m[\u001b[0m\u001b[0moutput\u001b[0m\u001b[1;33m[\u001b[0m\u001b[1;33m-\u001b[0m\u001b[1;36m1\u001b[0m\u001b[1;33m]\u001b[0m\u001b[1;33m]\u001b[0m\u001b[1;33m)\u001b[0m\u001b[1;33m\u001b[0m\u001b[0m\n",
      "\u001b[1;31mValueError\u001b[0m: object too deep for desired array"
     ]
    }
   ],
   "source": [
    "# YOUR CODE HERE\n",
    "x = np.linspace(0, 1, 11)\n",
    "\n",
    "def derivs(yvec, x):\n",
    "    y = yvec\n",
    "    dy = x + 2*y\n",
    "    return np.array([dy])\n",
    "\n",
    "y0 = np.array([1.0])\n",
    "print(y0.shape)\n",
    "\n",
    "   \n",
    "print(solve_euler(derivs, 1.0, x))\n",
    "print(solve_midpoint(derivs, 1.0, x))\n",
    "#gives error \"object too deep for desired array\". thinks y0 is a 2d array?\n",
    "print(odeint(derivs, y0, x))"
   ]
  },
  {
   "cell_type": "code",
   "execution_count": 10,
   "metadata": {
    "collapsed": true,
    "deletable": false,
    "nbgrader": {
     "checksum": "7d29baed01ce53d19fe14792b77ab230",
     "grade": true,
     "grade_id": "odesex01d",
     "points": 4
    }
   },
   "outputs": [],
   "source": [
    "assert True # leave this for grading the plots"
   ]
  },
  {
   "cell_type": "code",
   "execution_count": null,
   "metadata": {
    "collapsed": true
   },
   "outputs": [],
   "source": []
  }
 ],
 "metadata": {
  "kernelspec": {
   "display_name": "Python 3",
   "language": "python",
   "name": "python3"
  },
  "language_info": {
   "codemirror_mode": {
    "name": "ipython",
    "version": 3
   },
   "file_extension": ".py",
   "mimetype": "text/x-python",
   "name": "python",
   "nbconvert_exporter": "python",
   "pygments_lexer": "ipython3",
   "version": "3.4.0"
  }
 },
 "nbformat": 4,
 "nbformat_minor": 0
}
