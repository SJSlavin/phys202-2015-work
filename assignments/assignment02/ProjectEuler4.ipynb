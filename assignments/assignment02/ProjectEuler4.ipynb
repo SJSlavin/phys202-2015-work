{
 "cells": [
  {
   "cell_type": "markdown",
   "metadata": {
    "nbgrader": {}
   },
   "source": [
    "# Project Euler: Problem 4"
   ]
  },
  {
   "cell_type": "markdown",
   "metadata": {
    "nbgrader": {}
   },
   "source": [
    "https://projecteuler.net/problem=4\n",
    "\n",
    "A palindromic number reads the same both ways. The largest palindrome made from the product of two 2-digit numbers is 9009 = 91 × 99.\n",
    "\n",
    "Find the largest palindrome made from the product of two 3-digit numbers."
   ]
  },
  {
   "cell_type": "code",
   "execution_count": 3,
   "metadata": {
    "collapsed": false,
    "deletable": false,
    "nbgrader": {
     "checksum": "6cff4e8e53b15273846c3aecaea84a3d",
     "solution": true
    }
   },
   "outputs": [],
   "source": [
    "def Is_Palindrome(x):\n",
    "    list_x = list(str(x))\n",
    "    for n in range(0,len(list_x)):\n",
    "        if list_x[n] != list_x[len(list_x) - n - 1]:\n",
    "            return False\n",
    "            break\n",
    "    return True"
   ]
  },
  {
   "cell_type": "code",
   "execution_count": 4,
   "metadata": {
    "collapsed": false
   },
   "outputs": [
    {
     "name": "stdout",
     "output_type": "stream",
     "text": [
      "['5', '0', '0', '5']\n"
     ]
    }
   ],
   "source": [
    "print(list(str(5005)))"
   ]
  },
  {
   "cell_type": "code",
   "execution_count": 5,
   "metadata": {
    "collapsed": false
   },
   "outputs": [
    {
     "data": {
      "text/plain": [
       "True"
      ]
     },
     "execution_count": 5,
     "metadata": {},
     "output_type": "execute_result"
    }
   ],
   "source": [
    "Is_Palindrome(10033001)"
   ]
  },
  {
   "cell_type": "code",
   "execution_count": 6,
   "metadata": {
    "collapsed": false
   },
   "outputs": [],
   "source": [
    "def Largest_Palindrome_3digits():\n",
    "    candidate_list = []\n",
    "    #first test only the top 10\n",
    "    for n1 in range(990,999):\n",
    "        for n2 in range(990,999):\n",
    "            if Is_Palindrome(n1*n2):\n",
    "                candidate_list.append(n1*n2)\n",
    "    if len(candidate_list) > 0:\n",
    "        return max(candidate_list) + \" is a product of \" + str(n1) + \" and \" + str(n2)\n",
    "    else:\n",
    "    #if no palindromes are found in the last 10, test the last 100\n",
    "        for n1 in range(900,999):\n",
    "            for n2 in range(900,999):\n",
    "                if Is_Palindrome(n1*n2):\n",
    "                    candidate_list.append(n1*n2)\n",
    "        if len(candidate_list) > 0:\n",
    "            return str(max(candidate_list)) + \" is a product of \" + str(n1) + \" and \" + str(n2)\n",
    "                \n",
    "    #I could continue this pattern down to the full range, but I don't need to in this case\n",
    "    "
   ]
  },
  {
   "cell_type": "markdown",
   "metadata": {},
   "source": [
    "While the palindrome is correct, the factors are not. The problem doesnt need them, so you can just ignore them."
   ]
  },
  {
   "cell_type": "code",
   "execution_count": 7,
   "metadata": {
    "collapsed": false
   },
   "outputs": [
    {
     "name": "stdout",
     "output_type": "stream",
     "text": [
      "906609 is a product of 998 and 998\n"
     ]
    }
   ],
   "source": [
    "print(Largest_Palindrome_3digits())"
   ]
  },
  {
   "cell_type": "code",
   "execution_count": null,
   "metadata": {
    "collapsed": true,
    "deletable": false,
    "nbgrader": {
     "checksum": "aff23ddd30b5712efa3907cd1608bcf5",
     "grade": true,
     "grade_id": "projecteuler4",
     "points": 10
    }
   },
   "outputs": [],
   "source": [
    "# This cell will be used for grading, leave it at the end of the notebook."
   ]
  }
 ],
 "metadata": {
  "kernelspec": {
   "display_name": "Python 3",
   "language": "python",
   "name": "python3"
  },
  "language_info": {
   "codemirror_mode": {
    "name": "ipython",
    "version": 3
   },
   "file_extension": ".py",
   "mimetype": "text/x-python",
   "name": "python",
   "nbconvert_exporter": "python",
   "pygments_lexer": "ipython3",
   "version": "3.4.0"
  }
 },
 "nbformat": 4,
 "nbformat_minor": 0
}
