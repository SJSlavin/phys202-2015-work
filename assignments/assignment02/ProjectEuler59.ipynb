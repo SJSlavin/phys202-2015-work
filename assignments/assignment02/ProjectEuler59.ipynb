{
 "cells": [
  {
   "cell_type": "markdown",
   "metadata": {
    "nbgrader": {}
   },
   "source": [
    "# Project Euler: Problem 59"
   ]
  },
  {
   "cell_type": "markdown",
   "metadata": {
    "nbgrader": {}
   },
   "source": [
    "https://projecteuler.net/problem=59\n",
    "\n",
    "Each character on a computer is assigned a unique code and the preferred standard is ASCII (American Standard Code for Information Interchange). For example, uppercase A = 65, asterisk (*) = 42, and lowercase k = 107.\n",
    "\n",
    "A modern encryption method is to take a text file, convert the bytes to ASCII, then XOR each byte with a given value, taken from a secret key. The advantage with the XOR function is that using the same encryption key on the cipher text, restores the plain text; for example, 65 XOR 42 = 107, then 107 XOR 42 = 65.\n",
    "\n",
    "For unbreakable encryption, the key is the same length as the plain text message, and the key is made up of random bytes. The user would keep the encrypted message and the encryption key in different locations, and without both \"halves\", it is impossible to decrypt the message.\n",
    "\n",
    "Unfortunately, this method is impractical for most users, so the modified method is to use a password as a key. If the password is shorter than the message, which is likely, the key is repeated cyclically throughout the message. The balance for this method is using a sufficiently long password key for security, but short enough to be memorable.\n",
    "\n",
    "Your task has been made easy, as the encryption key consists of three lower case characters. Using cipher.txt (in this directory), a file containing the encrypted ASCII codes, and the knowledge that the plain text must contain common English words, decrypt the message and find the sum of the ASCII values in the original text."
   ]
  },
  {
   "cell_type": "markdown",
   "metadata": {
    "nbgrader": {}
   },
   "source": [
    "The following cell shows examples of how to perform XOR in Python and how to go back and forth between characters and integers:"
   ]
  },
  {
   "cell_type": "code",
   "execution_count": 272,
   "metadata": {
    "collapsed": true,
    "nbgrader": {}
   },
   "outputs": [],
   "source": [
    "assert 65 ^ 42 == 107\n",
    "assert 107 ^ 42 == 65\n",
    "assert ord('a') == 97\n",
    "assert chr(97) == 'a'"
   ]
  },
  {
   "cell_type": "markdown",
   "metadata": {
    "nbgrader": {}
   },
   "source": [
    "Certain functions in the `itertools` module may be useful for computing permutations:"
   ]
  },
  {
   "cell_type": "code",
   "execution_count": 273,
   "metadata": {
    "collapsed": false,
    "nbgrader": {}
   },
   "outputs": [],
   "source": [
    "import itertools"
   ]
  },
  {
   "cell_type": "code",
   "execution_count": 2,
   "metadata": {
    "collapsed": false,
    "deletable": false,
    "nbgrader": {
     "checksum": "6cff4e8e53b15273846c3aecaea84a3d",
     "solution": true
    }
   },
   "outputs": [],
   "source": [
    "# YOUR CODE HERE\n",
    "def Decryptor(key, filename):\n",
    "    file = open(filename, \"r\")\n",
    "    filestring = file.read()\n",
    "    #http://stackoverflow.com/questions/7844118/how-to-convert-comma-delimited-string-to-list-in-python\n",
    "    filelist = filestring.split(\",\")\n",
    "    full_key = \"\"\n",
    "    #creates repeated key the length of the file contents (cycle() function would work if i could make it finite)\n",
    "    for n in range(0,int(len(filelist)/len(key)) + 1):\n",
    "        full_key += key\n",
    "    dec_string = \"\"\n",
    "    for n in range(0,len(filelist)):\n",
    "        dec_string += chr(ord(full_key[n]) ^ int(filelist[n]))\n",
    "    \n",
    "    file.close()\n",
    "    return dec_string\n"
   ]
  },
  {
   "cell_type": "code",
   "execution_count": 4,
   "metadata": {
    "collapsed": false
   },
   "outputs": [
    {
     "data": {
      "text/plain": [
       "\"<Wcq#L{p{qo+{e+^lcz/+wkjdwnf#:=#:4Je4wcq#iqdbzmbzd+`kn4Tdfg+uoyqbom#nljx`fo:#Cq#|up+cj\\x7f|#L{g'4bep#cq#|up+Slo:#94Kn4tjg#bz#\\x7f|f+vfl}me}ml4tb`k+Slo:#84Kn4`yqb\\x7fqg+qunfz\\x7f|jes#\\x7f|fyq#bg-+Zl\\x7f|jes#nljx`p+`kj`#cq#o}ge3w+yb`q-+ #G}en4j\\x7fgfgr#|up+}m+|jf8#jzg+`kbg#g}en4dbbfx4obsk\\x7f4wd4f}qqr{mn:#>4Wcq#g}dc`#x|jeqp+`ky{vl|#\\x7f|f+pby\\x7fmngp'4bep#\\x7f|f+pby\\x7fmngp+wbe4mnbfy4fs`jesvbgk+}w%45+Slo4pnzw+^lcz#\\x7f|f+Vb{`jx`#<4wd4wnxo+qunfzdzf+uadaw+`kn4obsk\\x7f4pd4wcuw+qunfzdzf+yjl|w+vfg}f}q#iq`japn4lm4kbg#\\x7fqp\\x7f}ndzz%4;+^lcz#c}nxqom4tjg#e{w+`kn4obsk\\x7f/#cq#|up+{mgm#j4tb`mngp+`l+`kn4obsk\\x7f:#24Wcq#dzf+ckd4jx4wcq#\\x7ffvn4obsk\\x7f8#||l+sj}qp+xjl|w+`l+qunfzdzf'4tjg#l{jes#\\x7f{#h{nn4je`l+`kn4tdfoo:#:$#Iaw+uo\\x7f|l~sk+`kn4tdfoo4tjg#fugn4wcfl~sk+|jf8#\\x7f|f+clyxg+pjoz$\\x7f4qnwllzjqq#c}n+cknz#cq#hunn:#:%#Nbfe4je4kbg#dcm+xbep#jzg+undzd+|jx4l|z#{ql{xf'4kn4tjg#e{w+u`hqs\\x7fqg%4294A~`#\\x7f{#jxo+ckd4anxjnbfo4kby#jzg+u`hqs\\x7fqg+|jf8#cq#luun4wcq#y}dc`#\\x7f{#iq`dyf+wkbxgyqm+{e+Slo:#:'#_|fr4byq#yqadfm*4Wc}p+}p+zl\\x7f4b+dkrgjhuo+vjy`k+ffxao\\x7f}ml4ey{n+|vfum+dbxgjdz#df#{xbe8#\\x7f|jx4qnvjy`k+wlfqp+rqdy#L{g%%7+Gl+`kn4Tdfg+vfhunn4k~ybe4bep#g}unp#cqqn4le4fjfwc4bf{ml4vx:#Cq#|up+rvgx#dr#~zej}obzd+xl}q#jzg+rbb`kmaoeqpx:#Jzg+cf+|b}q#xqfe4kbg#lxlym/+`kn4dg{qr4lm4wcq#dzor4Pdz#dr#\\x7f|f+Rb\\x7f|fy:\""
      ]
     },
     "execution_count": 4,
     "metadata": {},
     "output_type": "execute_result"
    }
   ],
   "source": [
    "Decryptor(\"slo\", \"cipher.txt\")"
   ]
  },
  {
   "cell_type": "code",
   "execution_count": 276,
   "metadata": {
    "collapsed": false
   },
   "outputs": [],
   "source": [
    "def CheckSpaces(inputstring):\n",
    "    #http://stackoverflow.com/questions/1155617/count-occurrence-of-a-character-in-a-string\n",
    "    spacecount = inputstring.count(\" \")\n",
    "    #according to wolfram Alpha, the average length of an english character is 5.\n",
    "    #if there are less than 1/3 of the spaces there should be, the string is probably not english\n",
    "    if spacecount >= len(inputstring)/15:\n",
    "        return True\n",
    "    else:\n",
    "        return False"
   ]
  },
  {
   "cell_type": "code",
   "execution_count": 277,
   "metadata": {
    "collapsed": false
   },
   "outputs": [
    {
     "name": "stdout",
     "output_type": "stream",
     "text": [
      "True\n",
      "False\n",
      "False\n"
     ]
    }
   ],
   "source": [
    "print(CheckSpaces(\"I am an english phrase\"))\n",
    "print(CheckSpaces(\"iamnotanenglishphrase\"))\n",
    "print(CheckSpaces(\"neitheramibut idohaveatleastonespace\"))"
   ]
  },
  {
   "cell_type": "code",
   "execution_count": 278,
   "metadata": {
    "collapsed": false
   },
   "outputs": [],
   "source": [
    "def CheckPunctuation(inputstring):\n",
    "    #checks for common punctuation, makes sure they are at the end of a sentence\n",
    "    if \"?\" in inputstring:\n",
    "        if inputstring.count(\"? \") < inputstring.count(\"?\") - 1:\n",
    "            return False\n",
    "        \n",
    "    if \"!\" in inputstring:\n",
    "        if inputstring.count(\"! \") < inputstring.count(\"!\") - 1:\n",
    "            return False\n",
    "        \n",
    "    if \",\" in inputstring:\n",
    "        if inputstring.count(\", \") < inputstring.count(\",\"):\n",
    "            return False\n",
    "        \n",
    "    #period could possibly be in a decimal number, more lenient\n",
    "    if \".\" in inputstring:\n",
    "        if inputstring.count(\". \") < inputstring.count(\".\")/2:\n",
    "            return False\n",
    "        \n",
    "    #if there's no punctuation per 150 chars, false\n",
    "    if inputstring.count(\".\") + inputstring.count(\",\") + inputstring.count(\"?\") + inputstring.count(\"!\") < int(len(inputstring)/150) + 1:\n",
    "        return False\n",
    "    \n",
    "    return True"
   ]
  },
  {
   "cell_type": "code",
   "execution_count": 279,
   "metadata": {
    "collapsed": false
   },
   "outputs": [
    {
     "name": "stdout",
     "output_type": "stream",
     "text": [
      "True\n",
      "False\n",
      "False\n"
     ]
    }
   ],
   "source": [
    "print(CheckPunctuation(\"This. is? a, sentence. This is another! Are? these. correct?\"))\n",
    "print(CheckPunctuation(\"Thi?is!not.formatted.correctly. The,sentences.run?together!\"))\n",
    "print(CheckPunctuation(\"Thishasnosentencesatall\"))"
   ]
  },
  {
   "cell_type": "code",
   "execution_count": 280,
   "metadata": {
    "collapsed": true
   },
   "outputs": [],
   "source": [
    "def ForbiddenChars(inputstring):\n",
    "    violations = 0\n",
    "    #if rare characters appear too often, not english\n",
    "    \n",
    "    for char in inputstring:\n",
    "        if char in (\"[]{}_@^<>*|%~&#\"):\n",
    "            violations += 1\n",
    "    \n",
    "    if violations > len(inputstring)/100:\n",
    "        return False\n",
    "    else:\n",
    "        return True\n",
    "    "
   ]
  },
  {
   "cell_type": "code",
   "execution_count": 281,
   "metadata": {
    "collapsed": false
   },
   "outputs": [
    {
     "name": "stdout",
     "output_type": "stream",
     "text": [
      "True\n",
      "False\n"
     ]
    }
   ],
   "source": [
    "print(ForbiddenChars(Decryptor(\"god\", \"cipher.txt\")))\n",
    "print(ForbiddenChars(Decryptor(\"abc\", \"cipher.txt\")))"
   ]
  },
  {
   "cell_type": "code",
   "execution_count": 282,
   "metadata": {
    "collapsed": false
   },
   "outputs": [],
   "source": [
    "def FindKey(file):\n",
    "    #http://stackoverflow.com/questions/228730/how-do-i-iterate-through-a-string-in-python\n",
    "    from string import ascii_lowercase\n",
    "    text = \"\"\n",
    "    for a in ascii_lowercase:\n",
    "        for b in ascii_lowercase:\n",
    "            for c in ascii_lowercase:\n",
    "                text = Decryptor(a+b+c, file)\n",
    "                if CheckSpaces(text) == True:\n",
    "                    if CheckPunctuation(text) == True:\n",
    "                        if ForbiddenChars(text) == True:\n",
    "                            print(\"\")\n",
    "                            print(\"Key is \" + a + b + c)\n",
    "                            print(text)"
   ]
  },
  {
   "cell_type": "code",
   "execution_count": 283,
   "metadata": {
    "collapsed": false
   },
   "outputs": [
    {
     "name": "stdout",
     "output_type": "stream",
     "text": [
      "\n",
      "Key is god\n",
      "(The Gospel of John, chapter 1) 1 In the beginning the Word already existed. He was with God, and he was God. 2 He was in the beginning with God. 3 He created everything there is. Nothing exists that he didn't make. 4 Life itself was in him, and this life gives light to everyone. 5 The light shines through the darkness, and the darkness can never extinguish it. 6 God sent John the Baptist 7 to tell everyone about the light so that everyone might believe because of his testimony. 8 John himself was not the light; he was only a witness to the light. 9 The one who is the true light, who gives light to everyone, was going to come into the world. 10 But although the world was made through him, the world didn't recognize him when he came. 11 Even in his own land and among his own people, he was not accepted. 12 But to all who believed him and accepted him, he gave the right to become children of God. 13 They are reborn! This is not a physical birth resulting from human passion or plan, this rebirth comes from God.14 So the Word became human and lived here on earth among us. He was full of unfailing love and faithfulness. And we have seen his glory, the glory of the only Son of the Father.\n"
     ]
    }
   ],
   "source": [
    "FindKey(\"cipher.txt\")"
   ]
  },
  {
   "cell_type": "code",
   "execution_count": null,
   "metadata": {
    "collapsed": true,
    "deletable": false,
    "nbgrader": {
     "checksum": "dcdf6792a88c661545d3ca651212dba8",
     "grade": true,
     "grade_id": "projecteuler59",
     "points": 10
    }
   },
   "outputs": [],
   "source": [
    "# This cell will be used for grading, leave it at the end of the notebook."
   ]
  }
 ],
 "metadata": {
  "kernelspec": {
   "display_name": "Python 3",
   "language": "python",
   "name": "python3"
  },
  "language_info": {
   "codemirror_mode": {
    "name": "ipython",
    "version": 3
   },
   "file_extension": ".py",
   "mimetype": "text/x-python",
   "name": "python",
   "nbconvert_exporter": "python",
   "pygments_lexer": "ipython3",
   "version": "3.4.0"
  }
 },
 "nbformat": 4,
 "nbformat_minor": 0
}
