{
 "cells": [
  {
   "cell_type": "markdown",
   "metadata": {
    "nbgrader": {}
   },
   "source": [
    "# Project Euler: Problem 59"
   ]
  },
  {
   "cell_type": "markdown",
   "metadata": {
    "nbgrader": {}
   },
   "source": [
    "https://projecteuler.net/problem=59\n",
    "\n",
    "Each character on a computer is assigned a unique code and the preferred standard is ASCII (American Standard Code for Information Interchange). For example, uppercase A = 65, asterisk (*) = 42, and lowercase k = 107.\n",
    "\n",
    "A modern encryption method is to take a text file, convert the bytes to ASCII, then XOR each byte with a given value, taken from a secret key. The advantage with the XOR function is that using the same encryption key on the cipher text, restores the plain text; for example, 65 XOR 42 = 107, then 107 XOR 42 = 65.\n",
    "\n",
    "For unbreakable encryption, the key is the same length as the plain text message, and the key is made up of random bytes. The user would keep the encrypted message and the encryption key in different locations, and without both \"halves\", it is impossible to decrypt the message.\n",
    "\n",
    "Unfortunately, this method is impractical for most users, so the modified method is to use a password as a key. If the password is shorter than the message, which is likely, the key is repeated cyclically throughout the message. The balance for this method is using a sufficiently long password key for security, but short enough to be memorable.\n",
    "\n",
    "Your task has been made easy, as the encryption key consists of three lower case characters. Using cipher.txt (in this directory), a file containing the encrypted ASCII codes, and the knowledge that the plain text must contain common English words, decrypt the message and find the sum of the ASCII values in the original text."
   ]
  },
  {
   "cell_type": "markdown",
   "metadata": {
    "nbgrader": {}
   },
   "source": [
    "The following cell shows examples of how to perform XOR in Python and how to go back and forth between characters and integers:"
   ]
  },
  {
   "cell_type": "code",
   "execution_count": 272,
   "metadata": {
    "collapsed": true,
    "nbgrader": {}
   },
   "outputs": [],
   "source": [
    "assert 65 ^ 42 == 107\n",
    "assert 107 ^ 42 == 65\n",
    "assert ord('a') == 97\n",
    "assert chr(97) == 'a'"
   ]
  },
  {
   "cell_type": "markdown",
   "metadata": {
    "nbgrader": {}
   },
   "source": [
    "Certain functions in the `itertools` module may be useful for computing permutations:"
   ]
  },
  {
   "cell_type": "code",
   "execution_count": 273,
   "metadata": {
    "collapsed": false,
    "nbgrader": {}
   },
   "outputs": [],
   "source": [
    "import itertools"
   ]
  },
  {
   "cell_type": "code",
   "execution_count": 274,
   "metadata": {
    "collapsed": false,
    "deletable": false,
    "nbgrader": {
     "checksum": "6cff4e8e53b15273846c3aecaea84a3d",
     "solution": true
    }
   },
   "outputs": [],
   "source": [
    "# YOUR CODE HERE\n",
    "def Decryptor(key, filename):\n",
    "    file = open(filename, \"r\")\n",
    "    filestring = file.read()\n",
    "    #http://stackoverflow.com/questions/7844118/how-to-convert-comma-delimited-string-to-list-in-python\n",
    "    filelist = filestring.split(\",\")\n",
    "    full_key = \"\"\n",
    "    #creates repeated key the length of the file contents (cycle() function would work if i could make it finite)\n",
    "    for n in range(0,int(len(filelist)/len(key)) + 1):\n",
    "        full_key += key\n",
    "    dec_string = \"\"\n",
    "    for n in range(0,len(filelist)):\n",
    "        dec_string += chr(ord(full_key[n]) ^ int(filelist[n]))\n",
    "    \n",
    "    file.close()\n",
    "    return dec_string\n"
   ]
  },
  {
   "cell_type": "code",
   "execution_count": 275,
   "metadata": {
    "collapsed": false
   },
   "outputs": [
    {
     "data": {
      "text/plain": [
       "\".Yoc-@i~wca'ik'Lboh!'eefvybt-6/-6&Di&yoc-ecjnhcnhj'reb&Zhti'gauclc\\x7f-b~dtrhc(-Oc-pg~'qdsn-@ii+&lib-oc-pg~'Abc(-5&Eb&zfu-nh-snh'dh`ocioc`&znre'Abc(-4&Eb&nuclsci'c{bttsndia-snhuc-nu#'Hbsndia-b~dtr~'refr-oc-coii!y'kllc#'2-Kokb&dsuhk`-pg~'oc'ndj*-fhi'renu-kokb&jnpht&anaes&yh&hqc\\x7f~icb(-2&Yoc-kojor-tndic~'reuix`n-snh'blumcbu~+&lib-snh'blumcbu~'eli&cbphu&h\\x7frdiaxnue'oy)&;'Abc&~bhy'Lboh-snh'Dlwrdtr-0&yh&ybja'c{btthhh'gohsy'reb&anaes&~h&yogy'c{btthhh'kd`ny'dhkohqc-ecnfs~b&ba&enu-sc~so`hht)&5'Lboh-oo`tcaa&zfu-iiy'reb&anaes=-oc-pg~'ick\\x7f-f&znrcbu~'rb'reb&anaes(->&Yoc-hhh'qeh&dt&yoc-stxb&anaes*-pnb'adqc~'jd`ny'rb'c{btthhh+&zfu-`idia-si-di`b&dirb'reb&zhtac(-66-Esy'gasnbrae'reb&zhtac&zfu-jgib&yotbrae'ndj*-snh'qbuji'bdch*s&\\x7fbeb`hd}c-oo`'qebh-oc-dg`b(-67-Bphi&di&enu-hqc'jlib-fhi'g`hhj'ndt&bph-wcbwjh+&eb&zfu-iiy'gndc}sci)&<5&Orr-si-fja'qeh&objdbphc&enk-fhi'gndc}sci'ndj*-oc-`g{b&yoc-uojor-si-ecnhkh'eenjiucc'ik'Abc(-65-Snh~&luc-ucohtc&&Yoo~'o~'hbs&l've~uddga'ddure'thtsasoc`&kui`'nxjgc'vltudhh-ht-wjli*-sndt&\\x7fbddure'ebjc~'`\\x7fhk-@ii)79'Ub'reb&Zhti'dhdg`b&erkli&lib-ko{bb-oc\\x7fb&bi&hftyo&ljic`&xt(-Oc-pg~'`xkj-h`-rhkfoanhj'jbqc-fhi'`lnreasaic~t(-Fhi'qh'nlqc-tchi&enu-`jbu\\x7f!'reb&jki\\x7f~&ba&yoc-hha~&^hh-h`-snh'@lsnhu(\""
      ]
     },
     "execution_count": 275,
     "metadata": {},
     "output_type": "execute_result"
    }
   ],
   "source": [
    "Decryptor(\"abc\", \"cipher.txt\")"
   ]
  },
  {
   "cell_type": "code",
   "execution_count": 276,
   "metadata": {
    "collapsed": false
   },
   "outputs": [],
   "source": [
    "def CheckSpaces(inputstring):\n",
    "    #http://stackoverflow.com/questions/1155617/count-occurrence-of-a-character-in-a-string\n",
    "    spacecount = inputstring.count(\" \")\n",
    "    #according to wolfram Alpha, the average length of an english character is 5.\n",
    "    #if there are less than 1/3 of the spaces there should be, the string is probably not english\n",
    "    if spacecount >= len(inputstring)/15:\n",
    "        return True\n",
    "    else:\n",
    "        return False"
   ]
  },
  {
   "cell_type": "code",
   "execution_count": 277,
   "metadata": {
    "collapsed": false
   },
   "outputs": [
    {
     "name": "stdout",
     "output_type": "stream",
     "text": [
      "True\n",
      "False\n",
      "False\n"
     ]
    }
   ],
   "source": [
    "print(CheckSpaces(\"I am an english phrase\"))\n",
    "print(CheckSpaces(\"iamnotanenglishphrase\"))\n",
    "print(CheckSpaces(\"neitheramibut idohaveatleastonespace\"))"
   ]
  },
  {
   "cell_type": "code",
   "execution_count": 278,
   "metadata": {
    "collapsed": false
   },
   "outputs": [],
   "source": [
    "def CheckPunctuation(inputstring):\n",
    "    #checks for common punctuation, makes sure they are at the end of a sentence\n",
    "    if \"?\" in inputstring:\n",
    "        if inputstring.count(\"? \") < inputstring.count(\"?\") - 1:\n",
    "            return False\n",
    "        \n",
    "    if \"!\" in inputstring:\n",
    "        if inputstring.count(\"! \") < inputstring.count(\"!\") - 1:\n",
    "            return False\n",
    "        \n",
    "    if \",\" in inputstring:\n",
    "        if inputstring.count(\", \") < inputstring.count(\",\"):\n",
    "            return False\n",
    "        \n",
    "    #period could possibly be in a decimal number, more lenient\n",
    "    if \".\" in inputstring:\n",
    "        if inputstring.count(\". \") < inputstring.count(\".\")/2:\n",
    "            return False\n",
    "        \n",
    "    #if there's no punctuation per 150 chars, false\n",
    "    if inputstring.count(\".\") + inputstring.count(\",\") + inputstring.count(\"?\") + inputstring.count(\"!\") < int(len(inputstring)/150) + 1:\n",
    "        return False\n",
    "    \n",
    "    return True"
   ]
  },
  {
   "cell_type": "code",
   "execution_count": 279,
   "metadata": {
    "collapsed": false
   },
   "outputs": [
    {
     "name": "stdout",
     "output_type": "stream",
     "text": [
      "True\n",
      "False\n",
      "False\n"
     ]
    }
   ],
   "source": [
    "print(CheckPunctuation(\"This. is? a, sentence. This is another! Are? these. correct?\"))\n",
    "print(CheckPunctuation(\"Thi?is!not.formatted.correctly. The,sentences.run?together!\"))\n",
    "print(CheckPunctuation(\"Thishasnosentencesatall\"))"
   ]
  },
  {
   "cell_type": "code",
   "execution_count": 280,
   "metadata": {
    "collapsed": true
   },
   "outputs": [],
   "source": [
    "def ForbiddenChars(inputstring):\n",
    "    violations = 0\n",
    "    #if rare characters appear too often, not english\n",
    "    \n",
    "    for char in inputstring:\n",
    "        if char in (\"[]{}_@^<>*|%~&#\"):\n",
    "            violations += 1\n",
    "    \n",
    "    if violations > len(inputstring)/100:\n",
    "        return False\n",
    "    else:\n",
    "        return True\n",
    "    "
   ]
  },
  {
   "cell_type": "code",
   "execution_count": 281,
   "metadata": {
    "collapsed": false
   },
   "outputs": [
    {
     "name": "stdout",
     "output_type": "stream",
     "text": [
      "True\n",
      "False\n"
     ]
    }
   ],
   "source": [
    "print(ForbiddenChars(Decryptor(\"god\", \"cipher.txt\")))\n",
    "print(ForbiddenChars(Decryptor(\"abc\", \"cipher.txt\")))"
   ]
  },
  {
   "cell_type": "code",
   "execution_count": 282,
   "metadata": {
    "collapsed": false
   },
   "outputs": [],
   "source": [
    "def FindKey(file):\n",
    "    #http://stackoverflow.com/questions/228730/how-do-i-iterate-through-a-string-in-python\n",
    "    from string import ascii_lowercase\n",
    "    text = \"\"\n",
    "    for a in ascii_lowercase:\n",
    "        for b in ascii_lowercase:\n",
    "            for c in ascii_lowercase:\n",
    "                text = Decryptor(a+b+c, file)\n",
    "                if CheckSpaces(text) == True:\n",
    "                    if CheckPunctuation(text) == True:\n",
    "                        if ForbiddenChars(text) == True:\n",
    "                            print(\"\")\n",
    "                            print(\"Key is \" + a + b + c)\n",
    "                            print(text)"
   ]
  },
  {
   "cell_type": "code",
   "execution_count": 283,
   "metadata": {
    "collapsed": false
   },
   "outputs": [
    {
     "name": "stdout",
     "output_type": "stream",
     "text": [
      "\n",
      "Key is god\n",
      "(The Gospel of John, chapter 1) 1 In the beginning the Word already existed. He was with God, and he was God. 2 He was in the beginning with God. 3 He created everything there is. Nothing exists that he didn't make. 4 Life itself was in him, and this life gives light to everyone. 5 The light shines through the darkness, and the darkness can never extinguish it. 6 God sent John the Baptist 7 to tell everyone about the light so that everyone might believe because of his testimony. 8 John himself was not the light; he was only a witness to the light. 9 The one who is the true light, who gives light to everyone, was going to come into the world. 10 But although the world was made through him, the world didn't recognize him when he came. 11 Even in his own land and among his own people, he was not accepted. 12 But to all who believed him and accepted him, he gave the right to become children of God. 13 They are reborn! This is not a physical birth resulting from human passion or plan, this rebirth comes from God.14 So the Word became human and lived here on earth among us. He was full of unfailing love and faithfulness. And we have seen his glory, the glory of the only Son of the Father.\n"
     ]
    }
   ],
   "source": [
    "FindKey(\"cipher.txt\")"
   ]
  },
  {
   "cell_type": "code",
   "execution_count": null,
   "metadata": {
    "collapsed": true,
    "deletable": false,
    "nbgrader": {
     "checksum": "dcdf6792a88c661545d3ca651212dba8",
     "grade": true,
     "grade_id": "projecteuler59",
     "points": 10
    }
   },
   "outputs": [],
   "source": [
    "# This cell will be used for grading, leave it at the end of the notebook."
   ]
  }
 ],
 "metadata": {
  "kernelspec": {
   "display_name": "Python 3",
   "language": "python",
   "name": "python3"
  },
  "language_info": {
   "codemirror_mode": {
    "name": "ipython",
    "version": 3
   },
   "file_extension": ".py",
   "mimetype": "text/x-python",
   "name": "python",
   "nbconvert_exporter": "python",
   "pygments_lexer": "ipython3",
   "version": "3.4.0"
  }
 },
 "nbformat": 4,
 "nbformat_minor": 0
}
