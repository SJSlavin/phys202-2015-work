{
 "cells": [
  {
   "cell_type": "markdown",
   "metadata": {
    "nbgrader": {}
   },
   "source": [
    "# Interpolation Exercise 1"
   ]
  },
  {
   "cell_type": "code",
   "execution_count": 24,
   "metadata": {
    "collapsed": true,
    "nbgrader": {}
   },
   "outputs": [],
   "source": [
    "%matplotlib inline\n",
    "import matplotlib.pyplot as plt\n",
    "import seaborn as sns\n",
    "import numpy as np"
   ]
  },
  {
   "cell_type": "code",
   "execution_count": 25,
   "metadata": {
    "collapsed": true,
    "nbgrader": {}
   },
   "outputs": [],
   "source": [
    "from scipy.interpolate import interp1d"
   ]
  },
  {
   "cell_type": "markdown",
   "metadata": {
    "nbgrader": {}
   },
   "source": [
    "## 2D trajectory interpolation"
   ]
  },
  {
   "cell_type": "markdown",
   "metadata": {
    "nbgrader": {}
   },
   "source": [
    "The file `trajectory.npz` contains 3 Numpy arrays that describe a 2d trajectory of a particle as a function of time:\n",
    "\n",
    "* `t` which has discrete values of time `t[i]`.\n",
    "* `x` which has values of the x position at those times: `x[i] = x(t[i])`.\n",
    "* `x` which has values of the y position at those times: `y[i] = y(t[i])`.\n",
    "\n",
    "Load those arrays into this notebook and save them as variables `x`, `y` and `t`:"
   ]
  },
  {
   "cell_type": "code",
   "execution_count": 26,
   "metadata": {
    "collapsed": false,
    "deletable": false,
    "nbgrader": {
     "checksum": "6cff4e8e53b15273846c3aecaea84a3d",
     "solution": true
    }
   },
   "outputs": [],
   "source": [
    "# YOUR CODE HERE\n",
    "data = np.load(\"trajectory.npz\")\n",
    "t = data[\"t\"]\n",
    "x = data[\"x\"]\n",
    "y = data[\"y\"]"
   ]
  },
  {
   "cell_type": "code",
   "execution_count": 27,
   "metadata": {
    "collapsed": false,
    "deletable": false,
    "nbgrader": {
     "checksum": "6d28ef77badc258f64b8e8844ce5329b",
     "grade": true,
     "grade_id": "interpolationex01a",
     "points": 4
    }
   },
   "outputs": [],
   "source": [
    "assert isinstance(x, np.ndarray) and len(x)==40\n",
    "assert isinstance(y, np.ndarray) and len(y)==40\n",
    "assert isinstance(t, np.ndarray) and len(t)==40"
   ]
  },
  {
   "cell_type": "markdown",
   "metadata": {
    "nbgrader": {}
   },
   "source": [
    "Use these arrays to create interpolated functions $x(t)$ and $y(t)$. Then use those functions to create the following arrays:\n",
    "\n",
    "* `newt` which has 200 points between $\\{t_{min},t_{max}\\}$.\n",
    "* `newx` which has the interpolated values of $x(t)$ at those times.\n",
    "* `newy` which has the interpolated values of $y(t)$ at those times."
   ]
  },
  {
   "cell_type": "code",
   "execution_count": 37,
   "metadata": {
    "collapsed": false,
    "deletable": false,
    "nbgrader": {
     "checksum": "6cff4e8e53b15273846c3aecaea84a3d",
     "solution": true
    }
   },
   "outputs": [],
   "source": [
    "# YOUR CODE HERE\n",
    "#She turned me into a\n",
    "newt = np.linspace(min(t), max(t), 200)\n",
    "\n",
    "x_approx = interp1d(t, x, kind=\"cubic\")\n",
    "y_approx = interp1d(t, y, kind=\"cubic\")\n",
    "newx = x_approx(newt)\n",
    "newy = y_approx(newt)\n",
    "\n"
   ]
  },
  {
   "cell_type": "code",
   "execution_count": 38,
   "metadata": {
    "collapsed": false,
    "deletable": false,
    "nbgrader": {
     "checksum": "50f3d594bf1df788fd1f281855440611",
     "grade": true,
     "grade_id": "interpolationex01b",
     "points": 4
    }
   },
   "outputs": [],
   "source": [
    "assert newt[0]==t.min()\n",
    "assert newt[-1]==t.max()\n",
    "assert len(newt)==200\n",
    "assert len(newx)==200\n",
    "assert len(newy)==200"
   ]
  },
  {
   "cell_type": "markdown",
   "metadata": {
    "nbgrader": {}
   },
   "source": [
    "Make a parametric plot of $\\{x(t),y(t)\\}$ that shows the interpolated values and the original points:\n",
    "\n",
    "* For the interpolated points, use a solid line.\n",
    "* For the original points, use circles of a different color and no line.\n",
    "* Customize you plot to make it effective and beautiful."
   ]
  },
  {
   "cell_type": "code",
   "execution_count": 47,
   "metadata": {
    "collapsed": false,
    "deletable": false,
    "nbgrader": {
     "checksum": "6cff4e8e53b15273846c3aecaea84a3d",
     "solution": true
    }
   },
   "outputs": [
    {
     "data": {
      "text/plain": [
       "<matplotlib.legend.Legend at 0x7f24d4e54390>"
      ]
     },
     "execution_count": 47,
     "metadata": {},
     "output_type": "execute_result"
    },
    {
     "data": {
      "image/png": "[encoded data removed]",
      "text/plain": [
       "<matplotlib.figure.Figure at 0x7f24d5016b00>"
      ]
     },
     "metadata": {},
     "output_type": "display_data"
    }
   ],
   "source": [
    "# YOUR CODE HERE\n",
    "plt.plot(newx, newy, marker=\"o\", color=\"burlywood\", label=\"Interpolated\")\n",
    "plt.plot(x, y, marker=\"o\", color=\"red\", linestyle=\"\", label=\"Original\")\n",
    "plt.legend(bbox_to_anchor=(1,1), loc=2)"
   ]
  },
  {
   "cell_type": "code",
   "execution_count": null,
   "metadata": {
    "collapsed": true,
    "deletable": false,
    "nbgrader": {
     "checksum": "e9c74ef21797ed1bbacb14dae973b7aa",
     "grade": true,
     "grade_id": "interpolationex01c",
     "points": 2
    }
   },
   "outputs": [],
   "source": [
    "assert True # leave this to grade the trajectory plot"
   ]
  }
 ],
 "metadata": {
  "kernelspec": {
   "display_name": "Python 3",
   "language": "python",
   "name": "python3"
  },
  "language_info": {
   "codemirror_mode": {
    "name": "ipython",
    "version": 3
   },
   "file_extension": ".py",
   "mimetype": "text/x-python",
   "name": "python",
   "nbconvert_exporter": "python",
   "pygments_lexer": "ipython3",
   "version": "3.4.0"
  }
 },
 "nbformat": 4,
 "nbformat_minor": 0
}
