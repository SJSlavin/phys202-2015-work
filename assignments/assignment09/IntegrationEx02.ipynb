{
 "cells": [
  {
   "cell_type": "markdown",
   "metadata": {
    "nbgrader": {}
   },
   "source": [
    "# Integration Exercise 2"
   ]
  },
  {
   "cell_type": "markdown",
   "metadata": {
    "nbgrader": {}
   },
   "source": [
    "## Imports"
   ]
  },
  {
   "cell_type": "code",
   "execution_count": 3,
   "metadata": {
    "collapsed": true,
    "nbgrader": {}
   },
   "outputs": [],
   "source": [
    "%matplotlib inline\n",
    "import matplotlib.pyplot as plt\n",
    "import numpy as np\n",
    "import seaborn as sns\n",
    "from scipy import integrate"
   ]
  },
  {
   "cell_type": "markdown",
   "metadata": {
    "nbgrader": {}
   },
   "source": [
    "## Indefinite integrals"
   ]
  },
  {
   "cell_type": "markdown",
   "metadata": {
    "nbgrader": {}
   },
   "source": [
    "Here is a [table of definite integrals](http://en.wikipedia.org/wiki/List_of_definite_integrals). Many of these integrals has a number of parameters $a$, $b$, etc.\n",
    "\n",
    "Find five of these integrals and perform the following steps:\n",
    "\n",
    "1. Typeset the integral using LateX in a Markdown cell.\n",
    "1. Define an `integrand` function that computes the value of the integrand.\n",
    "2. Define an `integral_approx` funciton that uses `scipy.integrate.quad` to peform the integral.\n",
    "3. Define an `integral_exact` function that computes the exact value of the integral.\n",
    "4. Call and print the return value of `integral_approx` and `integral_exact` for one set of parameters.\n",
    "\n",
    "Here is an example to show what your solutions should look like:"
   ]
  },
  {
   "cell_type": "markdown",
   "metadata": {
    "nbgrader": {}
   },
   "source": [
    "### Example"
   ]
  },
  {
   "cell_type": "markdown",
   "metadata": {
    "collapsed": true,
    "nbgrader": {}
   },
   "source": [
    "Here is the integral I am performing:\n",
    "\n",
    "$$ I_1 = \\int_0^\\infty \\frac{dx}{x^2 + a^2} = \\frac{\\pi}{2a} $$"
   ]
  },
  {
   "cell_type": "code",
   "execution_count": 4,
   "metadata": {
    "collapsed": false,
    "nbgrader": {}
   },
   "outputs": [
    {
     "name": "stdout",
     "output_type": "stream",
     "text": [
      "Numerical:  1.5707963267948966\n",
      "Exact    :  1.5707963267948966\n"
     ]
    }
   ],
   "source": [
    "def integrand(x, a):\n",
    "    return 1.0/(x**2 + a**2)\n",
    "\n",
    "def integral_approx(a):\n",
    "    # Use the args keyword argument to feed extra arguments to your integrand\n",
    "    I, e = integrate.quad(integrand, 0, np.inf, args=(a,))\n",
    "    return I\n",
    "\n",
    "def integral_exact(a):\n",
    "    return 0.5*np.pi/a\n",
    "\n",
    "print(\"Numerical: \", integral_approx(1.0))\n",
    "print(\"Exact    : \", integral_exact(1.0))\n"
   ]
  },
  {
   "cell_type": "code",
   "execution_count": 5,
   "metadata": {
    "collapsed": true,
    "nbgrader": {}
   },
   "outputs": [],
   "source": [
    "assert True # leave this cell to grade the above integral"
   ]
  },
  {
   "cell_type": "markdown",
   "metadata": {
    "nbgrader": {}
   },
   "source": [
    "### Integral 1"
   ]
  },
  {
   "cell_type": "markdown",
   "metadata": {
    "deletable": false,
    "nbgrader": {
     "checksum": "e034fc7ac9c38bbb9c7c87db4b6c8e4e",
     "grade": true,
     "grade_id": "integrationex03a",
     "points": 1,
     "solution": true
    }
   },
   "source": [
    "$$ I = \\int_{-\\infty}^\\infty e^{-(ax^2 + bx + c)} dx = \\sqrt{\\frac{\\pi}{2}} e^\\frac{b^2-4ac}{4a} $$"
   ]
  },
  {
   "cell_type": "code",
   "execution_count": 28,
   "metadata": {
    "collapsed": false,
    "deletable": false,
    "nbgrader": {
     "checksum": "6cff4e8e53b15273846c3aecaea84a3d",
     "solution": true
    }
   },
   "outputs": [
    {
     "name": "stdout",
     "output_type": "stream",
     "text": [
      "Numerical:  0.8372479154447754\n",
      "Exact:      0.837247915445\n"
     ]
    }
   ],
   "source": [
    "# YOUR CODE HERE\n",
    "def integrand1(x, a, b, c):\n",
    "    return np.exp(-(a*x**2 + b*x + c))\n",
    "\n",
    "def integral1_approx(a, b, c):\n",
    "    I, e = integrate.quad(integrand1, -np.inf, np.inf, args=(a,b,c,))\n",
    "    return I\n",
    "\n",
    "def integral1_exact(a, b, c):\n",
    "    return np.sqrt(np.pi/a) * np.exp((b**2 - 4*a*c)/(4*a))\n",
    "\n",
    "print(\"Numerical: \", integral1_approx(1.0, 1.0, 1.0))\n",
    "print(\"Exact:     \", integral1_exact(1.0, 1.0, 1.0))"
   ]
  },
  {
   "cell_type": "code",
   "execution_count": 14,
   "metadata": {
    "collapsed": true,
    "deletable": false,
    "nbgrader": {
     "checksum": "b998cb1faa45ae86f0728d51dfa0e45c",
     "grade": true,
     "grade_id": "integrationex03b",
     "points": 1
    }
   },
   "outputs": [],
   "source": [
    "assert True # leave this cell to grade the above integral"
   ]
  },
  {
   "cell_type": "markdown",
   "metadata": {
    "nbgrader": {}
   },
   "source": [
    "### Integral 2"
   ]
  },
  {
   "cell_type": "markdown",
   "metadata": {
    "deletable": false,
    "nbgrader": {
     "checksum": "c3191d99083f6d7cf804f95876e8a624",
     "grade": true,
     "grade_id": "integrationex03c",
     "points": 1,
     "solution": true
    }
   },
   "source": [
    "$$ I = \\int_0^\\frac{\\pi}{2} \\sin^2 px dx = \\frac{\\pi}{4} $$\n"
   ]
  },
  {
   "cell_type": "code",
   "execution_count": 15,
   "metadata": {
    "collapsed": false,
    "deletable": false,
    "nbgrader": {
     "checksum": "6cff4e8e53b15273846c3aecaea84a3d",
     "solution": true
    }
   },
   "outputs": [
    {
     "name": "stdout",
     "output_type": "stream",
     "text": [
      "Numerical:  0.7853981633974483\n",
      "Exact:      0.7853981633974483\n"
     ]
    }
   ],
   "source": [
    "# YOUR CODE HERE\n",
    "def integrand2(x, p):\n",
    "    \n",
    "    return (np.sin(p*x))**2\n",
    "\n",
    "def integral2_approx(p):\n",
    "    I, e = integrate.quad(integrand2, 0, 0.5*np.pi, args=(p,))\n",
    "    return I\n",
    "\n",
    "def integral2_exact(p):\n",
    "        return 0.25*np.pi\n",
    "\n",
    "    \n",
    "print(\"Numerical: \", integral2_approx(1.0))\n",
    "print(\"Exact:     \", integral2_exact(1.0))\n",
    "#numerical result is around 10* actual result"
   ]
  },
  {
   "cell_type": "code",
   "execution_count": 16,
   "metadata": {
    "collapsed": true,
    "deletable": false,
    "nbgrader": {
     "checksum": "4e20de120f0c45ba666f10ba9a6c82d8",
     "grade": true,
     "grade_id": "integrationex03d",
     "points": 1
    }
   },
   "outputs": [],
   "source": [
    "assert True # leave this cell to grade the above integral"
   ]
  },
  {
   "cell_type": "markdown",
   "metadata": {
    "nbgrader": {}
   },
   "source": [
    "### Integral 3"
   ]
  },
  {
   "cell_type": "markdown",
   "metadata": {
    "deletable": false,
    "nbgrader": {
     "checksum": "c65f5242f7fa5525523b89899f6ca251",
     "grade": true,
     "grade_id": "integrationex03e",
     "points": 1,
     "solution": true
    }
   },
   "source": [
    "$$ I = \\int_0^\\infty \\frac{1 - \\cos px}{x^2} dx = \\frac{\\pi p}{2} $$"
   ]
  },
  {
   "cell_type": "code",
   "execution_count": 18,
   "metadata": {
    "collapsed": false,
    "deletable": false,
    "nbgrader": {
     "checksum": "6cff4e8e53b15273846c3aecaea84a3d",
     "solution": true
    }
   },
   "outputs": [
    {
     "name": "stdout",
     "output_type": "stream",
     "text": [
      "Numerical:  4.713393375355865\n",
      "Exact:      4.71238898038469\n"
     ]
    }
   ],
   "source": [
    "def integrand3(x, p):\n",
    "    return (1 - np.cos(p*x))/x**2\n",
    "\n",
    "def integral3_approx(p):\n",
    "    I, e = integrate.quad(integrand3, 0, np.inf, args=(p,))\n",
    "    return I\n",
    "\n",
    "def integral3_exact(p):\n",
    "    return 0.5*p*np.pi\n",
    "\n",
    "print(\"Numerical: \", integral3_approx(3.0))\n",
    "print(\"Exact:     \", integral3_exact(3.0))"
   ]
  },
  {
   "cell_type": "code",
   "execution_count": null,
   "metadata": {
    "collapsed": true,
    "deletable": false,
    "nbgrader": {
     "checksum": "8c60d256fe8559e423cf8946ae70ba8d",
     "grade": true,
     "grade_id": "integrationex03f",
     "points": 1
    }
   },
   "outputs": [],
   "source": [
    "assert True # leave this cell to grade the above integral"
   ]
  },
  {
   "cell_type": "markdown",
   "metadata": {
    "nbgrader": {}
   },
   "source": [
    "### Integral 4"
   ]
  },
  {
   "cell_type": "markdown",
   "metadata": {
    "deletable": false,
    "nbgrader": {
     "checksum": "3a5d3b2070c78b64152c96681e8e6585",
     "grade": true,
     "grade_id": "integrationex03g",
     "points": 1,
     "solution": true
    }
   },
   "source": [
    "$$ I = \\int_0^1 \\frac{\\ln x}{1+x} dx = - \\frac{\\pi^2}{12} $$"
   ]
  },
  {
   "cell_type": "code",
   "execution_count": 20,
   "metadata": {
    "collapsed": false,
    "deletable": false,
    "nbgrader": {
     "checksum": "6cff4e8e53b15273846c3aecaea84a3d",
     "solution": true
    }
   },
   "outputs": [
    {
     "name": "stdout",
     "output_type": "stream",
     "text": [
      "Numerical:  -0.8224670334241143\n",
      "Exact:      -0.8224670334241132\n"
     ]
    }
   ],
   "source": [
    "def integrand4(x):\n",
    "    return np.log(x)/(1 + x)\n",
    "\n",
    "def integral4_approx():\n",
    "    I, e = integrate.quad(integrand4, 0, 1)\n",
    "    return I\n",
    "\n",
    "def integral4_exact():\n",
    "    return -(np.pi**2)/12\n",
    "\n",
    "print(\"Numerical: \", integral4_approx())\n",
    "print(\"Exact:     \", integral4_exact())"
   ]
  },
  {
   "cell_type": "code",
   "execution_count": null,
   "metadata": {
    "collapsed": true,
    "deletable": false,
    "nbgrader": {
     "checksum": "88acfb75979c6551c8b3af758cd86acc",
     "grade": true,
     "grade_id": "integrationex03h",
     "points": 1
    }
   },
   "outputs": [],
   "source": [
    "assert True # leave this cell to grade the above integral"
   ]
  },
  {
   "cell_type": "markdown",
   "metadata": {
    "nbgrader": {}
   },
   "source": [
    "### Integral 5"
   ]
  },
  {
   "cell_type": "markdown",
   "metadata": {
    "deletable": false,
    "nbgrader": {
     "checksum": "9dbb9f1159b3c089e60dd167d973cc59",
     "grade": true,
     "grade_id": "integrationex03i",
     "points": 1,
     "solution": true
    }
   },
   "source": [
    "$$ I = \\int_0^\\infty \\frac{x}{\\sinh ax} dx = \\frac{\\pi^2}{4a^2} $$"
   ]
  },
  {
   "cell_type": "code",
   "execution_count": 22,
   "metadata": {
    "collapsed": false,
    "deletable": false,
    "nbgrader": {
     "checksum": "6cff4e8e53b15273846c3aecaea84a3d",
     "solution": true
    }
   },
   "outputs": [
    {
     "name": "stdout",
     "output_type": "stream",
     "text": [
      "Numerical:  0.6168502750680847\n",
      "Exact:      0.6168502750680849\n"
     ]
    }
   ],
   "source": [
    "def integrand5(x, a):\n",
    "    return x/np.sinh(a*x)\n",
    "\n",
    "def integral5_approx(a):\n",
    "    I, e = integrate.quad(integrand5, 0, np.inf, args=(a,))\n",
    "    return I\n",
    "\n",
    "def integral5_exact(a):\n",
    "    return (np.pi**2)/(4*a**2)\n",
    "\n",
    "print(\"Numerical: \", integral5_approx(2.0))\n",
    "print(\"Exact:     \", integral5_exact(2.0))"
   ]
  },
  {
   "cell_type": "code",
   "execution_count": null,
   "metadata": {
    "collapsed": true,
    "deletable": false,
    "nbgrader": {
     "checksum": "34f6cf778698f4b90fdadc09c2a0f120",
     "grade": true,
     "grade_id": "integrationex03j",
     "points": 1
    }
   },
   "outputs": [],
   "source": [
    "assert True # leave this cell to grade the above integral"
   ]
  }
 ],
 "metadata": {
  "kernelspec": {
   "display_name": "Python 3",
   "language": "python",
   "name": "python3"
  },
  "language_info": {
   "codemirror_mode": {
    "name": "ipython",
    "version": 3
   },
   "file_extension": ".py",
   "mimetype": "text/x-python",
   "name": "python",
   "nbconvert_exporter": "python",
   "pygments_lexer": "ipython3",
   "version": "3.4.0"
  }
 },
 "nbformat": 4,
 "nbformat_minor": 0
}
