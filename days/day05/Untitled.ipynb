{
 "cells": [
  {
   "cell_type": "code",
   "execution_count": 4,
   "metadata": {
    "collapsed": true
   },
   "outputs": [],
   "source": [
    "%matplotlib inline\n",
    "from matplotlib import pyplot as plt\n",
    "import seaborn as sns"
   ]
  },
  {
   "cell_type": "code",
   "execution_count": 5,
   "metadata": {
    "collapsed": false
   },
   "outputs": [
    {
     "name": "stdout",
     "output_type": "stream",
     "text": [
      "Downloading:  https://raw.githubusercontent.com/ellisonbg/misc/master/vizarray.py\n",
      "Using existing version:  github.ellisonbg.misc.vizarray\n"
     ]
    }
   ],
   "source": [
    "import antipackage\n",
    "from github.ellisonbg.misc import vizarray as va"
   ]
  },
  {
   "cell_type": "code",
   "execution_count": 6,
   "metadata": {
    "collapsed": true
   },
   "outputs": [],
   "source": [
    "import numpy as np"
   ]
  },
  {
   "cell_type": "code",
   "execution_count": 7,
   "metadata": {
    "collapsed": false
   },
   "outputs": [
    {
     "data": {
      "text/plain": [
       "array([[ 0.1,  0.1,  0.1],\n",
       "       [ 0.1,  0.1,  0.1],\n",
       "       [ 0.1,  0.1,  0.1]])"
      ]
     },
     "execution_count": 7,
     "metadata": {},
     "output_type": "execute_result"
    }
   ],
   "source": [
    "a = np.empty((3,3))\n",
    "a.fill(0.1)\n",
    "a"
   ]
  },
  {
   "cell_type": "code",
   "execution_count": 8,
   "metadata": {
    "collapsed": false
   },
   "outputs": [
    {
     "data": {
      "text/plain": [
       "array([[ 1.,  1.,  1.],\n",
       "       [ 1.,  1.,  1.],\n",
       "       [ 1.,  1.,  1.]])"
      ]
     },
     "execution_count": 8,
     "metadata": {},
     "output_type": "execute_result"
    }
   ],
   "source": [
    "b = np.ones((3,3))\n",
    "b"
   ]
  },
  {
   "cell_type": "code",
   "execution_count": 9,
   "metadata": {
    "collapsed": false
   },
   "outputs": [
    {
     "data": {
      "text/plain": [
       "array([[ 1.1,  1.1,  1.1],\n",
       "       [ 1.1,  1.1,  1.1],\n",
       "       [ 1.1,  1.1,  1.1]])"
      ]
     },
     "execution_count": 9,
     "metadata": {},
     "output_type": "execute_result"
    }
   ],
   "source": [
    "a+b"
   ]
  },
  {
   "cell_type": "code",
   "execution_count": 10,
   "metadata": {
    "collapsed": false
   },
   "outputs": [
    {
     "data": {
      "text/plain": [
       "array([[ 10.,  10.,  10.],\n",
       "       [ 10.,  10.,  10.],\n",
       "       [ 10.,  10.,  10.]])"
      ]
     },
     "execution_count": 10,
     "metadata": {},
     "output_type": "execute_result"
    }
   ],
   "source": [
    "b/a"
   ]
  },
  {
   "cell_type": "code",
   "execution_count": 11,
   "metadata": {
    "collapsed": false
   },
   "outputs": [
    {
     "data": {
      "text/plain": [
       "array([[ 0.01,  0.01,  0.01],\n",
       "       [ 0.01,  0.01,  0.01],\n",
       "       [ 0.01,  0.01,  0.01]])"
      ]
     },
     "execution_count": 11,
     "metadata": {},
     "output_type": "execute_result"
    }
   ],
   "source": [
    "a**2"
   ]
  },
  {
   "cell_type": "code",
   "execution_count": 12,
   "metadata": {
    "collapsed": false
   },
   "outputs": [
    {
     "data": {
      "text/plain": [
       "array([[ 3.14159265,  3.14159265,  3.14159265],\n",
       "       [ 3.14159265,  3.14159265,  3.14159265],\n",
       "       [ 3.14159265,  3.14159265,  3.14159265]])"
      ]
     },
     "execution_count": 12,
     "metadata": {},
     "output_type": "execute_result"
    }
   ],
   "source": [
    "np.pi*b"
   ]
  },
  {
   "cell_type": "code",
   "execution_count": 13,
   "metadata": {
    "collapsed": true
   },
   "outputs": [],
   "source": [
    "a = np.random.rand(10,10)"
   ]
  },
  {
   "cell_type": "code",
   "execution_count": 14,
   "metadata": {
    "collapsed": true
   },
   "outputs": [],
   "source": [
    "va.enable()"
   ]
  },
  {
   "cell_type": "code",
   "execution_count": 15,
   "metadata": {
    "collapsed": false
   },
   "outputs": [
    {
     "data": {
      "text/html": [
       "<style type=\"text/css\">table.blockgrid {border: none;} .blockgrid tr {border: none;} .blockgrid td {padding: 0px;} #blocksa50a7d95-5060-45c1-b1ca-81f1563d88a3 td {border: 1px solid white;}</style><table id=\"blocksa50a7d95-5060-45c1-b1ca-81f1563d88a3\" class=\"blockgrid\"><tbody><tr><td title=\"Index: [0, 0]&#10;Color: (191, 216, 237)\" style=\"width: 30px; height: 30px;background-color: rgb(191, 216, 237);\"></td><td title=\"Index: [0, 1]&#10;Color: (141, 193, 221)\" style=\"width: 30px; height: 30px;background-color: rgb(141, 193, 221);\"></td><td title=\"Index: [0, 2]&#10;Color: (163, 204, 227)\" style=\"width: 30px; height: 30px;background-color: rgb(163, 204, 227);\"></td><td title=\"Index: [0, 3]&#10;Color: (239, 246, 252)\" style=\"width: 30px; height: 30px;background-color: rgb(239, 246, 252);\"></td><td title=\"Index: [0, 4]&#10;Color: (8, 48, 107)\" style=\"width: 30px; height: 30px;background-color: rgb(8, 48, 107);\"></td><td title=\"Index: [0, 5]&#10;Color: (225, 237, 248)\" style=\"width: 30px; height: 30px;background-color: rgb(225, 237, 248);\"></td><td title=\"Index: [0, 6]&#10;Color: (8, 81, 156)\" style=\"width: 30px; height: 30px;background-color: rgb(8, 81, 156);\"></td><td title=\"Index: [0, 7]&#10;Color: (224, 236, 248)\" style=\"width: 30px; height: 30px;background-color: rgb(224, 236, 248);\"></td><td title=\"Index: [0, 8]&#10;Color: (12, 86, 160)\" style=\"width: 30px; height: 30px;background-color: rgb(12, 86, 160);\"></td><td title=\"Index: [0, 9]&#10;Color: (95, 166, 209)\" style=\"width: 30px; height: 30px;background-color: rgb(95, 166, 209);\"></td></tr><tr><td title=\"Index: [1, 0]&#10;Color: (143, 194, 222)\" style=\"width: 30px; height: 30px;background-color: rgb(143, 194, 222);\"></td><td title=\"Index: [1, 1]&#10;Color: (111, 176, 215)\" style=\"width: 30px; height: 30px;background-color: rgb(111, 176, 215);\"></td><td title=\"Index: [1, 2]&#10;Color: (244, 249, 254)\" style=\"width: 30px; height: 30px;background-color: rgb(244, 249, 254);\"></td><td title=\"Index: [1, 3]&#10;Color: (70, 149, 200)\" style=\"width: 30px; height: 30px;background-color: rgb(70, 149, 200);\"></td><td title=\"Index: [1, 4]&#10;Color: (49, 129, 189)\" style=\"width: 30px; height: 30px;background-color: rgb(49, 129, 189);\"></td><td title=\"Index: [1, 5]&#10;Color: (14, 89, 162)\" style=\"width: 30px; height: 30px;background-color: rgb(14, 89, 162);\"></td><td title=\"Index: [1, 6]&#10;Color: (75, 152, 202)\" style=\"width: 30px; height: 30px;background-color: rgb(75, 152, 202);\"></td><td title=\"Index: [1, 7]&#10;Color: (133, 188, 220)\" style=\"width: 30px; height: 30px;background-color: rgb(133, 188, 220);\"></td><td title=\"Index: [1, 8]&#10;Color: (54, 134, 192)\" style=\"width: 30px; height: 30px;background-color: rgb(54, 134, 192);\"></td><td title=\"Index: [1, 9]&#10;Color: (111, 176, 215)\" style=\"width: 30px; height: 30px;background-color: rgb(111, 176, 215);\"></td></tr><tr><td title=\"Index: [2, 0]&#10;Color: (124, 183, 218)\" style=\"width: 30px; height: 30px;background-color: rgb(124, 183, 218);\"></td><td title=\"Index: [2, 1]&#10;Color: (200, 220, 240)\" style=\"width: 30px; height: 30px;background-color: rgb(200, 220, 240);\"></td><td title=\"Index: [2, 2]&#10;Color: (173, 208, 230)\" style=\"width: 30px; height: 30px;background-color: rgb(173, 208, 230);\"></td><td title=\"Index: [2, 3]&#10;Color: (231, 241, 250)\" style=\"width: 30px; height: 30px;background-color: rgb(231, 241, 250);\"></td><td title=\"Index: [2, 4]&#10;Color: (10, 83, 158)\" style=\"width: 30px; height: 30px;background-color: rgb(10, 83, 158);\"></td><td title=\"Index: [2, 5]&#10;Color: (171, 208, 230)\" style=\"width: 30px; height: 30px;background-color: rgb(171, 208, 230);\"></td><td title=\"Index: [2, 6]&#10;Color: (185, 214, 234)\" style=\"width: 30px; height: 30px;background-color: rgb(185, 214, 234);\"></td><td title=\"Index: [2, 7]&#10;Color: (8, 57, 121)\" style=\"width: 30px; height: 30px;background-color: rgb(8, 57, 121);\"></td><td title=\"Index: [2, 8]&#10;Color: (247, 251, 255)\" style=\"width: 30px; height: 30px;background-color: rgb(247, 251, 255);\"></td><td title=\"Index: [2, 9]&#10;Color: (201, 221, 240)\" style=\"width: 30px; height: 30px;background-color: rgb(201, 221, 240);\"></td></tr><tr><td title=\"Index: [3, 0]&#10;Color: (135, 189, 220)\" style=\"width: 30px; height: 30px;background-color: rgb(135, 189, 220);\"></td><td title=\"Index: [3, 1]&#10;Color: (211, 227, 243)\" style=\"width: 30px; height: 30px;background-color: rgb(211, 227, 243);\"></td><td title=\"Index: [3, 2]&#10;Color: (91, 163, 208)\" style=\"width: 30px; height: 30px;background-color: rgb(91, 163, 208);\"></td><td title=\"Index: [3, 3]&#10;Color: (61, 141, 196)\" style=\"width: 30px; height: 30px;background-color: rgb(61, 141, 196);\"></td><td title=\"Index: [3, 4]&#10;Color: (49, 129, 189)\" style=\"width: 30px; height: 30px;background-color: rgb(49, 129, 189);\"></td><td title=\"Index: [3, 5]&#10;Color: (11, 85, 159)\" style=\"width: 30px; height: 30px;background-color: rgb(11, 85, 159);\"></td><td title=\"Index: [3, 6]&#10;Color: (15, 90, 163)\" style=\"width: 30px; height: 30px;background-color: rgb(15, 90, 163);\"></td><td title=\"Index: [3, 7]&#10;Color: (37, 117, 183)\" style=\"width: 30px; height: 30px;background-color: rgb(37, 117, 183);\"></td><td title=\"Index: [3, 8]&#10;Color: (214, 230, 244)\" style=\"width: 30px; height: 30px;background-color: rgb(214, 230, 244);\"></td><td title=\"Index: [3, 9]&#10;Color: (208, 226, 242)\" style=\"width: 30px; height: 30px;background-color: rgb(208, 226, 242);\"></td></tr><tr><td title=\"Index: [4, 0]&#10;Color: (8, 74, 145)\" style=\"width: 30px; height: 30px;background-color: rgb(8, 74, 145);\"></td><td title=\"Index: [4, 1]&#10;Color: (52, 132, 191)\" style=\"width: 30px; height: 30px;background-color: rgb(52, 132, 191);\"></td><td title=\"Index: [4, 2]&#10;Color: (58, 138, 194)\" style=\"width: 30px; height: 30px;background-color: rgb(58, 138, 194);\"></td><td title=\"Index: [4, 3]&#10;Color: (211, 227, 243)\" style=\"width: 30px; height: 30px;background-color: rgb(211, 227, 243);\"></td><td title=\"Index: [4, 4]&#10;Color: (8, 61, 127)\" style=\"width: 30px; height: 30px;background-color: rgb(8, 61, 127);\"></td><td title=\"Index: [4, 5]&#10;Color: (196, 218, 238)\" style=\"width: 30px; height: 30px;background-color: rgb(196, 218, 238);\"></td><td title=\"Index: [4, 6]&#10;Color: (235, 243, 251)\" style=\"width: 30px; height: 30px;background-color: rgb(235, 243, 251);\"></td><td title=\"Index: [4, 7]&#10;Color: (17, 92, 165)\" style=\"width: 30px; height: 30px;background-color: rgb(17, 92, 165);\"></td><td title=\"Index: [4, 8]&#10;Color: (9, 82, 157)\" style=\"width: 30px; height: 30px;background-color: rgb(9, 82, 157);\"></td><td title=\"Index: [4, 9]&#10;Color: (63, 143, 197)\" style=\"width: 30px; height: 30px;background-color: rgb(63, 143, 197);\"></td></tr><tr><td title=\"Index: [5, 0]&#10;Color: (70, 149, 200)\" style=\"width: 30px; height: 30px;background-color: rgb(70, 149, 200);\"></td><td title=\"Index: [5, 1]&#10;Color: (217, 232, 245)\" style=\"width: 30px; height: 30px;background-color: rgb(217, 232, 245);\"></td><td title=\"Index: [5, 2]&#10;Color: (55, 135, 192)\" style=\"width: 30px; height: 30px;background-color: rgb(55, 135, 192);\"></td><td title=\"Index: [5, 3]&#10;Color: (8, 77, 150)\" style=\"width: 30px; height: 30px;background-color: rgb(8, 77, 150);\"></td><td title=\"Index: [5, 4]&#10;Color: (247, 251, 255)\" style=\"width: 30px; height: 30px;background-color: rgb(247, 251, 255);\"></td><td title=\"Index: [5, 5]&#10;Color: (217, 231, 245)\" style=\"width: 30px; height: 30px;background-color: rgb(217, 231, 245);\"></td><td title=\"Index: [5, 6]&#10;Color: (51, 131, 190)\" style=\"width: 30px; height: 30px;background-color: rgb(51, 131, 190);\"></td><td title=\"Index: [5, 7]&#10;Color: (186, 214, 235)\" style=\"width: 30px; height: 30px;background-color: rgb(186, 214, 235);\"></td><td title=\"Index: [5, 8]&#10;Color: (209, 226, 243)\" style=\"width: 30px; height: 30px;background-color: rgb(209, 226, 243);\"></td><td title=\"Index: [5, 9]&#10;Color: (11, 85, 159)\" style=\"width: 30px; height: 30px;background-color: rgb(11, 85, 159);\"></td></tr><tr><td title=\"Index: [6, 0]&#10;Color: (213, 229, 244)\" style=\"width: 30px; height: 30px;background-color: rgb(213, 229, 244);\"></td><td title=\"Index: [6, 1]&#10;Color: (220, 234, 246)\" style=\"width: 30px; height: 30px;background-color: rgb(220, 234, 246);\"></td><td title=\"Index: [6, 2]&#10;Color: (170, 207, 229)\" style=\"width: 30px; height: 30px;background-color: rgb(170, 207, 229);\"></td><td title=\"Index: [6, 3]&#10;Color: (93, 165, 209)\" style=\"width: 30px; height: 30px;background-color: rgb(93, 165, 209);\"></td><td title=\"Index: [6, 4]&#10;Color: (84, 159, 205)\" style=\"width: 30px; height: 30px;background-color: rgb(84, 159, 205);\"></td><td title=\"Index: [6, 5]&#10;Color: (70, 149, 200)\" style=\"width: 30px; height: 30px;background-color: rgb(70, 149, 200);\"></td><td title=\"Index: [6, 6]&#10;Color: (65, 145, 198)\" style=\"width: 30px; height: 30px;background-color: rgb(65, 145, 198);\"></td><td title=\"Index: [6, 7]&#10;Color: (22, 99, 170)\" style=\"width: 30px; height: 30px;background-color: rgb(22, 99, 170);\"></td><td title=\"Index: [6, 8]&#10;Color: (215, 230, 245)\" style=\"width: 30px; height: 30px;background-color: rgb(215, 230, 245);\"></td><td title=\"Index: [6, 9]&#10;Color: (200, 220, 240)\" style=\"width: 30px; height: 30px;background-color: rgb(200, 220, 240);\"></td></tr><tr><td title=\"Index: [7, 0]&#10;Color: (8, 55, 118)\" style=\"width: 30px; height: 30px;background-color: rgb(8, 55, 118);\"></td><td title=\"Index: [7, 1]&#10;Color: (223, 236, 247)\" style=\"width: 30px; height: 30px;background-color: rgb(223, 236, 247);\"></td><td title=\"Index: [7, 2]&#10;Color: (32, 111, 180)\" style=\"width: 30px; height: 30px;background-color: rgb(32, 111, 180);\"></td><td title=\"Index: [7, 3]&#10;Color: (210, 227, 243)\" style=\"width: 30px; height: 30px;background-color: rgb(210, 227, 243);\"></td><td title=\"Index: [7, 4]&#10;Color: (143, 194, 222)\" style=\"width: 30px; height: 30px;background-color: rgb(143, 194, 222);\"></td><td title=\"Index: [7, 5]&#10;Color: (232, 241, 250)\" style=\"width: 30px; height: 30px;background-color: rgb(232, 241, 250);\"></td><td title=\"Index: [7, 6]&#10;Color: (60, 140, 195)\" style=\"width: 30px; height: 30px;background-color: rgb(60, 140, 195);\"></td><td title=\"Index: [7, 7]&#10;Color: (64, 144, 197)\" style=\"width: 30px; height: 30px;background-color: rgb(64, 144, 197);\"></td><td title=\"Index: [7, 8]&#10;Color: (8, 78, 152)\" style=\"width: 30px; height: 30px;background-color: rgb(8, 78, 152);\"></td><td title=\"Index: [7, 9]&#10;Color: (8, 67, 135)\" style=\"width: 30px; height: 30px;background-color: rgb(8, 67, 135);\"></td></tr><tr><td title=\"Index: [8, 0]&#10;Color: (240, 246, 253)\" style=\"width: 30px; height: 30px;background-color: rgb(240, 246, 253);\"></td><td title=\"Index: [8, 1]&#10;Color: (36, 116, 183)\" style=\"width: 30px; height: 30px;background-color: rgb(36, 116, 183);\"></td><td title=\"Index: [8, 2]&#10;Color: (10, 84, 158)\" style=\"width: 30px; height: 30px;background-color: rgb(10, 84, 158);\"></td><td title=\"Index: [8, 3]&#10;Color: (169, 207, 229)\" style=\"width: 30px; height: 30px;background-color: rgb(169, 207, 229);\"></td><td title=\"Index: [8, 4]&#10;Color: (15, 90, 163)\" style=\"width: 30px; height: 30px;background-color: rgb(15, 90, 163);\"></td><td title=\"Index: [8, 5]&#10;Color: (109, 175, 215)\" style=\"width: 30px; height: 30px;background-color: rgb(109, 175, 215);\"></td><td title=\"Index: [8, 6]&#10;Color: (244, 249, 254)\" style=\"width: 30px; height: 30px;background-color: rgb(244, 249, 254);\"></td><td title=\"Index: [8, 7]&#10;Color: (28, 107, 176)\" style=\"width: 30px; height: 30px;background-color: rgb(28, 107, 176);\"></td><td title=\"Index: [8, 8]&#10;Color: (156, 201, 225)\" style=\"width: 30px; height: 30px;background-color: rgb(156, 201, 225);\"></td><td title=\"Index: [8, 9]&#10;Color: (186, 214, 235)\" style=\"width: 30px; height: 30px;background-color: rgb(186, 214, 235);\"></td></tr><tr><td title=\"Index: [9, 0]&#10;Color: (8, 56, 119)\" style=\"width: 30px; height: 30px;background-color: rgb(8, 56, 119);\"></td><td title=\"Index: [9, 1]&#10;Color: (8, 73, 144)\" style=\"width: 30px; height: 30px;background-color: rgb(8, 73, 144);\"></td><td title=\"Index: [9, 2]&#10;Color: (171, 208, 230)\" style=\"width: 30px; height: 30px;background-color: rgb(171, 208, 230);\"></td><td title=\"Index: [9, 3]&#10;Color: (157, 202, 225)\" style=\"width: 30px; height: 30px;background-color: rgb(157, 202, 225);\"></td><td title=\"Index: [9, 4]&#10;Color: (165, 205, 227)\" style=\"width: 30px; height: 30px;background-color: rgb(165, 205, 227);\"></td><td title=\"Index: [9, 5]&#10;Color: (143, 194, 222)\" style=\"width: 30px; height: 30px;background-color: rgb(143, 194, 222);\"></td><td title=\"Index: [9, 6]&#10;Color: (193, 217, 237)\" style=\"width: 30px; height: 30px;background-color: rgb(193, 217, 237);\"></td><td title=\"Index: [9, 7]&#10;Color: (140, 192, 221)\" style=\"width: 30px; height: 30px;background-color: rgb(140, 192, 221);\"></td><td title=\"Index: [9, 8]&#10;Color: (157, 202, 225)\" style=\"width: 30px; height: 30px;background-color: rgb(157, 202, 225);\"></td><td title=\"Index: [9, 9]&#10;Color: (8, 71, 141)\" style=\"width: 30px; height: 30px;background-color: rgb(8, 71, 141);\"></td></tr></tbody></table>"
      ],
      "text/plain": [
       "array([[  2.71207542e-01,   4.13914357e-01,   3.61623498e-01,\n",
       "          4.11740772e-02,   9.98035616e-01,   1.10714067e-01,\n",
       "          8.73304642e-01,   1.16570921e-01,   8.53343571e-01,\n",
       "          5.37796093e-01],\n",
       "       [  4.12196701e-01,   4.88275936e-01,   1.71221816e-02,\n",
       "          6.11033081e-01,   6.87414072e-01,   8.40313772e-01,\n",
       "          5.94250290e-01,   4.33912787e-01,   6.69988618e-01,\n",
       "          4.90754273e-01],\n",
       "       [  4.60187762e-01,   2.41057063e-01,   3.28530291e-01,\n",
       "          8.08597846e-02,   8.62127178e-01,   3.35354390e-01,\n",
       "          2.91608960e-01,   9.59243198e-01,   7.38367517e-04,\n",
       "          2.36835264e-01],\n",
       "       [  4.33150665e-01,   1.85318842e-01,   5.46289960e-01,\n",
       "          6.39691030e-01,   6.88085706e-01,   8.56132085e-01,\n",
       "          8.35075297e-01,   7.30102816e-01,   1.65435163e-01,\n",
       "          1.99378102e-01],\n",
       "       [  8.99234057e-01,   6.74982380e-01,   6.51591461e-01,\n",
       "          1.85205666e-01,   9.45311209e-01,   2.56001958e-01,\n",
       "          6.18882099e-02,   8.28307703e-01,   8.66188490e-01,\n",
       "          6.32069419e-01],\n",
       "       [  6.10103095e-01,   1.51748184e-01,   6.63875358e-01,\n",
       "          8.88417901e-01,   1.01265455e-03,   1.53829188e-01,\n",
       "          6.79050926e-01,   2.87233218e-01,   1.94963092e-01,\n",
       "          8.55028891e-01],\n",
       "       [  1.72921161e-01,   1.34392466e-01,   3.35974346e-01,\n",
       "          5.38350721e-01,   5.65961380e-01,   6.10476710e-01,\n",
       "          6.26874572e-01,   8.00185980e-01,   1.62705508e-01,\n",
       "          2.39437623e-01],\n",
       "       [  9.68091012e-01,   1.17667059e-01,   7.54068730e-01,\n",
       "          1.89655570e-01,   4.12964585e-01,   7.75916872e-02,\n",
       "          6.46065779e-01,   6.31342549e-01,   8.81912388e-01,\n",
       "          9.24519866e-01],\n",
       "       [  3.65625416e-02,   7.35705596e-01,   8.61366032e-01,\n",
       "          3.43146615e-01,   8.34720938e-01,   4.95483916e-01,\n",
       "          1.73266225e-02,   7.68549352e-01,   3.79691801e-01,\n",
       "          2.85360596e-01],\n",
       "       [  9.64186534e-01,   9.01877070e-01,   3.32281061e-01,\n",
       "          3.77784121e-01,   3.53839167e-01,   4.10449613e-01,\n",
       "          2.67810033e-01,   4.21096742e-01,   3.75341452e-01,\n",
       "          9.09675834e-01]])"
      ]
     },
     "execution_count": 15,
     "metadata": {},
     "output_type": "execute_result"
    }
   ],
   "source": [
    "a"
   ]
  },
  {
   "cell_type": "code",
   "execution_count": 16,
   "metadata": {
    "collapsed": false
   },
   "outputs": [
    {
     "data": {
      "text/plain": [
       "0.27120754215927823"
      ]
     },
     "execution_count": 16,
     "metadata": {},
     "output_type": "execute_result"
    }
   ],
   "source": [
    "a[0,0]"
   ]
  },
  {
   "cell_type": "code",
   "execution_count": 17,
   "metadata": {
    "collapsed": false
   },
   "outputs": [
    {
     "data": {
      "text/plain": [
       "True"
      ]
     },
     "execution_count": 17,
     "metadata": {},
     "output_type": "execute_result"
    }
   ],
   "source": [
    "a[-1,-1] == a[9,9]"
   ]
  },
  {
   "cell_type": "code",
   "execution_count": 18,
   "metadata": {
    "collapsed": false
   },
   "outputs": [
    {
     "data": {
      "text/html": [
       "<style type=\"text/css\">table.blockgrid {border: none;} .blockgrid tr {border: none;} .blockgrid td {padding: 0px;} #blocksd4106cc3-5416-48e0-8923-5f6087879352 td {border: 1px solid white;}</style><table id=\"blocksd4106cc3-5416-48e0-8923-5f6087879352\" class=\"blockgrid\"><tbody><tr><td title=\"Index: [0, 0]&#10;Color: (191, 216, 237)\" style=\"width: 30px; height: 30px;background-color: rgb(191, 216, 237);\"></td><td title=\"Index: [0, 1]&#10;Color: (143, 194, 222)\" style=\"width: 30px; height: 30px;background-color: rgb(143, 194, 222);\"></td><td title=\"Index: [0, 2]&#10;Color: (124, 183, 218)\" style=\"width: 30px; height: 30px;background-color: rgb(124, 183, 218);\"></td><td title=\"Index: [0, 3]&#10;Color: (135, 189, 220)\" style=\"width: 30px; height: 30px;background-color: rgb(135, 189, 220);\"></td><td title=\"Index: [0, 4]&#10;Color: (8, 74, 145)\" style=\"width: 30px; height: 30px;background-color: rgb(8, 74, 145);\"></td><td title=\"Index: [0, 5]&#10;Color: (70, 149, 200)\" style=\"width: 30px; height: 30px;background-color: rgb(70, 149, 200);\"></td><td title=\"Index: [0, 6]&#10;Color: (213, 229, 244)\" style=\"width: 30px; height: 30px;background-color: rgb(213, 229, 244);\"></td><td title=\"Index: [0, 7]&#10;Color: (8, 55, 118)\" style=\"width: 30px; height: 30px;background-color: rgb(8, 55, 118);\"></td><td title=\"Index: [0, 8]&#10;Color: (240, 246, 253)\" style=\"width: 30px; height: 30px;background-color: rgb(240, 246, 253);\"></td><td title=\"Index: [0, 9]&#10;Color: (8, 56, 119)\" style=\"width: 30px; height: 30px;background-color: rgb(8, 56, 119);\"></td></tr></tbody></table>"
      ],
      "text/plain": [
       "array([ 0.27120754,  0.4121967 ,  0.46018776,  0.43315066,  0.89923406,\n",
       "        0.6101031 ,  0.17292116,  0.96809101,  0.03656254,  0.96418653])"
      ]
     },
     "execution_count": 18,
     "metadata": {},
     "output_type": "execute_result"
    }
   ],
   "source": [
    "a[:,0]"
   ]
  },
  {
   "cell_type": "code",
   "execution_count": 19,
   "metadata": {
    "collapsed": false
   },
   "outputs": [
    {
     "data": {
      "text/html": [
       "<style type=\"text/css\">table.blockgrid {border: none;} .blockgrid tr {border: none;} .blockgrid td {padding: 0px;} #blocks92dce8fe-b6ab-4d06-a136-62bfcd8d5acf td {border: 1px solid white;}</style><table id=\"blocks92dce8fe-b6ab-4d06-a136-62bfcd8d5acf\" class=\"blockgrid\"><tbody><tr><td title=\"Index: [0, 0]&#10;Color: (8, 56, 119)\" style=\"width: 30px; height: 30px;background-color: rgb(8, 56, 119);\"></td><td title=\"Index: [0, 1]&#10;Color: (8, 73, 144)\" style=\"width: 30px; height: 30px;background-color: rgb(8, 73, 144);\"></td><td title=\"Index: [0, 2]&#10;Color: (171, 208, 230)\" style=\"width: 30px; height: 30px;background-color: rgb(171, 208, 230);\"></td><td title=\"Index: [0, 3]&#10;Color: (157, 202, 225)\" style=\"width: 30px; height: 30px;background-color: rgb(157, 202, 225);\"></td><td title=\"Index: [0, 4]&#10;Color: (165, 205, 227)\" style=\"width: 30px; height: 30px;background-color: rgb(165, 205, 227);\"></td><td title=\"Index: [0, 5]&#10;Color: (143, 194, 222)\" style=\"width: 30px; height: 30px;background-color: rgb(143, 194, 222);\"></td><td title=\"Index: [0, 6]&#10;Color: (193, 217, 237)\" style=\"width: 30px; height: 30px;background-color: rgb(193, 217, 237);\"></td><td title=\"Index: [0, 7]&#10;Color: (140, 192, 221)\" style=\"width: 30px; height: 30px;background-color: rgb(140, 192, 221);\"></td><td title=\"Index: [0, 8]&#10;Color: (157, 202, 225)\" style=\"width: 30px; height: 30px;background-color: rgb(157, 202, 225);\"></td><td title=\"Index: [0, 9]&#10;Color: (8, 71, 141)\" style=\"width: 30px; height: 30px;background-color: rgb(8, 71, 141);\"></td></tr></tbody></table>"
      ],
      "text/plain": [
       "array([ 0.96418653,  0.90187707,  0.33228106,  0.37778412,  0.35383917,\n",
       "        0.41044961,  0.26781003,  0.42109674,  0.37534145,  0.90967583])"
      ]
     },
     "execution_count": 19,
     "metadata": {},
     "output_type": "execute_result"
    }
   ],
   "source": [
    "a[-1,:]"
   ]
  },
  {
   "cell_type": "code",
   "execution_count": 20,
   "metadata": {
    "collapsed": false
   },
   "outputs": [
    {
     "data": {
      "text/html": [
       "<style type=\"text/css\">table.blockgrid {border: none;} .blockgrid tr {border: none;} .blockgrid td {padding: 0px;} #blocks43a70bf3-64c7-4a97-9b83-52fd2d022a49 td {border: 1px solid white;}</style><table id=\"blocks43a70bf3-64c7-4a97-9b83-52fd2d022a49\" class=\"blockgrid\"><tbody><tr><td title=\"Index: [0, 0]&#10;Color: (191, 216, 237)\" style=\"width: 30px; height: 30px;background-color: rgb(191, 216, 237);\"></td><td title=\"Index: [0, 1]&#10;Color: (141, 193, 221)\" style=\"width: 30px; height: 30px;background-color: rgb(141, 193, 221);\"></td></tr><tr><td title=\"Index: [1, 0]&#10;Color: (143, 194, 222)\" style=\"width: 30px; height: 30px;background-color: rgb(143, 194, 222);\"></td><td title=\"Index: [1, 1]&#10;Color: (111, 176, 215)\" style=\"width: 30px; height: 30px;background-color: rgb(111, 176, 215);\"></td></tr></tbody></table>"
      ],
      "text/plain": [
       "array([[ 0.27120754,  0.41391436],\n",
       "       [ 0.4121967 ,  0.48827594]])"
      ]
     },
     "execution_count": 20,
     "metadata": {},
     "output_type": "execute_result"
    }
   ],
   "source": [
    "a[0:2,0:2]"
   ]
  },
  {
   "cell_type": "code",
   "execution_count": 21,
   "metadata": {
    "collapsed": true
   },
   "outputs": [],
   "source": [
    "a[0:5,0:5] = 1.0"
   ]
  },
  {
   "cell_type": "code",
   "execution_count": 22,
   "metadata": {
    "collapsed": false
   },
   "outputs": [
    {
     "data": {
      "text/html": [
       "<style type=\"text/css\">table.blockgrid {border: none;} .blockgrid tr {border: none;} .blockgrid td {padding: 0px;} #blocks047bd04d-a8c7-4491-9085-9f2d610d703e td {border: 1px solid white;}</style><table id=\"blocks047bd04d-a8c7-4491-9085-9f2d610d703e\" class=\"blockgrid\"><tbody><tr><td title=\"Index: [0, 0]&#10;Color: (8, 48, 107)\" style=\"width: 30px; height: 30px;background-color: rgb(8, 48, 107);\"></td><td title=\"Index: [0, 1]&#10;Color: (8, 48, 107)\" style=\"width: 30px; height: 30px;background-color: rgb(8, 48, 107);\"></td><td title=\"Index: [0, 2]&#10;Color: (8, 48, 107)\" style=\"width: 30px; height: 30px;background-color: rgb(8, 48, 107);\"></td><td title=\"Index: [0, 3]&#10;Color: (8, 48, 107)\" style=\"width: 30px; height: 30px;background-color: rgb(8, 48, 107);\"></td><td title=\"Index: [0, 4]&#10;Color: (8, 48, 107)\" style=\"width: 30px; height: 30px;background-color: rgb(8, 48, 107);\"></td><td title=\"Index: [0, 5]&#10;Color: (225, 237, 248)\" style=\"width: 30px; height: 30px;background-color: rgb(225, 237, 248);\"></td><td title=\"Index: [0, 6]&#10;Color: (8, 81, 156)\" style=\"width: 30px; height: 30px;background-color: rgb(8, 81, 156);\"></td><td title=\"Index: [0, 7]&#10;Color: (224, 236, 248)\" style=\"width: 30px; height: 30px;background-color: rgb(224, 236, 248);\"></td><td title=\"Index: [0, 8]&#10;Color: (12, 86, 160)\" style=\"width: 30px; height: 30px;background-color: rgb(12, 86, 160);\"></td><td title=\"Index: [0, 9]&#10;Color: (95, 166, 209)\" style=\"width: 30px; height: 30px;background-color: rgb(95, 166, 209);\"></td></tr><tr><td title=\"Index: [1, 0]&#10;Color: (8, 48, 107)\" style=\"width: 30px; height: 30px;background-color: rgb(8, 48, 107);\"></td><td title=\"Index: [1, 1]&#10;Color: (8, 48, 107)\" style=\"width: 30px; height: 30px;background-color: rgb(8, 48, 107);\"></td><td title=\"Index: [1, 2]&#10;Color: (8, 48, 107)\" style=\"width: 30px; height: 30px;background-color: rgb(8, 48, 107);\"></td><td title=\"Index: [1, 3]&#10;Color: (8, 48, 107)\" style=\"width: 30px; height: 30px;background-color: rgb(8, 48, 107);\"></td><td title=\"Index: [1, 4]&#10;Color: (8, 48, 107)\" style=\"width: 30px; height: 30px;background-color: rgb(8, 48, 107);\"></td><td title=\"Index: [1, 5]&#10;Color: (14, 89, 162)\" style=\"width: 30px; height: 30px;background-color: rgb(14, 89, 162);\"></td><td title=\"Index: [1, 6]&#10;Color: (75, 152, 202)\" style=\"width: 30px; height: 30px;background-color: rgb(75, 152, 202);\"></td><td title=\"Index: [1, 7]&#10;Color: (135, 189, 220)\" style=\"width: 30px; height: 30px;background-color: rgb(135, 189, 220);\"></td><td title=\"Index: [1, 8]&#10;Color: (54, 134, 192)\" style=\"width: 30px; height: 30px;background-color: rgb(54, 134, 192);\"></td><td title=\"Index: [1, 9]&#10;Color: (111, 176, 215)\" style=\"width: 30px; height: 30px;background-color: rgb(111, 176, 215);\"></td></tr><tr><td title=\"Index: [2, 0]&#10;Color: (8, 48, 107)\" style=\"width: 30px; height: 30px;background-color: rgb(8, 48, 107);\"></td><td title=\"Index: [2, 1]&#10;Color: (8, 48, 107)\" style=\"width: 30px; height: 30px;background-color: rgb(8, 48, 107);\"></td><td title=\"Index: [2, 2]&#10;Color: (8, 48, 107)\" style=\"width: 30px; height: 30px;background-color: rgb(8, 48, 107);\"></td><td title=\"Index: [2, 3]&#10;Color: (8, 48, 107)\" style=\"width: 30px; height: 30px;background-color: rgb(8, 48, 107);\"></td><td title=\"Index: [2, 4]&#10;Color: (8, 48, 107)\" style=\"width: 30px; height: 30px;background-color: rgb(8, 48, 107);\"></td><td title=\"Index: [2, 5]&#10;Color: (171, 208, 230)\" style=\"width: 30px; height: 30px;background-color: rgb(171, 208, 230);\"></td><td title=\"Index: [2, 6]&#10;Color: (185, 214, 234)\" style=\"width: 30px; height: 30px;background-color: rgb(185, 214, 234);\"></td><td title=\"Index: [2, 7]&#10;Color: (8, 58, 122)\" style=\"width: 30px; height: 30px;background-color: rgb(8, 58, 122);\"></td><td title=\"Index: [2, 8]&#10;Color: (247, 251, 255)\" style=\"width: 30px; height: 30px;background-color: rgb(247, 251, 255);\"></td><td title=\"Index: [2, 9]&#10;Color: (201, 221, 240)\" style=\"width: 30px; height: 30px;background-color: rgb(201, 221, 240);\"></td></tr><tr><td title=\"Index: [3, 0]&#10;Color: (8, 48, 107)\" style=\"width: 30px; height: 30px;background-color: rgb(8, 48, 107);\"></td><td title=\"Index: [3, 1]&#10;Color: (8, 48, 107)\" style=\"width: 30px; height: 30px;background-color: rgb(8, 48, 107);\"></td><td title=\"Index: [3, 2]&#10;Color: (8, 48, 107)\" style=\"width: 30px; height: 30px;background-color: rgb(8, 48, 107);\"></td><td title=\"Index: [3, 3]&#10;Color: (8, 48, 107)\" style=\"width: 30px; height: 30px;background-color: rgb(8, 48, 107);\"></td><td title=\"Index: [3, 4]&#10;Color: (8, 48, 107)\" style=\"width: 30px; height: 30px;background-color: rgb(8, 48, 107);\"></td><td title=\"Index: [3, 5]&#10;Color: (11, 85, 159)\" style=\"width: 30px; height: 30px;background-color: rgb(11, 85, 159);\"></td><td title=\"Index: [3, 6]&#10;Color: (16, 91, 164)\" style=\"width: 30px; height: 30px;background-color: rgb(16, 91, 164);\"></td><td title=\"Index: [3, 7]&#10;Color: (38, 118, 184)\" style=\"width: 30px; height: 30px;background-color: rgb(38, 118, 184);\"></td><td title=\"Index: [3, 8]&#10;Color: (214, 230, 244)\" style=\"width: 30px; height: 30px;background-color: rgb(214, 230, 244);\"></td><td title=\"Index: [3, 9]&#10;Color: (208, 226, 242)\" style=\"width: 30px; height: 30px;background-color: rgb(208, 226, 242);\"></td></tr><tr><td title=\"Index: [4, 0]&#10;Color: (8, 48, 107)\" style=\"width: 30px; height: 30px;background-color: rgb(8, 48, 107);\"></td><td title=\"Index: [4, 1]&#10;Color: (8, 48, 107)\" style=\"width: 30px; height: 30px;background-color: rgb(8, 48, 107);\"></td><td title=\"Index: [4, 2]&#10;Color: (8, 48, 107)\" style=\"width: 30px; height: 30px;background-color: rgb(8, 48, 107);\"></td><td title=\"Index: [4, 3]&#10;Color: (8, 48, 107)\" style=\"width: 30px; height: 30px;background-color: rgb(8, 48, 107);\"></td><td title=\"Index: [4, 4]&#10;Color: (8, 48, 107)\" style=\"width: 30px; height: 30px;background-color: rgb(8, 48, 107);\"></td><td title=\"Index: [4, 5]&#10;Color: (196, 218, 238)\" style=\"width: 30px; height: 30px;background-color: rgb(196, 218, 238);\"></td><td title=\"Index: [4, 6]&#10;Color: (235, 243, 251)\" style=\"width: 30px; height: 30px;background-color: rgb(235, 243, 251);\"></td><td title=\"Index: [4, 7]&#10;Color: (17, 92, 165)\" style=\"width: 30px; height: 30px;background-color: rgb(17, 92, 165);\"></td><td title=\"Index: [4, 8]&#10;Color: (10, 83, 158)\" style=\"width: 30px; height: 30px;background-color: rgb(10, 83, 158);\"></td><td title=\"Index: [4, 9]&#10;Color: (64, 144, 197)\" style=\"width: 30px; height: 30px;background-color: rgb(64, 144, 197);\"></td></tr><tr><td title=\"Index: [5, 0]&#10;Color: (70, 149, 200)\" style=\"width: 30px; height: 30px;background-color: rgb(70, 149, 200);\"></td><td title=\"Index: [5, 1]&#10;Color: (217, 232, 245)\" style=\"width: 30px; height: 30px;background-color: rgb(217, 232, 245);\"></td><td title=\"Index: [5, 2]&#10;Color: (56, 136, 193)\" style=\"width: 30px; height: 30px;background-color: rgb(56, 136, 193);\"></td><td title=\"Index: [5, 3]&#10;Color: (8, 77, 150)\" style=\"width: 30px; height: 30px;background-color: rgb(8, 77, 150);\"></td><td title=\"Index: [5, 4]&#10;Color: (247, 251, 255)\" style=\"width: 30px; height: 30px;background-color: rgb(247, 251, 255);\"></td><td title=\"Index: [5, 5]&#10;Color: (217, 231, 245)\" style=\"width: 30px; height: 30px;background-color: rgb(217, 231, 245);\"></td><td title=\"Index: [5, 6]&#10;Color: (52, 132, 191)\" style=\"width: 30px; height: 30px;background-color: rgb(52, 132, 191);\"></td><td title=\"Index: [5, 7]&#10;Color: (186, 214, 235)\" style=\"width: 30px; height: 30px;background-color: rgb(186, 214, 235);\"></td><td title=\"Index: [5, 8]&#10;Color: (209, 226, 243)\" style=\"width: 30px; height: 30px;background-color: rgb(209, 226, 243);\"></td><td title=\"Index: [5, 9]&#10;Color: (12, 86, 160)\" style=\"width: 30px; height: 30px;background-color: rgb(12, 86, 160);\"></td></tr><tr><td title=\"Index: [6, 0]&#10;Color: (213, 229, 244)\" style=\"width: 30px; height: 30px;background-color: rgb(213, 229, 244);\"></td><td title=\"Index: [6, 1]&#10;Color: (220, 234, 246)\" style=\"width: 30px; height: 30px;background-color: rgb(220, 234, 246);\"></td><td title=\"Index: [6, 2]&#10;Color: (171, 208, 230)\" style=\"width: 30px; height: 30px;background-color: rgb(171, 208, 230);\"></td><td title=\"Index: [6, 3]&#10;Color: (95, 166, 209)\" style=\"width: 30px; height: 30px;background-color: rgb(95, 166, 209);\"></td><td title=\"Index: [6, 4]&#10;Color: (86, 160, 206)\" style=\"width: 30px; height: 30px;background-color: rgb(86, 160, 206);\"></td><td title=\"Index: [6, 5]&#10;Color: (70, 149, 200)\" style=\"width: 30px; height: 30px;background-color: rgb(70, 149, 200);\"></td><td title=\"Index: [6, 6]&#10;Color: (65, 145, 198)\" style=\"width: 30px; height: 30px;background-color: rgb(65, 145, 198);\"></td><td title=\"Index: [6, 7]&#10;Color: (23, 100, 171)\" style=\"width: 30px; height: 30px;background-color: rgb(23, 100, 171);\"></td><td title=\"Index: [6, 8]&#10;Color: (215, 230, 245)\" style=\"width: 30px; height: 30px;background-color: rgb(215, 230, 245);\"></td><td title=\"Index: [6, 9]&#10;Color: (200, 220, 240)\" style=\"width: 30px; height: 30px;background-color: rgb(200, 220, 240);\"></td></tr><tr><td title=\"Index: [7, 0]&#10;Color: (8, 56, 119)\" style=\"width: 30px; height: 30px;background-color: rgb(8, 56, 119);\"></td><td title=\"Index: [7, 1]&#10;Color: (224, 236, 248)\" style=\"width: 30px; height: 30px;background-color: rgb(224, 236, 248);\"></td><td title=\"Index: [7, 2]&#10;Color: (32, 112, 180)\" style=\"width: 30px; height: 30px;background-color: rgb(32, 112, 180);\"></td><td title=\"Index: [7, 3]&#10;Color: (210, 227, 243)\" style=\"width: 30px; height: 30px;background-color: rgb(210, 227, 243);\"></td><td title=\"Index: [7, 4]&#10;Color: (143, 194, 222)\" style=\"width: 30px; height: 30px;background-color: rgb(143, 194, 222);\"></td><td title=\"Index: [7, 5]&#10;Color: (232, 241, 250)\" style=\"width: 30px; height: 30px;background-color: rgb(232, 241, 250);\"></td><td title=\"Index: [7, 6]&#10;Color: (60, 140, 195)\" style=\"width: 30px; height: 30px;background-color: rgb(60, 140, 195);\"></td><td title=\"Index: [7, 7]&#10;Color: (64, 144, 197)\" style=\"width: 30px; height: 30px;background-color: rgb(64, 144, 197);\"></td><td title=\"Index: [7, 8]&#10;Color: (8, 79, 153)\" style=\"width: 30px; height: 30px;background-color: rgb(8, 79, 153);\"></td><td title=\"Index: [7, 9]&#10;Color: (8, 68, 136)\" style=\"width: 30px; height: 30px;background-color: rgb(8, 68, 136);\"></td></tr><tr><td title=\"Index: [8, 0]&#10;Color: (240, 246, 253)\" style=\"width: 30px; height: 30px;background-color: rgb(240, 246, 253);\"></td><td title=\"Index: [8, 1]&#10;Color: (36, 116, 183)\" style=\"width: 30px; height: 30px;background-color: rgb(36, 116, 183);\"></td><td title=\"Index: [8, 2]&#10;Color: (10, 84, 158)\" style=\"width: 30px; height: 30px;background-color: rgb(10, 84, 158);\"></td><td title=\"Index: [8, 3]&#10;Color: (169, 207, 229)\" style=\"width: 30px; height: 30px;background-color: rgb(169, 207, 229);\"></td><td title=\"Index: [8, 4]&#10;Color: (16, 91, 164)\" style=\"width: 30px; height: 30px;background-color: rgb(16, 91, 164);\"></td><td title=\"Index: [8, 5]&#10;Color: (109, 175, 215)\" style=\"width: 30px; height: 30px;background-color: rgb(109, 175, 215);\"></td><td title=\"Index: [8, 6]&#10;Color: (244, 249, 254)\" style=\"width: 30px; height: 30px;background-color: rgb(244, 249, 254);\"></td><td title=\"Index: [8, 7]&#10;Color: (29, 108, 177)\" style=\"width: 30px; height: 30px;background-color: rgb(29, 108, 177);\"></td><td title=\"Index: [8, 8]&#10;Color: (156, 201, 225)\" style=\"width: 30px; height: 30px;background-color: rgb(156, 201, 225);\"></td><td title=\"Index: [8, 9]&#10;Color: (188, 215, 235)\" style=\"width: 30px; height: 30px;background-color: rgb(188, 215, 235);\"></td></tr><tr><td title=\"Index: [9, 0]&#10;Color: (8, 57, 121)\" style=\"width: 30px; height: 30px;background-color: rgb(8, 57, 121);\"></td><td title=\"Index: [9, 1]&#10;Color: (8, 74, 145)\" style=\"width: 30px; height: 30px;background-color: rgb(8, 74, 145);\"></td><td title=\"Index: [9, 2]&#10;Color: (173, 208, 230)\" style=\"width: 30px; height: 30px;background-color: rgb(173, 208, 230);\"></td><td title=\"Index: [9, 3]&#10;Color: (157, 202, 225)\" style=\"width: 30px; height: 30px;background-color: rgb(157, 202, 225);\"></td><td title=\"Index: [9, 4]&#10;Color: (165, 205, 227)\" style=\"width: 30px; height: 30px;background-color: rgb(165, 205, 227);\"></td><td title=\"Index: [9, 5]&#10;Color: (145, 195, 222)\" style=\"width: 30px; height: 30px;background-color: rgb(145, 195, 222);\"></td><td title=\"Index: [9, 6]&#10;Color: (193, 217, 237)\" style=\"width: 30px; height: 30px;background-color: rgb(193, 217, 237);\"></td><td title=\"Index: [9, 7]&#10;Color: (140, 192, 221)\" style=\"width: 30px; height: 30px;background-color: rgb(140, 192, 221);\"></td><td title=\"Index: [9, 8]&#10;Color: (159, 202, 225)\" style=\"width: 30px; height: 30px;background-color: rgb(159, 202, 225);\"></td><td title=\"Index: [9, 9]&#10;Color: (8, 72, 142)\" style=\"width: 30px; height: 30px;background-color: rgb(8, 72, 142);\"></td></tr></tbody></table>"
      ],
      "text/plain": [
       "array([[  1.00000000e+00,   1.00000000e+00,   1.00000000e+00,\n",
       "          1.00000000e+00,   1.00000000e+00,   1.10714067e-01,\n",
       "          8.73304642e-01,   1.16570921e-01,   8.53343571e-01,\n",
       "          5.37796093e-01],\n",
       "       [  1.00000000e+00,   1.00000000e+00,   1.00000000e+00,\n",
       "          1.00000000e+00,   1.00000000e+00,   8.40313772e-01,\n",
       "          5.94250290e-01,   4.33912787e-01,   6.69988618e-01,\n",
       "          4.90754273e-01],\n",
       "       [  1.00000000e+00,   1.00000000e+00,   1.00000000e+00,\n",
       "          1.00000000e+00,   1.00000000e+00,   3.35354390e-01,\n",
       "          2.91608960e-01,   9.59243198e-01,   7.38367517e-04,\n",
       "          2.36835264e-01],\n",
       "       [  1.00000000e+00,   1.00000000e+00,   1.00000000e+00,\n",
       "          1.00000000e+00,   1.00000000e+00,   8.56132085e-01,\n",
       "          8.35075297e-01,   7.30102816e-01,   1.65435163e-01,\n",
       "          1.99378102e-01],\n",
       "       [  1.00000000e+00,   1.00000000e+00,   1.00000000e+00,\n",
       "          1.00000000e+00,   1.00000000e+00,   2.56001958e-01,\n",
       "          6.18882099e-02,   8.28307703e-01,   8.66188490e-01,\n",
       "          6.32069419e-01],\n",
       "       [  6.10103095e-01,   1.51748184e-01,   6.63875358e-01,\n",
       "          8.88417901e-01,   1.01265455e-03,   1.53829188e-01,\n",
       "          6.79050926e-01,   2.87233218e-01,   1.94963092e-01,\n",
       "          8.55028891e-01],\n",
       "       [  1.72921161e-01,   1.34392466e-01,   3.35974346e-01,\n",
       "          5.38350721e-01,   5.65961380e-01,   6.10476710e-01,\n",
       "          6.26874572e-01,   8.00185980e-01,   1.62705508e-01,\n",
       "          2.39437623e-01],\n",
       "       [  9.68091012e-01,   1.17667059e-01,   7.54068730e-01,\n",
       "          1.89655570e-01,   4.12964585e-01,   7.75916872e-02,\n",
       "          6.46065779e-01,   6.31342549e-01,   8.81912388e-01,\n",
       "          9.24519866e-01],\n",
       "       [  3.65625416e-02,   7.35705596e-01,   8.61366032e-01,\n",
       "          3.43146615e-01,   8.34720938e-01,   4.95483916e-01,\n",
       "          1.73266225e-02,   7.68549352e-01,   3.79691801e-01,\n",
       "          2.85360596e-01],\n",
       "       [  9.64186534e-01,   9.01877070e-01,   3.32281061e-01,\n",
       "          3.77784121e-01,   3.53839167e-01,   4.10449613e-01,\n",
       "          2.67810033e-01,   4.21096742e-01,   3.75341452e-01,\n",
       "          9.09675834e-01]])"
      ]
     },
     "execution_count": 22,
     "metadata": {},
     "output_type": "execute_result"
    }
   ],
   "source": [
    "a"
   ]
  },
  {
   "cell_type": "code",
   "execution_count": 23,
   "metadata": {
    "collapsed": true
   },
   "outputs": [],
   "source": [
    "va.disable()"
   ]
  },
  {
   "cell_type": "code",
   "execution_count": 24,
   "metadata": {
    "collapsed": true
   },
   "outputs": [],
   "source": [
    "ages = np.array([23,56,67,89,23,56,27,12,8,72])\n",
    "genders = np.array([\"m\", \"m\", \"f\", \"f\", \"m\", \"f\", \"m\", \"m\", \"m\", \"f\"])"
   ]
  },
  {
   "cell_type": "code",
   "execution_count": 25,
   "metadata": {
    "collapsed": false
   },
   "outputs": [
    {
     "data": {
      "text/plain": [
       "array([False,  True,  True,  True, False,  True, False, False, False,  True], dtype=bool)"
      ]
     },
     "execution_count": 25,
     "metadata": {},
     "output_type": "execute_result"
    }
   ],
   "source": [
    "ages > 30"
   ]
  },
  {
   "cell_type": "code",
   "execution_count": 26,
   "metadata": {
    "collapsed": false
   },
   "outputs": [
    {
     "data": {
      "text/plain": [
       "array([ True, False, False, False,  True, False,  True,  True, False, False], dtype=bool)"
      ]
     },
     "execution_count": 26,
     "metadata": {},
     "output_type": "execute_result"
    }
   ],
   "source": [
    "(ages > 10) & (ages < 50)"
   ]
  },
  {
   "cell_type": "code",
   "execution_count": 27,
   "metadata": {
    "collapsed": false
   },
   "outputs": [
    {
     "data": {
      "text/plain": [
       "array([67, 89, 56, 72])"
      ]
     },
     "execution_count": 27,
     "metadata": {},
     "output_type": "execute_result"
    }
   ],
   "source": [
    "mask = (genders == \"f\")\n",
    "ages[mask]"
   ]
  },
  {
   "cell_type": "code",
   "execution_count": 28,
   "metadata": {
    "collapsed": false
   },
   "outputs": [
    {
     "data": {
      "text/plain": [
       "array([56, 67, 89, 56, 72])"
      ]
     },
     "execution_count": 28,
     "metadata": {},
     "output_type": "execute_result"
    }
   ],
   "source": [
    "ages[ages>30]"
   ]
  },
  {
   "cell_type": "code",
   "execution_count": 29,
   "metadata": {
    "collapsed": true
   },
   "outputs": [],
   "source": [
    "va.enable()"
   ]
  },
  {
   "cell_type": "code",
   "execution_count": 30,
   "metadata": {
    "collapsed": true
   },
   "outputs": [],
   "source": [
    "a = np.random.rand(3,4)"
   ]
  },
  {
   "cell_type": "code",
   "execution_count": 31,
   "metadata": {
    "collapsed": false
   },
   "outputs": [
    {
     "data": {
      "text/html": [
       "<style type=\"text/css\">table.blockgrid {border: none;} .blockgrid tr {border: none;} .blockgrid td {padding: 0px;} #blocks370f104b-1720-4758-a40d-49173a4e113e td {border: 1px solid white;}</style><table id=\"blocks370f104b-1720-4758-a40d-49173a4e113e\" class=\"blockgrid\"><tbody><tr><td title=\"Index: [0, 0]&#10;Color: (195, 218, 238)\" style=\"width: 30px; height: 30px;background-color: rgb(195, 218, 238);\"></td><td title=\"Index: [0, 1]&#10;Color: (245, 249, 254)\" style=\"width: 30px; height: 30px;background-color: rgb(245, 249, 254);\"></td><td title=\"Index: [0, 2]&#10;Color: (119, 181, 217)\" style=\"width: 30px; height: 30px;background-color: rgb(119, 181, 217);\"></td><td title=\"Index: [0, 3]&#10;Color: (227, 238, 249)\" style=\"width: 30px; height: 30px;background-color: rgb(227, 238, 249);\"></td></tr><tr><td title=\"Index: [1, 0]&#10;Color: (69, 148, 199)\" style=\"width: 30px; height: 30px;background-color: rgb(69, 148, 199);\"></td><td title=\"Index: [1, 1]&#10;Color: (170, 207, 229)\" style=\"width: 30px; height: 30px;background-color: rgb(170, 207, 229);\"></td><td title=\"Index: [1, 2]&#10;Color: (241, 247, 253)\" style=\"width: 30px; height: 30px;background-color: rgb(241, 247, 253);\"></td><td title=\"Index: [1, 3]&#10;Color: (95, 166, 209)\" style=\"width: 30px; height: 30px;background-color: rgb(95, 166, 209);\"></td></tr><tr><td title=\"Index: [2, 0]&#10;Color: (8, 48, 107)\" style=\"width: 30px; height: 30px;background-color: rgb(8, 48, 107);\"></td><td title=\"Index: [2, 1]&#10;Color: (247, 251, 255)\" style=\"width: 30px; height: 30px;background-color: rgb(247, 251, 255);\"></td><td title=\"Index: [2, 2]&#10;Color: (226, 237, 248)\" style=\"width: 30px; height: 30px;background-color: rgb(226, 237, 248);\"></td><td title=\"Index: [2, 3]&#10;Color: (8, 70, 139)\" style=\"width: 30px; height: 30px;background-color: rgb(8, 70, 139);\"></td></tr></tbody></table>"
      ],
      "text/plain": [
       "array([[ 0.29533344,  0.08396865,  0.47646025,  0.15789387],\n",
       "       [ 0.60017835,  0.36311293,  0.10098677,  0.53252834],\n",
       "       [ 0.92924543,  0.07222477,  0.16448729,  0.85662293]])"
      ]
     },
     "execution_count": 31,
     "metadata": {},
     "output_type": "execute_result"
    }
   ],
   "source": [
    "a"
   ]
  },
  {
   "cell_type": "code",
   "execution_count": 32,
   "metadata": {
    "collapsed": false
   },
   "outputs": [
    {
     "data": {
      "text/html": [
       "<style type=\"text/css\">table.blockgrid {border: none;} .blockgrid tr {border: none;} .blockgrid td {padding: 0px;} #blocksdb3b1d55-bcb3-4811-9d6e-496a6b59b0c6 td {border: 1px solid white;}</style><table id=\"blocksdb3b1d55-bcb3-4811-9d6e-496a6b59b0c6\" class=\"blockgrid\"><tbody><tr><td title=\"Index: [0, 0]&#10;Color: (195, 218, 238)\" style=\"width: 30px; height: 30px;background-color: rgb(195, 218, 238);\"></td><td title=\"Index: [0, 1]&#10;Color: (69, 148, 199)\" style=\"width: 30px; height: 30px;background-color: rgb(69, 148, 199);\"></td><td title=\"Index: [0, 2]&#10;Color: (8, 48, 107)\" style=\"width: 30px; height: 30px;background-color: rgb(8, 48, 107);\"></td></tr><tr><td title=\"Index: [1, 0]&#10;Color: (245, 249, 254)\" style=\"width: 30px; height: 30px;background-color: rgb(245, 249, 254);\"></td><td title=\"Index: [1, 1]&#10;Color: (170, 207, 229)\" style=\"width: 30px; height: 30px;background-color: rgb(170, 207, 229);\"></td><td title=\"Index: [1, 2]&#10;Color: (247, 251, 255)\" style=\"width: 30px; height: 30px;background-color: rgb(247, 251, 255);\"></td></tr><tr><td title=\"Index: [2, 0]&#10;Color: (119, 181, 217)\" style=\"width: 30px; height: 30px;background-color: rgb(119, 181, 217);\"></td><td title=\"Index: [2, 1]&#10;Color: (241, 247, 253)\" style=\"width: 30px; height: 30px;background-color: rgb(241, 247, 253);\"></td><td title=\"Index: [2, 2]&#10;Color: (226, 237, 248)\" style=\"width: 30px; height: 30px;background-color: rgb(226, 237, 248);\"></td></tr><tr><td title=\"Index: [3, 0]&#10;Color: (227, 238, 249)\" style=\"width: 30px; height: 30px;background-color: rgb(227, 238, 249);\"></td><td title=\"Index: [3, 1]&#10;Color: (95, 166, 209)\" style=\"width: 30px; height: 30px;background-color: rgb(95, 166, 209);\"></td><td title=\"Index: [3, 2]&#10;Color: (8, 70, 139)\" style=\"width: 30px; height: 30px;background-color: rgb(8, 70, 139);\"></td></tr></tbody></table>"
      ],
      "text/plain": [
       "array([[ 0.29533344,  0.60017835,  0.92924543],\n",
       "       [ 0.08396865,  0.36311293,  0.07222477],\n",
       "       [ 0.47646025,  0.10098677,  0.16448729],\n",
       "       [ 0.15789387,  0.53252834,  0.85662293]])"
      ]
     },
     "execution_count": 32,
     "metadata": {},
     "output_type": "execute_result"
    }
   ],
   "source": [
    "a.T"
   ]
  },
  {
   "cell_type": "code",
   "execution_count": 33,
   "metadata": {
    "collapsed": false
   },
   "outputs": [
    {
     "data": {
      "text/html": [
       "<style type=\"text/css\">table.blockgrid {border: none;} .blockgrid tr {border: none;} .blockgrid td {padding: 0px;} #blocksea1bf99e-35bc-4524-9dc4-d62f28eb50b9 td {border: 1px solid white;}</style><table id=\"blocksea1bf99e-35bc-4524-9dc4-d62f28eb50b9\" class=\"blockgrid\"><tbody><tr><td title=\"Index: [0, 0]&#10;Color: (195, 218, 238)\" style=\"width: 30px; height: 30px;background-color: rgb(195, 218, 238);\"></td><td title=\"Index: [0, 1]&#10;Color: (245, 249, 254)\" style=\"width: 30px; height: 30px;background-color: rgb(245, 249, 254);\"></td><td title=\"Index: [0, 2]&#10;Color: (119, 181, 217)\" style=\"width: 30px; height: 30px;background-color: rgb(119, 181, 217);\"></td><td title=\"Index: [0, 3]&#10;Color: (227, 238, 249)\" style=\"width: 30px; height: 30px;background-color: rgb(227, 238, 249);\"></td><td title=\"Index: [0, 4]&#10;Color: (69, 148, 199)\" style=\"width: 30px; height: 30px;background-color: rgb(69, 148, 199);\"></td><td title=\"Index: [0, 5]&#10;Color: (170, 207, 229)\" style=\"width: 30px; height: 30px;background-color: rgb(170, 207, 229);\"></td></tr><tr><td title=\"Index: [1, 0]&#10;Color: (241, 247, 253)\" style=\"width: 30px; height: 30px;background-color: rgb(241, 247, 253);\"></td><td title=\"Index: [1, 1]&#10;Color: (95, 166, 209)\" style=\"width: 30px; height: 30px;background-color: rgb(95, 166, 209);\"></td><td title=\"Index: [1, 2]&#10;Color: (8, 48, 107)\" style=\"width: 30px; height: 30px;background-color: rgb(8, 48, 107);\"></td><td title=\"Index: [1, 3]&#10;Color: (247, 251, 255)\" style=\"width: 30px; height: 30px;background-color: rgb(247, 251, 255);\"></td><td title=\"Index: [1, 4]&#10;Color: (226, 237, 248)\" style=\"width: 30px; height: 30px;background-color: rgb(226, 237, 248);\"></td><td title=\"Index: [1, 5]&#10;Color: (8, 70, 139)\" style=\"width: 30px; height: 30px;background-color: rgb(8, 70, 139);\"></td></tr></tbody></table>"
      ],
      "text/plain": [
       "array([[ 0.29533344,  0.08396865,  0.47646025,  0.15789387,  0.60017835,\n",
       "         0.36311293],\n",
       "       [ 0.10098677,  0.53252834,  0.92924543,  0.07222477,  0.16448729,\n",
       "         0.85662293]])"
      ]
     },
     "execution_count": 33,
     "metadata": {},
     "output_type": "execute_result"
    }
   ],
   "source": [
    "a.reshape(2,6)"
   ]
  },
  {
   "cell_type": "code",
   "execution_count": 34,
   "metadata": {
    "collapsed": false
   },
   "outputs": [
    {
     "data": {
      "text/html": [
       "<style type=\"text/css\">table.blockgrid {border: none;} .blockgrid tr {border: none;} .blockgrid td {padding: 0px;} #blocks5f7e00e2-63fc-4ea0-ac29-5b7c373913e7 td {border: 1px solid white;}</style><table id=\"blocks5f7e00e2-63fc-4ea0-ac29-5b7c373913e7\" class=\"blockgrid\"><tbody><tr><td title=\"Index: [0, 0]&#10;Color: (195, 218, 238)\" style=\"width: 30px; height: 30px;background-color: rgb(195, 218, 238);\"></td><td title=\"Index: [0, 1]&#10;Color: (245, 249, 254)\" style=\"width: 30px; height: 30px;background-color: rgb(245, 249, 254);\"></td></tr><tr><td title=\"Index: [1, 0]&#10;Color: (119, 181, 217)\" style=\"width: 30px; height: 30px;background-color: rgb(119, 181, 217);\"></td><td title=\"Index: [1, 1]&#10;Color: (227, 238, 249)\" style=\"width: 30px; height: 30px;background-color: rgb(227, 238, 249);\"></td></tr><tr><td title=\"Index: [2, 0]&#10;Color: (69, 148, 199)\" style=\"width: 30px; height: 30px;background-color: rgb(69, 148, 199);\"></td><td title=\"Index: [2, 1]&#10;Color: (170, 207, 229)\" style=\"width: 30px; height: 30px;background-color: rgb(170, 207, 229);\"></td></tr><tr><td title=\"Index: [3, 0]&#10;Color: (241, 247, 253)\" style=\"width: 30px; height: 30px;background-color: rgb(241, 247, 253);\"></td><td title=\"Index: [3, 1]&#10;Color: (95, 166, 209)\" style=\"width: 30px; height: 30px;background-color: rgb(95, 166, 209);\"></td></tr><tr><td title=\"Index: [4, 0]&#10;Color: (8, 48, 107)\" style=\"width: 30px; height: 30px;background-color: rgb(8, 48, 107);\"></td><td title=\"Index: [4, 1]&#10;Color: (247, 251, 255)\" style=\"width: 30px; height: 30px;background-color: rgb(247, 251, 255);\"></td></tr><tr><td title=\"Index: [5, 0]&#10;Color: (226, 237, 248)\" style=\"width: 30px; height: 30px;background-color: rgb(226, 237, 248);\"></td><td title=\"Index: [5, 1]&#10;Color: (8, 70, 139)\" style=\"width: 30px; height: 30px;background-color: rgb(8, 70, 139);\"></td></tr></tbody></table>"
      ],
      "text/plain": [
       "array([[ 0.29533344,  0.08396865],\n",
       "       [ 0.47646025,  0.15789387],\n",
       "       [ 0.60017835,  0.36311293],\n",
       "       [ 0.10098677,  0.53252834],\n",
       "       [ 0.92924543,  0.07222477],\n",
       "       [ 0.16448729,  0.85662293]])"
      ]
     },
     "execution_count": 34,
     "metadata": {},
     "output_type": "execute_result"
    }
   ],
   "source": [
    "a.reshape(6,2)"
   ]
  },
  {
   "cell_type": "code",
   "execution_count": 35,
   "metadata": {
    "collapsed": false
   },
   "outputs": [
    {
     "data": {
      "text/html": [
       "<style type=\"text/css\">table.blockgrid {border: none;} .blockgrid tr {border: none;} .blockgrid td {padding: 0px;} #blocksb27455df-f005-4d25-89e8-e25c93cfbf01 td {border: 1px solid white;}</style><table id=\"blocksb27455df-f005-4d25-89e8-e25c93cfbf01\" class=\"blockgrid\"><tbody><tr><td title=\"Index: [0, 0]&#10;Color: (195, 218, 238)\" style=\"width: 30px; height: 30px;background-color: rgb(195, 218, 238);\"></td><td title=\"Index: [0, 1]&#10;Color: (245, 249, 254)\" style=\"width: 30px; height: 30px;background-color: rgb(245, 249, 254);\"></td><td title=\"Index: [0, 2]&#10;Color: (119, 181, 217)\" style=\"width: 30px; height: 30px;background-color: rgb(119, 181, 217);\"></td><td title=\"Index: [0, 3]&#10;Color: (227, 238, 249)\" style=\"width: 30px; height: 30px;background-color: rgb(227, 238, 249);\"></td><td title=\"Index: [0, 4]&#10;Color: (69, 148, 199)\" style=\"width: 30px; height: 30px;background-color: rgb(69, 148, 199);\"></td><td title=\"Index: [0, 5]&#10;Color: (170, 207, 229)\" style=\"width: 30px; height: 30px;background-color: rgb(170, 207, 229);\"></td><td title=\"Index: [0, 6]&#10;Color: (241, 247, 253)\" style=\"width: 30px; height: 30px;background-color: rgb(241, 247, 253);\"></td><td title=\"Index: [0, 7]&#10;Color: (95, 166, 209)\" style=\"width: 30px; height: 30px;background-color: rgb(95, 166, 209);\"></td><td title=\"Index: [0, 8]&#10;Color: (8, 48, 107)\" style=\"width: 30px; height: 30px;background-color: rgb(8, 48, 107);\"></td><td title=\"Index: [0, 9]&#10;Color: (247, 251, 255)\" style=\"width: 30px; height: 30px;background-color: rgb(247, 251, 255);\"></td><td title=\"Index: [0, 10]&#10;Color: (226, 237, 248)\" style=\"width: 30px; height: 30px;background-color: rgb(226, 237, 248);\"></td><td title=\"Index: [0, 11]&#10;Color: (8, 70, 139)\" style=\"width: 30px; height: 30px;background-color: rgb(8, 70, 139);\"></td></tr></tbody></table>"
      ],
      "text/plain": [
       "array([ 0.29533344,  0.08396865,  0.47646025,  0.15789387,  0.60017835,\n",
       "        0.36311293,  0.10098677,  0.53252834,  0.92924543,  0.07222477,\n",
       "        0.16448729,  0.85662293])"
      ]
     },
     "execution_count": 35,
     "metadata": {},
     "output_type": "execute_result"
    }
   ],
   "source": [
    "a.ravel()"
   ]
  },
  {
   "cell_type": "code",
   "execution_count": 36,
   "metadata": {
    "collapsed": true
   },
   "outputs": [],
   "source": [
    "va.disable()"
   ]
  },
  {
   "cell_type": "code",
   "execution_count": 37,
   "metadata": {
    "collapsed": true
   },
   "outputs": [],
   "source": [
    "va.set_block_size(5)\n",
    "va.enable()"
   ]
  },
  {
   "cell_type": "code",
   "execution_count": 38,
   "metadata": {
    "collapsed": false
   },
   "outputs": [
    {
     "data": {
      "text/html": [
       "<style type=\"text/css\">table.blockgrid {border: none;} .blockgrid tr {border: none;} .blockgrid td {padding: 0px;} #blocks1b4beb62-fcbf-423a-8c12-bba49bcd9d55 td {border: 1px solid white;}</style><table id=\"blocks1b4beb62-fcbf-423a-8c12-bba49bcd9d55\" class=\"blockgrid\"><tbody><tr><td title=\"Index: [0, 0]&#10;Color: (247, 251, 255)\" style=\"width: 5px; height: 5px;background-color: rgb(247, 251, 255);\"></td><td title=\"Index: [0, 1]&#10;Color: (245, 250, 254)\" style=\"width: 5px; height: 5px;background-color: rgb(245, 250, 254);\"></td><td title=\"Index: [0, 2]&#10;Color: (243, 248, 254)\" style=\"width: 5px; height: 5px;background-color: rgb(243, 248, 254);\"></td><td title=\"Index: [0, 3]&#10;Color: (242, 247, 253)\" style=\"width: 5px; height: 5px;background-color: rgb(242, 247, 253);\"></td><td title=\"Index: [0, 4]&#10;Color: (239, 246, 252)\" style=\"width: 5px; height: 5px;background-color: rgb(239, 246, 252);\"></td><td title=\"Index: [0, 5]&#10;Color: (238, 245, 252)\" style=\"width: 5px; height: 5px;background-color: rgb(238, 245, 252);\"></td><td title=\"Index: [0, 6]&#10;Color: (235, 243, 251)\" style=\"width: 5px; height: 5px;background-color: rgb(235, 243, 251);\"></td><td title=\"Index: [0, 7]&#10;Color: (233, 242, 250)\" style=\"width: 5px; height: 5px;background-color: rgb(233, 242, 250);\"></td><td title=\"Index: [0, 8]&#10;Color: (231, 241, 250)\" style=\"width: 5px; height: 5px;background-color: rgb(231, 241, 250);\"></td><td title=\"Index: [0, 9]&#10;Color: (229, 239, 249)\" style=\"width: 5px; height: 5px;background-color: rgb(229, 239, 249);\"></td><td title=\"Index: [0, 10]&#10;Color: (227, 238, 249)\" style=\"width: 5px; height: 5px;background-color: rgb(227, 238, 249);\"></td><td title=\"Index: [0, 11]&#10;Color: (225, 237, 248)\" style=\"width: 5px; height: 5px;background-color: rgb(225, 237, 248);\"></td><td title=\"Index: [0, 12]&#10;Color: (223, 235, 247)\" style=\"width: 5px; height: 5px;background-color: rgb(223, 235, 247);\"></td><td title=\"Index: [0, 13]&#10;Color: (221, 234, 247)\" style=\"width: 5px; height: 5px;background-color: rgb(221, 234, 247);\"></td><td title=\"Index: [0, 14]&#10;Color: (219, 233, 246)\" style=\"width: 5px; height: 5px;background-color: rgb(219, 233, 246);\"></td><td title=\"Index: [0, 15]&#10;Color: (217, 232, 245)\" style=\"width: 5px; height: 5px;background-color: rgb(217, 232, 245);\"></td><td title=\"Index: [0, 16]&#10;Color: (215, 230, 245)\" style=\"width: 5px; height: 5px;background-color: rgb(215, 230, 245);\"></td><td title=\"Index: [0, 17]&#10;Color: (214, 229, 244)\" style=\"width: 5px; height: 5px;background-color: rgb(214, 229, 244);\"></td><td title=\"Index: [0, 18]&#10;Color: (211, 228, 243)\" style=\"width: 5px; height: 5px;background-color: rgb(211, 228, 243);\"></td><td title=\"Index: [0, 19]&#10;Color: (209, 226, 243)\" style=\"width: 5px; height: 5px;background-color: rgb(209, 226, 243);\"></td><td title=\"Index: [0, 20]&#10;Color: (208, 225, 242)\" style=\"width: 5px; height: 5px;background-color: rgb(208, 225, 242);\"></td><td title=\"Index: [0, 21]&#10;Color: (205, 224, 241)\" style=\"width: 5px; height: 5px;background-color: rgb(205, 224, 241);\"></td><td title=\"Index: [0, 22]&#10;Color: (204, 223, 241)\" style=\"width: 5px; height: 5px;background-color: rgb(204, 223, 241);\"></td><td title=\"Index: [0, 23]&#10;Color: (202, 221, 240)\" style=\"width: 5px; height: 5px;background-color: rgb(202, 221, 240);\"></td><td title=\"Index: [0, 24]&#10;Color: (199, 220, 239)\" style=\"width: 5px; height: 5px;background-color: rgb(199, 220, 239);\"></td><td title=\"Index: [0, 25]&#10;Color: (198, 219, 239)\" style=\"width: 5px; height: 5px;background-color: rgb(198, 219, 239);\"></td><td title=\"Index: [0, 26]&#10;Color: (194, 217, 238)\" style=\"width: 5px; height: 5px;background-color: rgb(194, 217, 238);\"></td><td title=\"Index: [0, 27]&#10;Color: (191, 216, 237)\" style=\"width: 5px; height: 5px;background-color: rgb(191, 216, 237);\"></td><td title=\"Index: [0, 28]&#10;Color: (188, 215, 235)\" style=\"width: 5px; height: 5px;background-color: rgb(188, 215, 235);\"></td><td title=\"Index: [0, 29]&#10;Color: (185, 214, 234)\" style=\"width: 5px; height: 5px;background-color: rgb(185, 214, 234);\"></td><td title=\"Index: [0, 30]&#10;Color: (181, 212, 233)\" style=\"width: 5px; height: 5px;background-color: rgb(181, 212, 233);\"></td><td title=\"Index: [0, 31]&#10;Color: (178, 210, 232)\" style=\"width: 5px; height: 5px;background-color: rgb(178, 210, 232);\"></td><td title=\"Index: [0, 32]&#10;Color: (175, 209, 231)\" style=\"width: 5px; height: 5px;background-color: rgb(175, 209, 231);\"></td><td title=\"Index: [0, 33]&#10;Color: (171, 208, 230)\" style=\"width: 5px; height: 5px;background-color: rgb(171, 208, 230);\"></td><td title=\"Index: [0, 34]&#10;Color: (169, 207, 229)\" style=\"width: 5px; height: 5px;background-color: rgb(169, 207, 229);\"></td><td title=\"Index: [0, 35]&#10;Color: (165, 205, 227)\" style=\"width: 5px; height: 5px;background-color: rgb(165, 205, 227);\"></td><td title=\"Index: [0, 36]&#10;Color: (161, 203, 226)\" style=\"width: 5px; height: 5px;background-color: rgb(161, 203, 226);\"></td><td title=\"Index: [0, 37]&#10;Color: (159, 202, 225)\" style=\"width: 5px; height: 5px;background-color: rgb(159, 202, 225);\"></td><td title=\"Index: [0, 38]&#10;Color: (154, 200, 224)\" style=\"width: 5px; height: 5px;background-color: rgb(154, 200, 224);\"></td><td title=\"Index: [0, 39]&#10;Color: (151, 198, 223)\" style=\"width: 5px; height: 5px;background-color: rgb(151, 198, 223);\"></td><td title=\"Index: [0, 40]&#10;Color: (146, 196, 222)\" style=\"width: 5px; height: 5px;background-color: rgb(146, 196, 222);\"></td><td title=\"Index: [0, 41]&#10;Color: (141, 193, 221)\" style=\"width: 5px; height: 5px;background-color: rgb(141, 193, 221);\"></td><td title=\"Index: [0, 42]&#10;Color: (138, 191, 221)\" style=\"width: 5px; height: 5px;background-color: rgb(138, 191, 221);\"></td><td title=\"Index: [0, 43]&#10;Color: (133, 188, 220)\" style=\"width: 5px; height: 5px;background-color: rgb(133, 188, 220);\"></td><td title=\"Index: [0, 44]&#10;Color: (130, 187, 219)\" style=\"width: 5px; height: 5px;background-color: rgb(130, 187, 219);\"></td><td title=\"Index: [0, 45]&#10;Color: (125, 184, 218)\" style=\"width: 5px; height: 5px;background-color: rgb(125, 184, 218);\"></td><td title=\"Index: [0, 46]&#10;Color: (122, 182, 217)\" style=\"width: 5px; height: 5px;background-color: rgb(122, 182, 217);\"></td><td title=\"Index: [0, 47]&#10;Color: (117, 180, 216)\" style=\"width: 5px; height: 5px;background-color: rgb(117, 180, 216);\"></td><td title=\"Index: [0, 48]&#10;Color: (113, 177, 215)\" style=\"width: 5px; height: 5px;background-color: rgb(113, 177, 215);\"></td><td title=\"Index: [0, 49]&#10;Color: (109, 175, 215)\" style=\"width: 5px; height: 5px;background-color: rgb(109, 175, 215);\"></td><td title=\"Index: [0, 50]&#10;Color: (105, 173, 213)\" style=\"width: 5px; height: 5px;background-color: rgb(105, 173, 213);\"></td><td title=\"Index: [0, 51]&#10;Color: (102, 171, 212)\" style=\"width: 5px; height: 5px;background-color: rgb(102, 171, 212);\"></td><td title=\"Index: [0, 52]&#10;Color: (99, 168, 211)\" style=\"width: 5px; height: 5px;background-color: rgb(99, 168, 211);\"></td><td title=\"Index: [0, 53]&#10;Color: (95, 166, 209)\" style=\"width: 5px; height: 5px;background-color: rgb(95, 166, 209);\"></td><td title=\"Index: [0, 54]&#10;Color: (92, 164, 208)\" style=\"width: 5px; height: 5px;background-color: rgb(92, 164, 208);\"></td><td title=\"Index: [0, 55]&#10;Color: (88, 161, 207)\" style=\"width: 5px; height: 5px;background-color: rgb(88, 161, 207);\"></td><td title=\"Index: [0, 56]&#10;Color: (86, 160, 206)\" style=\"width: 5px; height: 5px;background-color: rgb(86, 160, 206);\"></td><td title=\"Index: [0, 57]&#10;Color: (82, 157, 204)\" style=\"width: 5px; height: 5px;background-color: rgb(82, 157, 204);\"></td><td title=\"Index: [0, 58]&#10;Color: (79, 155, 203)\" style=\"width: 5px; height: 5px;background-color: rgb(79, 155, 203);\"></td><td title=\"Index: [0, 59]&#10;Color: (75, 152, 202)\" style=\"width: 5px; height: 5px;background-color: rgb(75, 152, 202);\"></td><td title=\"Index: [0, 60]&#10;Color: (72, 150, 200)\" style=\"width: 5px; height: 5px;background-color: rgb(72, 150, 200);\"></td><td title=\"Index: [0, 61]&#10;Color: (69, 148, 199)\" style=\"width: 5px; height: 5px;background-color: rgb(69, 148, 199);\"></td><td title=\"Index: [0, 62]&#10;Color: (65, 145, 198)\" style=\"width: 5px; height: 5px;background-color: rgb(65, 145, 198);\"></td><td title=\"Index: [0, 63]&#10;Color: (63, 143, 197)\" style=\"width: 5px; height: 5px;background-color: rgb(63, 143, 197);\"></td><td title=\"Index: [0, 64]&#10;Color: (60, 140, 195)\" style=\"width: 5px; height: 5px;background-color: rgb(60, 140, 195);\"></td><td title=\"Index: [0, 65]&#10;Color: (57, 137, 193)\" style=\"width: 5px; height: 5px;background-color: rgb(57, 137, 193);\"></td><td title=\"Index: [0, 66]&#10;Color: (55, 135, 192)\" style=\"width: 5px; height: 5px;background-color: rgb(55, 135, 192);\"></td><td title=\"Index: [0, 67]&#10;Color: (52, 132, 191)\" style=\"width: 5px; height: 5px;background-color: rgb(52, 132, 191);\"></td><td title=\"Index: [0, 68]&#10;Color: (50, 130, 190)\" style=\"width: 5px; height: 5px;background-color: rgb(50, 130, 190);\"></td><td title=\"Index: [0, 69]&#10;Color: (47, 127, 188)\" style=\"width: 5px; height: 5px;background-color: rgb(47, 127, 188);\"></td><td title=\"Index: [0, 70]&#10;Color: (44, 124, 186)\" style=\"width: 5px; height: 5px;background-color: rgb(44, 124, 186);\"></td><td title=\"Index: [0, 71]&#10;Color: (42, 122, 185)\" style=\"width: 5px; height: 5px;background-color: rgb(42, 122, 185);\"></td><td title=\"Index: [0, 72]&#10;Color: (38, 118, 184)\" style=\"width: 5px; height: 5px;background-color: rgb(38, 118, 184);\"></td><td title=\"Index: [0, 73]&#10;Color: (36, 116, 183)\" style=\"width: 5px; height: 5px;background-color: rgb(36, 116, 183);\"></td><td title=\"Index: [0, 74]&#10;Color: (33, 113, 181)\" style=\"width: 5px; height: 5px;background-color: rgb(33, 113, 181);\"></td><td title=\"Index: [0, 75]&#10;Color: (32, 111, 180)\" style=\"width: 5px; height: 5px;background-color: rgb(32, 111, 180);\"></td><td title=\"Index: [0, 76]&#10;Color: (29, 108, 177)\" style=\"width: 5px; height: 5px;background-color: rgb(29, 108, 177);\"></td><td title=\"Index: [0, 77]&#10;Color: (27, 105, 175)\" style=\"width: 5px; height: 5px;background-color: rgb(27, 105, 175);\"></td><td title=\"Index: [0, 78]&#10;Color: (25, 103, 173)\" style=\"width: 5px; height: 5px;background-color: rgb(25, 103, 173);\"></td><td title=\"Index: [0, 79]&#10;Color: (23, 100, 171)\" style=\"width: 5px; height: 5px;background-color: rgb(23, 100, 171);\"></td><td title=\"Index: [0, 80]&#10;Color: (21, 98, 169)\" style=\"width: 5px; height: 5px;background-color: rgb(21, 98, 169);\"></td><td title=\"Index: [0, 81]&#10;Color: (19, 95, 167)\" style=\"width: 5px; height: 5px;background-color: rgb(19, 95, 167);\"></td><td title=\"Index: [0, 82]&#10;Color: (17, 92, 165)\" style=\"width: 5px; height: 5px;background-color: rgb(17, 92, 165);\"></td><td title=\"Index: [0, 83]&#10;Color: (15, 90, 163)\" style=\"width: 5px; height: 5px;background-color: rgb(15, 90, 163);\"></td><td title=\"Index: [0, 84]&#10;Color: (13, 87, 161)\" style=\"width: 5px; height: 5px;background-color: rgb(13, 87, 161);\"></td><td title=\"Index: [0, 85]&#10;Color: (11, 85, 159)\" style=\"width: 5px; height: 5px;background-color: rgb(11, 85, 159);\"></td><td title=\"Index: [0, 86]&#10;Color: (9, 82, 157)\" style=\"width: 5px; height: 5px;background-color: rgb(9, 82, 157);\"></td><td title=\"Index: [0, 87]&#10;Color: (8, 80, 155)\" style=\"width: 5px; height: 5px;background-color: rgb(8, 80, 155);\"></td><td title=\"Index: [0, 88]&#10;Color: (8, 77, 150)\" style=\"width: 5px; height: 5px;background-color: rgb(8, 77, 150);\"></td><td title=\"Index: [0, 89]&#10;Color: (8, 74, 145)\" style=\"width: 5px; height: 5px;background-color: rgb(8, 74, 145);\"></td><td title=\"Index: [0, 90]&#10;Color: (8, 72, 142)\" style=\"width: 5px; height: 5px;background-color: rgb(8, 72, 142);\"></td><td title=\"Index: [0, 91]&#10;Color: (8, 69, 138)\" style=\"width: 5px; height: 5px;background-color: rgb(8, 69, 138);\"></td><td title=\"Index: [0, 92]&#10;Color: (8, 67, 135)\" style=\"width: 5px; height: 5px;background-color: rgb(8, 67, 135);\"></td><td title=\"Index: [0, 93]&#10;Color: (8, 64, 130)\" style=\"width: 5px; height: 5px;background-color: rgb(8, 64, 130);\"></td><td title=\"Index: [0, 94]&#10;Color: (8, 60, 125)\" style=\"width: 5px; height: 5px;background-color: rgb(8, 60, 125);\"></td><td title=\"Index: [0, 95]&#10;Color: (8, 58, 122)\" style=\"width: 5px; height: 5px;background-color: rgb(8, 58, 122);\"></td><td title=\"Index: [0, 96]&#10;Color: (8, 55, 118)\" style=\"width: 5px; height: 5px;background-color: rgb(8, 55, 118);\"></td><td title=\"Index: [0, 97]&#10;Color: (8, 53, 115)\" style=\"width: 5px; height: 5px;background-color: rgb(8, 53, 115);\"></td><td title=\"Index: [0, 98]&#10;Color: (8, 50, 110)\" style=\"width: 5px; height: 5px;background-color: rgb(8, 50, 110);\"></td><td title=\"Index: [0, 99]&#10;Color: (8, 48, 107)\" style=\"width: 5px; height: 5px;background-color: rgb(8, 48, 107);\"></td></tr></tbody></table>"
      ],
      "text/plain": [
       "array([  0.        ,   0.12693304,   0.25386607,   0.38079911,\n",
       "         0.50773215,   0.63466518,   0.76159822,   0.88853126,\n",
       "         1.01546429,   1.14239733,   1.26933037,   1.3962634 ,\n",
       "         1.52319644,   1.65012947,   1.77706251,   1.90399555,\n",
       "         2.03092858,   2.15786162,   2.28479466,   2.41172769,\n",
       "         2.53866073,   2.66559377,   2.7925268 ,   2.91945984,\n",
       "         3.04639288,   3.17332591,   3.30025895,   3.42719199,\n",
       "         3.55412502,   3.68105806,   3.8079911 ,   3.93492413,\n",
       "         4.06185717,   4.1887902 ,   4.31572324,   4.44265628,\n",
       "         4.56958931,   4.69652235,   4.82345539,   4.95038842,\n",
       "         5.07732146,   5.2042545 ,   5.33118753,   5.45812057,\n",
       "         5.58505361,   5.71198664,   5.83891968,   5.96585272,\n",
       "         6.09278575,   6.21971879,   6.34665183,   6.47358486,\n",
       "         6.6005179 ,   6.72745093,   6.85438397,   6.98131701,\n",
       "         7.10825004,   7.23518308,   7.36211612,   7.48904915,\n",
       "         7.61598219,   7.74291523,   7.86984826,   7.9967813 ,\n",
       "         8.12371434,   8.25064737,   8.37758041,   8.50451345,\n",
       "         8.63144648,   8.75837952,   8.88531256,   9.01224559,\n",
       "         9.13917863,   9.26611167,   9.3930447 ,   9.51997774,\n",
       "         9.64691077,   9.77384381,   9.90077685,  10.02770988,\n",
       "        10.15464292,  10.28157596,  10.40850899,  10.53544203,\n",
       "        10.66237507,  10.7893081 ,  10.91624114,  11.04317418,\n",
       "        11.17010721,  11.29704025,  11.42397329,  11.55090632,\n",
       "        11.67783936,  11.8047724 ,  11.93170543,  12.05863847,\n",
       "        12.1855715 ,  12.31250454,  12.43943758,  12.56637061])"
      ]
     },
     "execution_count": 38,
     "metadata": {},
     "output_type": "execute_result"
    }
   ],
   "source": [
    "t = np.linspace(0.0, 4*np.pi, 100)\n",
    "t"
   ]
  },
  {
   "cell_type": "code",
   "execution_count": 39,
   "metadata": {
    "collapsed": false
   },
   "outputs": [
    {
     "data": {
      "text/html": [
       "<style type=\"text/css\">table.blockgrid {border: none;} .blockgrid tr {border: none;} .blockgrid td {padding: 0px;} #blocks85838eb9-5884-417f-999a-3bafd7a6bc7b td {border: 1px solid white;}</style><table id=\"blocks85838eb9-5884-417f-999a-3bafd7a6bc7b\" class=\"blockgrid\"><tbody><tr><td title=\"Index: [0, 0]&#10;Color: (106, 174, 214)\" style=\"width: 5px; height: 5px;background-color: rgb(106, 174, 214);\"></td><td title=\"Index: [0, 1]&#10;Color: (86, 160, 206)\" style=\"width: 5px; height: 5px;background-color: rgb(86, 160, 206);\"></td><td title=\"Index: [0, 2]&#10;Color: (65, 145, 198)\" style=\"width: 5px; height: 5px;background-color: rgb(65, 145, 198);\"></td><td title=\"Index: [0, 3]&#10;Color: (50, 130, 190)\" style=\"width: 5px; height: 5px;background-color: rgb(50, 130, 190);\"></td><td title=\"Index: [0, 4]&#10;Color: (34, 114, 182)\" style=\"width: 5px; height: 5px;background-color: rgb(34, 114, 182);\"></td><td title=\"Index: [0, 5]&#10;Color: (24, 101, 172)\" style=\"width: 5px; height: 5px;background-color: rgb(24, 101, 172);\"></td><td title=\"Index: [0, 6]&#10;Color: (14, 88, 162)\" style=\"width: 5px; height: 5px;background-color: rgb(14, 88, 162);\"></td><td title=\"Index: [0, 7]&#10;Color: (8, 77, 150)\" style=\"width: 5px; height: 5px;background-color: rgb(8, 77, 150);\"></td><td title=\"Index: [0, 8]&#10;Color: (8, 68, 136)\" style=\"width: 5px; height: 5px;background-color: rgb(8, 68, 136);\"></td><td title=\"Index: [0, 9]&#10;Color: (8, 59, 124)\" style=\"width: 5px; height: 5px;background-color: rgb(8, 59, 124);\"></td><td title=\"Index: [0, 10]&#10;Color: (8, 53, 115)\" style=\"width: 5px; height: 5px;background-color: rgb(8, 53, 115);\"></td><td title=\"Index: [0, 11]&#10;Color: (8, 49, 109)\" style=\"width: 5px; height: 5px;background-color: rgb(8, 49, 109);\"></td><td title=\"Index: [0, 12]&#10;Color: (8, 48, 107)\" style=\"width: 5px; height: 5px;background-color: rgb(8, 48, 107);\"></td><td title=\"Index: [0, 13]&#10;Color: (8, 48, 107)\" style=\"width: 5px; height: 5px;background-color: rgb(8, 48, 107);\"></td><td title=\"Index: [0, 14]&#10;Color: (8, 50, 110)\" style=\"width: 5px; height: 5px;background-color: rgb(8, 50, 110);\"></td><td title=\"Index: [0, 15]&#10;Color: (8, 55, 118)\" style=\"width: 5px; height: 5px;background-color: rgb(8, 55, 118);\"></td><td title=\"Index: [0, 16]&#10;Color: (8, 61, 127)\" style=\"width: 5px; height: 5px;background-color: rgb(8, 61, 127);\"></td><td title=\"Index: [0, 17]&#10;Color: (8, 70, 139)\" style=\"width: 5px; height: 5px;background-color: rgb(8, 70, 139);\"></td><td title=\"Index: [0, 18]&#10;Color: (8, 80, 155)\" style=\"width: 5px; height: 5px;background-color: rgb(8, 80, 155);\"></td><td title=\"Index: [0, 19]&#10;Color: (16, 91, 164)\" style=\"width: 5px; height: 5px;background-color: rgb(16, 91, 164);\"></td><td title=\"Index: [0, 20]&#10;Color: (26, 104, 174)\" style=\"width: 5px; height: 5px;background-color: rgb(26, 104, 174);\"></td><td title=\"Index: [0, 21]&#10;Color: (38, 118, 184)\" style=\"width: 5px; height: 5px;background-color: rgb(38, 118, 184);\"></td><td title=\"Index: [0, 22]&#10;Color: (54, 134, 192)\" style=\"width: 5px; height: 5px;background-color: rgb(54, 134, 192);\"></td><td title=\"Index: [0, 23]&#10;Color: (70, 149, 200)\" style=\"width: 5px; height: 5px;background-color: rgb(70, 149, 200);\"></td><td title=\"Index: [0, 24]&#10;Color: (91, 163, 208)\" style=\"width: 5px; height: 5px;background-color: rgb(91, 163, 208);\"></td><td title=\"Index: [0, 25]&#10;Color: (114, 178, 216)\" style=\"width: 5px; height: 5px;background-color: rgb(114, 178, 216);\"></td><td title=\"Index: [0, 26]&#10;Color: (140, 192, 221)\" style=\"width: 5px; height: 5px;background-color: rgb(140, 192, 221);\"></td><td title=\"Index: [0, 27]&#10;Color: (164, 204, 227)\" style=\"width: 5px; height: 5px;background-color: rgb(164, 204, 227);\"></td><td title=\"Index: [0, 28]&#10;Color: (183, 212, 234)\" style=\"width: 5px; height: 5px;background-color: rgb(183, 212, 234);\"></td><td title=\"Index: [0, 29]&#10;Color: (199, 220, 239)\" style=\"width: 5px; height: 5px;background-color: rgb(199, 220, 239);\"></td><td title=\"Index: [0, 30]&#10;Color: (210, 227, 243)\" style=\"width: 5px; height: 5px;background-color: rgb(210, 227, 243);\"></td><td title=\"Index: [0, 31]&#10;Color: (219, 233, 246)\" style=\"width: 5px; height: 5px;background-color: rgb(219, 233, 246);\"></td><td title=\"Index: [0, 32]&#10;Color: (227, 238, 248)\" style=\"width: 5px; height: 5px;background-color: rgb(227, 238, 248);\"></td><td title=\"Index: [0, 33]&#10;Color: (234, 242, 251)\" style=\"width: 5px; height: 5px;background-color: rgb(234, 242, 251);\"></td><td title=\"Index: [0, 34]&#10;Color: (240, 246, 253)\" style=\"width: 5px; height: 5px;background-color: rgb(240, 246, 253);\"></td><td title=\"Index: [0, 35]&#10;Color: (244, 249, 254)\" style=\"width: 5px; height: 5px;background-color: rgb(244, 249, 254);\"></td><td title=\"Index: [0, 36]&#10;Color: (246, 250, 255)\" style=\"width: 5px; height: 5px;background-color: rgb(246, 250, 255);\"></td><td title=\"Index: [0, 37]&#10;Color: (247, 251, 255)\" style=\"width: 5px; height: 5px;background-color: rgb(247, 251, 255);\"></td><td title=\"Index: [0, 38]&#10;Color: (247, 251, 255)\" style=\"width: 5px; height: 5px;background-color: rgb(247, 251, 255);\"></td><td title=\"Index: [0, 39]&#10;Color: (245, 249, 254)\" style=\"width: 5px; height: 5px;background-color: rgb(245, 249, 254);\"></td><td title=\"Index: [0, 40]&#10;Color: (241, 247, 253)\" style=\"width: 5px; height: 5px;background-color: rgb(241, 247, 253);\"></td><td title=\"Index: [0, 41]&#10;Color: (235, 243, 251)\" style=\"width: 5px; height: 5px;background-color: rgb(235, 243, 251);\"></td><td title=\"Index: [0, 42]&#10;Color: (229, 239, 249)\" style=\"width: 5px; height: 5px;background-color: rgb(229, 239, 249);\"></td><td title=\"Index: [0, 43]&#10;Color: (221, 234, 247)\" style=\"width: 5px; height: 5px;background-color: rgb(221, 234, 247);\"></td><td title=\"Index: [0, 44]&#10;Color: (212, 228, 244)\" style=\"width: 5px; height: 5px;background-color: rgb(212, 228, 244);\"></td><td title=\"Index: [0, 45]&#10;Color: (202, 222, 240)\" style=\"width: 5px; height: 5px;background-color: rgb(202, 222, 240);\"></td><td title=\"Index: [0, 46]&#10;Color: (188, 215, 235)\" style=\"width: 5px; height: 5px;background-color: rgb(188, 215, 235);\"></td><td title=\"Index: [0, 47]&#10;Color: (168, 206, 228)\" style=\"width: 5px; height: 5px;background-color: rgb(168, 206, 228);\"></td><td title=\"Index: [0, 48]&#10;Color: (146, 196, 222)\" style=\"width: 5px; height: 5px;background-color: rgb(146, 196, 222);\"></td><td title=\"Index: [0, 49]&#10;Color: (121, 181, 217)\" style=\"width: 5px; height: 5px;background-color: rgb(121, 181, 217);\"></td><td title=\"Index: [0, 50]&#10;Color: (96, 167, 210)\" style=\"width: 5px; height: 5px;background-color: rgb(96, 167, 210);\"></td><td title=\"Index: [0, 51]&#10;Color: (75, 152, 202)\" style=\"width: 5px; height: 5px;background-color: rgb(75, 152, 202);\"></td><td title=\"Index: [0, 52]&#10;Color: (58, 138, 194)\" style=\"width: 5px; height: 5px;background-color: rgb(58, 138, 194);\"></td><td title=\"Index: [0, 53]&#10;Color: (42, 122, 185)\" style=\"width: 5px; height: 5px;background-color: rgb(42, 122, 185);\"></td><td title=\"Index: [0, 54]&#10;Color: (28, 107, 176)\" style=\"width: 5px; height: 5px;background-color: rgb(28, 107, 176);\"></td><td title=\"Index: [0, 55]&#10;Color: (18, 94, 166)\" style=\"width: 5px; height: 5px;background-color: rgb(18, 94, 166);\"></td><td title=\"Index: [0, 56]&#10;Color: (9, 82, 157)\" style=\"width: 5px; height: 5px;background-color: rgb(9, 82, 157);\"></td><td title=\"Index: [0, 57]&#10;Color: (8, 72, 142)\" style=\"width: 5px; height: 5px;background-color: rgb(8, 72, 142);\"></td><td title=\"Index: [0, 58]&#10;Color: (8, 64, 130)\" style=\"width: 5px; height: 5px;background-color: rgb(8, 64, 130);\"></td><td title=\"Index: [0, 59]&#10;Color: (8, 56, 119)\" style=\"width: 5px; height: 5px;background-color: rgb(8, 56, 119);\"></td><td title=\"Index: [0, 60]&#10;Color: (8, 51, 112)\" style=\"width: 5px; height: 5px;background-color: rgb(8, 51, 112);\"></td><td title=\"Index: [0, 61]&#10;Color: (8, 48, 107)\" style=\"width: 5px; height: 5px;background-color: rgb(8, 48, 107);\"></td><td title=\"Index: [0, 62]&#10;Color: (8, 48, 107)\" style=\"width: 5px; height: 5px;background-color: rgb(8, 48, 107);\"></td><td title=\"Index: [0, 63]&#10;Color: (8, 49, 109)\" style=\"width: 5px; height: 5px;background-color: rgb(8, 49, 109);\"></td><td title=\"Index: [0, 64]&#10;Color: (8, 52, 113)\" style=\"width: 5px; height: 5px;background-color: rgb(8, 52, 113);\"></td><td title=\"Index: [0, 65]&#10;Color: (8, 57, 121)\" style=\"width: 5px; height: 5px;background-color: rgb(8, 57, 121);\"></td><td title=\"Index: [0, 66]&#10;Color: (8, 66, 133)\" style=\"width: 5px; height: 5px;background-color: rgb(8, 66, 133);\"></td><td title=\"Index: [0, 67]&#10;Color: (8, 75, 147)\" style=\"width: 5px; height: 5px;background-color: rgb(8, 75, 147);\"></td><td title=\"Index: [0, 68]&#10;Color: (11, 85, 159)\" style=\"width: 5px; height: 5px;background-color: rgb(11, 85, 159);\"></td><td title=\"Index: [0, 69]&#10;Color: (21, 97, 169)\" style=\"width: 5px; height: 5px;background-color: rgb(21, 97, 169);\"></td><td title=\"Index: [0, 70]&#10;Color: (32, 111, 180)\" style=\"width: 5px; height: 5px;background-color: rgb(32, 111, 180);\"></td><td title=\"Index: [0, 71]&#10;Color: (46, 126, 188)\" style=\"width: 5px; height: 5px;background-color: rgb(46, 126, 188);\"></td><td title=\"Index: [0, 72]&#10;Color: (61, 141, 196)\" style=\"width: 5px; height: 5px;background-color: rgb(61, 141, 196);\"></td><td title=\"Index: [0, 73]&#10;Color: (81, 156, 204)\" style=\"width: 5px; height: 5px;background-color: rgb(81, 156, 204);\"></td><td title=\"Index: [0, 74]&#10;Color: (101, 170, 212)\" style=\"width: 5px; height: 5px;background-color: rgb(101, 170, 212);\"></td><td title=\"Index: [0, 75]&#10;Color: (127, 185, 218)\" style=\"width: 5px; height: 5px;background-color: rgb(127, 185, 218);\"></td><td title=\"Index: [0, 76]&#10;Color: (153, 199, 224)\" style=\"width: 5px; height: 5px;background-color: rgb(153, 199, 224);\"></td><td title=\"Index: [0, 77]&#10;Color: (173, 208, 230)\" style=\"width: 5px; height: 5px;background-color: rgb(173, 208, 230);\"></td><td title=\"Index: [0, 78]&#10;Color: (191, 216, 237)\" style=\"width: 5px; height: 5px;background-color: rgb(191, 216, 237);\"></td><td title=\"Index: [0, 79]&#10;Color: (205, 223, 241)\" style=\"width: 5px; height: 5px;background-color: rgb(205, 223, 241);\"></td><td title=\"Index: [0, 80]&#10;Color: (214, 230, 244)\" style=\"width: 5px; height: 5px;background-color: rgb(214, 230, 244);\"></td><td title=\"Index: [0, 81]&#10;Color: (223, 235, 247)\" style=\"width: 5px; height: 5px;background-color: rgb(223, 235, 247);\"></td><td title=\"Index: [0, 82]&#10;Color: (231, 240, 250)\" style=\"width: 5px; height: 5px;background-color: rgb(231, 240, 250);\"></td><td title=\"Index: [0, 83]&#10;Color: (237, 244, 252)\" style=\"width: 5px; height: 5px;background-color: rgb(237, 244, 252);\"></td><td title=\"Index: [0, 84]&#10;Color: (242, 247, 253)\" style=\"width: 5px; height: 5px;background-color: rgb(242, 247, 253);\"></td><td title=\"Index: [0, 85]&#10;Color: (245, 250, 254)\" style=\"width: 5px; height: 5px;background-color: rgb(245, 250, 254);\"></td><td title=\"Index: [0, 86]&#10;Color: (247, 251, 255)\" style=\"width: 5px; height: 5px;background-color: rgb(247, 251, 255);\"></td><td title=\"Index: [0, 87]&#10;Color: (247, 251, 255)\" style=\"width: 5px; height: 5px;background-color: rgb(247, 251, 255);\"></td><td title=\"Index: [0, 88]&#10;Color: (246, 250, 255)\" style=\"width: 5px; height: 5px;background-color: rgb(246, 250, 255);\"></td><td title=\"Index: [0, 89]&#10;Color: (243, 248, 254)\" style=\"width: 5px; height: 5px;background-color: rgb(243, 248, 254);\"></td><td title=\"Index: [0, 90]&#10;Color: (238, 245, 252)\" style=\"width: 5px; height: 5px;background-color: rgb(238, 245, 252);\"></td><td title=\"Index: [0, 91]&#10;Color: (232, 241, 250)\" style=\"width: 5px; height: 5px;background-color: rgb(232, 241, 250);\"></td><td title=\"Index: [0, 92]&#10;Color: (225, 237, 248)\" style=\"width: 5px; height: 5px;background-color: rgb(225, 237, 248);\"></td><td title=\"Index: [0, 93]&#10;Color: (217, 231, 245)\" style=\"width: 5px; height: 5px;background-color: rgb(217, 231, 245);\"></td><td title=\"Index: [0, 94]&#10;Color: (207, 225, 242)\" style=\"width: 5px; height: 5px;background-color: rgb(207, 225, 242);\"></td><td title=\"Index: [0, 95]&#10;Color: (196, 218, 238)\" style=\"width: 5px; height: 5px;background-color: rgb(196, 218, 238);\"></td><td title=\"Index: [0, 96]&#10;Color: (178, 210, 232)\" style=\"width: 5px; height: 5px;background-color: rgb(178, 210, 232);\"></td><td title=\"Index: [0, 97]&#10;Color: (159, 202, 225)\" style=\"width: 5px; height: 5px;background-color: rgb(159, 202, 225);\"></td><td title=\"Index: [0, 98]&#10;Color: (133, 188, 220)\" style=\"width: 5px; height: 5px;background-color: rgb(133, 188, 220);\"></td><td title=\"Index: [0, 99]&#10;Color: (108, 174, 214)\" style=\"width: 5px; height: 5px;background-color: rgb(108, 174, 214);\"></td></tr></tbody></table>"
      ],
      "text/plain": [
       "array([  0.00000000e+00,   1.26592454e-01,   2.51147987e-01,\n",
       "         3.71662456e-01,   4.86196736e-01,   5.92907929e-01,\n",
       "         6.90079011e-01,   7.76146464e-01,   8.49725430e-01,\n",
       "         9.09631995e-01,   9.54902241e-01,   9.84807753e-01,\n",
       "         9.98867339e-01,   9.96854776e-01,   9.78802446e-01,\n",
       "         9.45000819e-01,   8.95993774e-01,   8.32569855e-01,\n",
       "         7.55749574e-01,   6.66769001e-01,   5.67059864e-01,\n",
       "         4.58226522e-01,   3.42020143e-01,   2.20310533e-01,\n",
       "         9.50560433e-02,  -3.17279335e-02,  -1.58001396e-01,\n",
       "        -2.81732557e-01,  -4.00930535e-01,  -5.13677392e-01,\n",
       "        -6.18158986e-01,  -7.12694171e-01,  -7.95761841e-01,\n",
       "        -8.66025404e-01,  -9.22354294e-01,  -9.63842159e-01,\n",
       "        -9.89821442e-01,  -9.99874128e-01,  -9.93838464e-01,\n",
       "        -9.71811568e-01,  -9.34147860e-01,  -8.81453363e-01,\n",
       "        -8.14575952e-01,  -7.34591709e-01,  -6.42787610e-01,\n",
       "        -5.40640817e-01,  -4.29794912e-01,  -3.12033446e-01,\n",
       "        -1.89251244e-01,  -6.34239197e-02,   6.34239197e-02,\n",
       "         1.89251244e-01,   3.12033446e-01,   4.29794912e-01,\n",
       "         5.40640817e-01,   6.42787610e-01,   7.34591709e-01,\n",
       "         8.14575952e-01,   8.81453363e-01,   9.34147860e-01,\n",
       "         9.71811568e-01,   9.93838464e-01,   9.99874128e-01,\n",
       "         9.89821442e-01,   9.63842159e-01,   9.22354294e-01,\n",
       "         8.66025404e-01,   7.95761841e-01,   7.12694171e-01,\n",
       "         6.18158986e-01,   5.13677392e-01,   4.00930535e-01,\n",
       "         2.81732557e-01,   1.58001396e-01,   3.17279335e-02,\n",
       "        -9.50560433e-02,  -2.20310533e-01,  -3.42020143e-01,\n",
       "        -4.58226522e-01,  -5.67059864e-01,  -6.66769001e-01,\n",
       "        -7.55749574e-01,  -8.32569855e-01,  -8.95993774e-01,\n",
       "        -9.45000819e-01,  -9.78802446e-01,  -9.96854776e-01,\n",
       "        -9.98867339e-01,  -9.84807753e-01,  -9.54902241e-01,\n",
       "        -9.09631995e-01,  -8.49725430e-01,  -7.76146464e-01,\n",
       "        -6.90079011e-01,  -5.92907929e-01,  -4.86196736e-01,\n",
       "        -3.71662456e-01,  -2.51147987e-01,  -1.26592454e-01,\n",
       "        -4.89858720e-16])"
      ]
     },
     "execution_count": 39,
     "metadata": {},
     "output_type": "execute_result"
    }
   ],
   "source": [
    "np.sin(t)"
   ]
  },
  {
   "cell_type": "code",
   "execution_count": 40,
   "metadata": {
    "collapsed": false
   },
   "outputs": [
    {
     "data": {
      "text/html": [
       "<style type=\"text/css\">table.blockgrid {border: none;} .blockgrid tr {border: none;} .blockgrid td {padding: 0px;} #blocks21fe9ca4-3a9d-4da6-a385-96d2b3a07f69 td {border: 1px solid white;}</style><table id=\"blocks21fe9ca4-3a9d-4da6-a385-96d2b3a07f69\" class=\"blockgrid\"><tbody><tr><td title=\"Index: [0, 0]&#10;Color: (247, 251, 255)\" style=\"width: 5px; height: 5px;background-color: rgb(247, 251, 255);\"></td><td title=\"Index: [0, 1]&#10;Color: (245, 249, 254)\" style=\"width: 5px; height: 5px;background-color: rgb(245, 249, 254);\"></td><td title=\"Index: [0, 2]&#10;Color: (244, 249, 254)\" style=\"width: 5px; height: 5px;background-color: rgb(244, 249, 254);\"></td><td title=\"Index: [0, 3]&#10;Color: (242, 248, 253)\" style=\"width: 5px; height: 5px;background-color: rgb(242, 248, 253);\"></td><td title=\"Index: [0, 4]&#10;Color: (242, 247, 253)\" style=\"width: 5px; height: 5px;background-color: rgb(242, 247, 253);\"></td><td title=\"Index: [0, 5]&#10;Color: (240, 246, 253)\" style=\"width: 5px; height: 5px;background-color: rgb(240, 246, 253);\"></td><td title=\"Index: [0, 6]&#10;Color: (239, 246, 252)\" style=\"width: 5px; height: 5px;background-color: rgb(239, 246, 252);\"></td><td title=\"Index: [0, 7]&#10;Color: (238, 245, 252)\" style=\"width: 5px; height: 5px;background-color: rgb(238, 245, 252);\"></td><td title=\"Index: [0, 8]&#10;Color: (237, 244, 252)\" style=\"width: 5px; height: 5px;background-color: rgb(237, 244, 252);\"></td><td title=\"Index: [0, 9]&#10;Color: (236, 244, 251)\" style=\"width: 5px; height: 5px;background-color: rgb(236, 244, 251);\"></td><td title=\"Index: [0, 10]&#10;Color: (235, 243, 251)\" style=\"width: 5px; height: 5px;background-color: rgb(235, 243, 251);\"></td><td title=\"Index: [0, 11]&#10;Color: (234, 242, 251)\" style=\"width: 5px; height: 5px;background-color: rgb(234, 242, 251);\"></td><td title=\"Index: [0, 12]&#10;Color: (233, 242, 250)\" style=\"width: 5px; height: 5px;background-color: rgb(233, 242, 250);\"></td><td title=\"Index: [0, 13]&#10;Color: (232, 241, 250)\" style=\"width: 5px; height: 5px;background-color: rgb(232, 241, 250);\"></td><td title=\"Index: [0, 14]&#10;Color: (231, 240, 250)\" style=\"width: 5px; height: 5px;background-color: rgb(231, 240, 250);\"></td><td title=\"Index: [0, 15]&#10;Color: (230, 240, 249)\" style=\"width: 5px; height: 5px;background-color: rgb(230, 240, 249);\"></td><td title=\"Index: [0, 16]&#10;Color: (228, 239, 249)\" style=\"width: 5px; height: 5px;background-color: rgb(228, 239, 249);\"></td><td title=\"Index: [0, 17]&#10;Color: (227, 238, 249)\" style=\"width: 5px; height: 5px;background-color: rgb(227, 238, 249);\"></td><td title=\"Index: [0, 18]&#10;Color: (227, 238, 248)\" style=\"width: 5px; height: 5px;background-color: rgb(227, 238, 248);\"></td><td title=\"Index: [0, 19]&#10;Color: (225, 237, 248)\" style=\"width: 5px; height: 5px;background-color: rgb(225, 237, 248);\"></td><td title=\"Index: [0, 20]&#10;Color: (224, 236, 248)\" style=\"width: 5px; height: 5px;background-color: rgb(224, 236, 248);\"></td><td title=\"Index: [0, 21]&#10;Color: (223, 235, 247)\" style=\"width: 5px; height: 5px;background-color: rgb(223, 235, 247);\"></td><td title=\"Index: [0, 22]&#10;Color: (222, 235, 247)\" style=\"width: 5px; height: 5px;background-color: rgb(222, 235, 247);\"></td><td title=\"Index: [0, 23]&#10;Color: (220, 234, 246)\" style=\"width: 5px; height: 5px;background-color: rgb(220, 234, 246);\"></td><td title=\"Index: [0, 24]&#10;Color: (220, 233, 246)\" style=\"width: 5px; height: 5px;background-color: rgb(220, 233, 246);\"></td><td title=\"Index: [0, 25]&#10;Color: (218, 232, 246)\" style=\"width: 5px; height: 5px;background-color: rgb(218, 232, 246);\"></td><td title=\"Index: [0, 26]&#10;Color: (217, 231, 245)\" style=\"width: 5px; height: 5px;background-color: rgb(217, 231, 245);\"></td><td title=\"Index: [0, 27]&#10;Color: (216, 231, 245)\" style=\"width: 5px; height: 5px;background-color: rgb(216, 231, 245);\"></td><td title=\"Index: [0, 28]&#10;Color: (214, 230, 244)\" style=\"width: 5px; height: 5px;background-color: rgb(214, 230, 244);\"></td><td title=\"Index: [0, 29]&#10;Color: (213, 229, 244)\" style=\"width: 5px; height: 5px;background-color: rgb(213, 229, 244);\"></td><td title=\"Index: [0, 30]&#10;Color: (212, 228, 244)\" style=\"width: 5px; height: 5px;background-color: rgb(212, 228, 244);\"></td><td title=\"Index: [0, 31]&#10;Color: (211, 227, 243)\" style=\"width: 5px; height: 5px;background-color: rgb(211, 227, 243);\"></td><td title=\"Index: [0, 32]&#10;Color: (209, 226, 243)\" style=\"width: 5px; height: 5px;background-color: rgb(209, 226, 243);\"></td><td title=\"Index: [0, 33]&#10;Color: (208, 225, 242)\" style=\"width: 5px; height: 5px;background-color: rgb(208, 225, 242);\"></td><td title=\"Index: [0, 34]&#10;Color: (206, 224, 242)\" style=\"width: 5px; height: 5px;background-color: rgb(206, 224, 242);\"></td><td title=\"Index: [0, 35]&#10;Color: (205, 223, 241)\" style=\"width: 5px; height: 5px;background-color: rgb(205, 223, 241);\"></td><td title=\"Index: [0, 36]&#10;Color: (204, 223, 241)\" style=\"width: 5px; height: 5px;background-color: rgb(204, 223, 241);\"></td><td title=\"Index: [0, 37]&#10;Color: (202, 222, 240)\" style=\"width: 5px; height: 5px;background-color: rgb(202, 222, 240);\"></td><td title=\"Index: [0, 38]&#10;Color: (201, 221, 240)\" style=\"width: 5px; height: 5px;background-color: rgb(201, 221, 240);\"></td><td title=\"Index: [0, 39]&#10;Color: (199, 220, 239)\" style=\"width: 5px; height: 5px;background-color: rgb(199, 220, 239);\"></td><td title=\"Index: [0, 40]&#10;Color: (198, 219, 239)\" style=\"width: 5px; height: 5px;background-color: rgb(198, 219, 239);\"></td><td title=\"Index: [0, 41]&#10;Color: (195, 218, 238)\" style=\"width: 5px; height: 5px;background-color: rgb(195, 218, 238);\"></td><td title=\"Index: [0, 42]&#10;Color: (193, 217, 237)\" style=\"width: 5px; height: 5px;background-color: rgb(193, 217, 237);\"></td><td title=\"Index: [0, 43]&#10;Color: (189, 215, 236)\" style=\"width: 5px; height: 5px;background-color: rgb(189, 215, 236);\"></td><td title=\"Index: [0, 44]&#10;Color: (186, 214, 235)\" style=\"width: 5px; height: 5px;background-color: rgb(186, 214, 235);\"></td><td title=\"Index: [0, 45]&#10;Color: (184, 213, 234)\" style=\"width: 5px; height: 5px;background-color: rgb(184, 213, 234);\"></td><td title=\"Index: [0, 46]&#10;Color: (181, 212, 233)\" style=\"width: 5px; height: 5px;background-color: rgb(181, 212, 233);\"></td><td title=\"Index: [0, 47]&#10;Color: (179, 211, 232)\" style=\"width: 5px; height: 5px;background-color: rgb(179, 211, 232);\"></td><td title=\"Index: [0, 48]&#10;Color: (175, 209, 231)\" style=\"width: 5px; height: 5px;background-color: rgb(175, 209, 231);\"></td><td title=\"Index: [0, 49]&#10;Color: (173, 208, 230)\" style=\"width: 5px; height: 5px;background-color: rgb(173, 208, 230);\"></td><td title=\"Index: [0, 50]&#10;Color: (170, 207, 229)\" style=\"width: 5px; height: 5px;background-color: rgb(170, 207, 229);\"></td><td title=\"Index: [0, 51]&#10;Color: (166, 206, 228)\" style=\"width: 5px; height: 5px;background-color: rgb(166, 206, 228);\"></td><td title=\"Index: [0, 52]&#10;Color: (164, 204, 227)\" style=\"width: 5px; height: 5px;background-color: rgb(164, 204, 227);\"></td><td title=\"Index: [0, 53]&#10;Color: (160, 203, 226)\" style=\"width: 5px; height: 5px;background-color: rgb(160, 203, 226);\"></td><td title=\"Index: [0, 54]&#10;Color: (157, 202, 225)\" style=\"width: 5px; height: 5px;background-color: rgb(157, 202, 225);\"></td><td title=\"Index: [0, 55]&#10;Color: (153, 199, 224)\" style=\"width: 5px; height: 5px;background-color: rgb(153, 199, 224);\"></td><td title=\"Index: [0, 56]&#10;Color: (149, 197, 223)\" style=\"width: 5px; height: 5px;background-color: rgb(149, 197, 223);\"></td><td title=\"Index: [0, 57]&#10;Color: (145, 195, 222)\" style=\"width: 5px; height: 5px;background-color: rgb(145, 195, 222);\"></td><td title=\"Index: [0, 58]&#10;Color: (140, 192, 221)\" style=\"width: 5px; height: 5px;background-color: rgb(140, 192, 221);\"></td><td title=\"Index: [0, 59]&#10;Color: (137, 190, 220)\" style=\"width: 5px; height: 5px;background-color: rgb(137, 190, 220);\"></td><td title=\"Index: [0, 60]&#10;Color: (132, 188, 219)\" style=\"width: 5px; height: 5px;background-color: rgb(132, 188, 219);\"></td><td title=\"Index: [0, 61]&#10;Color: (127, 185, 218)\" style=\"width: 5px; height: 5px;background-color: rgb(127, 185, 218);\"></td><td title=\"Index: [0, 62]&#10;Color: (122, 182, 217)\" style=\"width: 5px; height: 5px;background-color: rgb(122, 182, 217);\"></td><td title=\"Index: [0, 63]&#10;Color: (117, 180, 216)\" style=\"width: 5px; height: 5px;background-color: rgb(117, 180, 216);\"></td><td title=\"Index: [0, 64]&#10;Color: (114, 178, 216)\" style=\"width: 5px; height: 5px;background-color: rgb(114, 178, 216);\"></td><td title=\"Index: [0, 65]&#10;Color: (109, 175, 215)\" style=\"width: 5px; height: 5px;background-color: rgb(109, 175, 215);\"></td><td title=\"Index: [0, 66]&#10;Color: (105, 173, 213)\" style=\"width: 5px; height: 5px;background-color: rgb(105, 173, 213);\"></td><td title=\"Index: [0, 67]&#10;Color: (101, 170, 212)\" style=\"width: 5px; height: 5px;background-color: rgb(101, 170, 212);\"></td><td title=\"Index: [0, 68]&#10;Color: (96, 167, 210)\" style=\"width: 5px; height: 5px;background-color: rgb(96, 167, 210);\"></td><td title=\"Index: [0, 69]&#10;Color: (92, 164, 208)\" style=\"width: 5px; height: 5px;background-color: rgb(92, 164, 208);\"></td><td title=\"Index: [0, 70]&#10;Color: (88, 161, 207)\" style=\"width: 5px; height: 5px;background-color: rgb(88, 161, 207);\"></td><td title=\"Index: [0, 71]&#10;Color: (84, 159, 205)\" style=\"width: 5px; height: 5px;background-color: rgb(84, 159, 205);\"></td><td title=\"Index: [0, 72]&#10;Color: (81, 156, 204)\" style=\"width: 5px; height: 5px;background-color: rgb(81, 156, 204);\"></td><td title=\"Index: [0, 73]&#10;Color: (75, 152, 202)\" style=\"width: 5px; height: 5px;background-color: rgb(75, 152, 202);\"></td><td title=\"Index: [0, 74]&#10;Color: (72, 150, 200)\" style=\"width: 5px; height: 5px;background-color: rgb(72, 150, 200);\"></td><td title=\"Index: [0, 75]&#10;Color: (68, 147, 199)\" style=\"width: 5px; height: 5px;background-color: rgb(68, 147, 199);\"></td><td title=\"Index: [0, 76]&#10;Color: (63, 143, 197)\" style=\"width: 5px; height: 5px;background-color: rgb(63, 143, 197);\"></td><td title=\"Index: [0, 77]&#10;Color: (60, 140, 195)\" style=\"width: 5px; height: 5px;background-color: rgb(60, 140, 195);\"></td><td title=\"Index: [0, 78]&#10;Color: (56, 136, 193)\" style=\"width: 5px; height: 5px;background-color: rgb(56, 136, 193);\"></td><td title=\"Index: [0, 79]&#10;Color: (53, 133, 191)\" style=\"width: 5px; height: 5px;background-color: rgb(53, 133, 191);\"></td><td title=\"Index: [0, 80]&#10;Color: (49, 129, 189)\" style=\"width: 5px; height: 5px;background-color: rgb(49, 129, 189);\"></td><td title=\"Index: [0, 81]&#10;Color: (45, 125, 187)\" style=\"width: 5px; height: 5px;background-color: rgb(45, 125, 187);\"></td><td title=\"Index: [0, 82]&#10;Color: (41, 121, 185)\" style=\"width: 5px; height: 5px;background-color: rgb(41, 121, 185);\"></td><td title=\"Index: [0, 83]&#10;Color: (37, 117, 183)\" style=\"width: 5px; height: 5px;background-color: rgb(37, 117, 183);\"></td><td title=\"Index: [0, 84]&#10;Color: (33, 113, 181)\" style=\"width: 5px; height: 5px;background-color: rgb(33, 113, 181);\"></td><td title=\"Index: [0, 85]&#10;Color: (30, 109, 178)\" style=\"width: 5px; height: 5px;background-color: rgb(30, 109, 178);\"></td><td title=\"Index: [0, 86]&#10;Color: (27, 105, 175)\" style=\"width: 5px; height: 5px;background-color: rgb(27, 105, 175);\"></td><td title=\"Index: [0, 87]&#10;Color: (24, 101, 172)\" style=\"width: 5px; height: 5px;background-color: rgb(24, 101, 172);\"></td><td title=\"Index: [0, 88]&#10;Color: (21, 97, 169)\" style=\"width: 5px; height: 5px;background-color: rgb(21, 97, 169);\"></td><td title=\"Index: [0, 89]&#10;Color: (18, 93, 166)\" style=\"width: 5px; height: 5px;background-color: rgb(18, 93, 166);\"></td><td title=\"Index: [0, 90]&#10;Color: (14, 89, 162)\" style=\"width: 5px; height: 5px;background-color: rgb(14, 89, 162);\"></td><td title=\"Index: [0, 91]&#10;Color: (10, 84, 158)\" style=\"width: 5px; height: 5px;background-color: rgb(10, 84, 158);\"></td><td title=\"Index: [0, 92]&#10;Color: (8, 80, 155)\" style=\"width: 5px; height: 5px;background-color: rgb(8, 80, 155);\"></td><td title=\"Index: [0, 93]&#10;Color: (8, 76, 149)\" style=\"width: 5px; height: 5px;background-color: rgb(8, 76, 149);\"></td><td title=\"Index: [0, 94]&#10;Color: (8, 71, 141)\" style=\"width: 5px; height: 5px;background-color: rgb(8, 71, 141);\"></td><td title=\"Index: [0, 95]&#10;Color: (8, 67, 135)\" style=\"width: 5px; height: 5px;background-color: rgb(8, 67, 135);\"></td><td title=\"Index: [0, 96]&#10;Color: (8, 61, 127)\" style=\"width: 5px; height: 5px;background-color: rgb(8, 61, 127);\"></td><td title=\"Index: [0, 97]&#10;Color: (8, 57, 121)\" style=\"width: 5px; height: 5px;background-color: rgb(8, 57, 121);\"></td><td title=\"Index: [0, 98]&#10;Color: (8, 52, 113)\" style=\"width: 5px; height: 5px;background-color: rgb(8, 52, 113);\"></td><td title=\"Index: [0, 99]&#10;Color: (8, 48, 107)\" style=\"width: 5px; height: 5px;background-color: rgb(8, 48, 107);\"></td></tr></tbody></table>"
      ],
      "text/plain": [
       "array([  1.        ,   1.42800252,   1.65508314,   1.85352498,\n",
       "         2.0391912 ,   2.21811727,   2.39335452,   2.56669572,\n",
       "         2.73930019,   2.91197017,   3.0852899 ,   3.25970239,\n",
       "         3.43555487,   3.61312719,   3.79265037,   3.97431915,\n",
       "         4.15830075,   4.34474111,   4.53376955,   4.72550211,\n",
       "         4.92004424,   5.11749275,   5.31793737,   5.52146205,\n",
       "         5.72814588,   5.93806395,   6.15128796,   6.36788679,\n",
       "         6.58792691,   6.81147279,   7.03858718,   7.26933139,\n",
       "         7.50376552,   7.74194862,   7.9839389 ,   8.22979383,\n",
       "         8.47957029,   8.73332467,   8.99111297,   9.25299087,\n",
       "         9.5190138 ,   9.78923703,  10.0637157 ,  10.3425049 ,\n",
       "        10.62565969,  10.91323513,  11.20528637,  11.50186863,\n",
       "        11.80303726,  12.10884775,  12.41935577,  12.73461719,\n",
       "        13.05468809,  13.37962479,  13.70948387,  14.04432217,\n",
       "        14.38419685,  14.72916532,  15.07928535,  15.43461502,\n",
       "        15.79521274,  16.16113729,  16.53244781,  16.90920379,\n",
       "        17.29146511,  17.67929205,  18.07274529,  18.47188589,\n",
       "        18.87677534,  19.28747555,  19.70404886,  20.12655804,\n",
       "        20.5550663 ,  20.9896373 ,  21.43033517,  21.87722446,\n",
       "        22.33037022,  22.78983796,  23.25569367,  23.72800383,\n",
       "        24.20683537,  24.69225577,  25.18433296,  25.68313539,\n",
       "        26.18873203,  26.70119236,  27.22058635,  27.74698452,\n",
       "        28.28045791,  28.82107809,  29.36891717,  29.9240478 ,\n",
       "        30.48654317,  31.05647702,  31.63392365,  32.21895792,\n",
       "        32.81165525,  33.41209162,  34.0203436 ,  34.63648831])"
      ]
     },
     "execution_count": 40,
     "metadata": {},
     "output_type": "execute_result"
    }
   ],
   "source": [
    "np.exp(np.sqrt(t))"
   ]
  },
  {
   "cell_type": "code",
   "execution_count": 41,
   "metadata": {
    "collapsed": true
   },
   "outputs": [],
   "source": [
    "va.disable()\n",
    "va.set_block_size(30)"
   ]
  },
  {
   "cell_type": "code",
   "execution_count": 42,
   "metadata": {
    "collapsed": false
   },
   "outputs": [
    {
     "data": {
      "text/plain": [
       "[<matplotlib.lines.Line2D at 0x7f3dab437110>]"
      ]
     },
     "execution_count": 42,
     "metadata": {},
     "output_type": "execute_result"
    },
    {
     "data": {
      "image/png": "[encoded data removed]",
      "text/plain": [
       "<matplotlib.figure.Figure at 0x7f3dab48a290>"
      ]
     },
     "metadata": {},
     "output_type": "display_data"
    }
   ],
   "source": [
    "plt.plot(t, np.exp(-0.1*t)*np.sin(t))"
   ]
  },
  {
   "cell_type": "code",
   "execution_count": 43,
   "metadata": {
    "collapsed": true
   },
   "outputs": [],
   "source": [
    "ages = np.array([23,56,67,89,23,56,27,12,8,72])\n",
    "genders = np.array(['m','m','f','f','m','f','m','m','m','f'])"
   ]
  },
  {
   "cell_type": "code",
   "execution_count": 44,
   "metadata": {
    "collapsed": false
   },
   "outputs": [
    {
     "data": {
      "text/plain": [
       "(8, 89)"
      ]
     },
     "execution_count": 44,
     "metadata": {},
     "output_type": "execute_result"
    }
   ],
   "source": [
    "ages.min(), ages.max()"
   ]
  },
  {
   "cell_type": "code",
   "execution_count": 45,
   "metadata": {
    "collapsed": false
   },
   "outputs": [
    {
     "data": {
      "text/plain": [
       "43.299999999999997"
      ]
     },
     "execution_count": 45,
     "metadata": {},
     "output_type": "execute_result"
    }
   ],
   "source": [
    "ages.mean()"
   ]
  },
  {
   "cell_type": "code",
   "execution_count": 46,
   "metadata": {
    "collapsed": false
   },
   "outputs": [
    {
     "data": {
      "text/plain": [
       "(711.21000000000004, 26.668520768876554)"
      ]
     },
     "execution_count": 46,
     "metadata": {},
     "output_type": "execute_result"
    }
   ],
   "source": [
    "ages.var(), ages.std()"
   ]
  },
  {
   "cell_type": "code",
   "execution_count": 47,
   "metadata": {
    "collapsed": false
   },
   "outputs": [
    {
     "data": {
      "text/plain": [
       "array([0, 0, 0, 0, 0, 0, 0, 0, 1, 0, 0, 0, 1, 0, 0, 0, 0, 0, 0, 0, 0, 0, 0,\n",
       "       2, 0, 0, 0, 1, 0, 0, 0, 0, 0, 0, 0, 0, 0, 0, 0, 0, 0, 0, 0, 0, 0, 0,\n",
       "       0, 0, 0, 0, 0, 0, 0, 0, 0, 0, 2, 0, 0, 0, 0, 0, 0, 0, 0, 0, 0, 1, 0,\n",
       "       0, 0, 0, 1, 0, 0, 0, 0, 0, 0, 0, 0, 0, 0, 0, 0, 0, 0, 0, 0, 1])"
      ]
     },
     "execution_count": 47,
     "metadata": {},
     "output_type": "execute_result"
    }
   ],
   "source": [
    "np.bincount(ages)"
   ]
  },
  {
   "cell_type": "code",
   "execution_count": 48,
   "metadata": {
    "collapsed": false
   },
   "outputs": [
    {
     "data": {
      "text/plain": [
       "array([ 23,  79, 146, 235, 258, 314, 341, 353, 361, 433])"
      ]
     },
     "execution_count": 48,
     "metadata": {},
     "output_type": "execute_result"
    }
   ],
   "source": [
    "ages.cumsum()"
   ]
  },
  {
   "cell_type": "code",
   "execution_count": 49,
   "metadata": {
    "collapsed": false
   },
   "outputs": [
    {
     "data": {
      "text/plain": [
       "array([              23,             1288,            86296,\n",
       "                7680344,        176647912,       9892283072,\n",
       "           267091642944,    3205099715328,   25640797722624,\n",
       "       1846137436028928])"
      ]
     },
     "execution_count": 49,
     "metadata": {},
     "output_type": "execute_result"
    }
   ],
   "source": [
    "ages.cumprod()"
   ]
  },
  {
   "cell_type": "code",
   "execution_count": 50,
   "metadata": {
    "collapsed": false
   },
   "outputs": [
    {
     "data": {
      "text/plain": [
       "array([[8, 8, 8, 7],\n",
       "       [6, 1, 0, 1],\n",
       "       [9, 2, 4, 5]])"
      ]
     },
     "execution_count": 50,
     "metadata": {},
     "output_type": "execute_result"
    }
   ],
   "source": [
    "a = np.random.randint(0,10,(3,4))\n",
    "a"
   ]
  },
  {
   "cell_type": "code",
   "execution_count": 51,
   "metadata": {
    "collapsed": false
   },
   "outputs": [
    {
     "data": {
      "text/plain": [
       "array([23, 11, 12, 13])"
      ]
     },
     "execution_count": 51,
     "metadata": {},
     "output_type": "execute_result"
    }
   ],
   "source": [
    "a.sum(axis=0)"
   ]
  },
  {
   "cell_type": "code",
   "execution_count": 52,
   "metadata": {
    "collapsed": false
   },
   "outputs": [
    {
     "data": {
      "text/plain": [
       "array([31,  8, 20])"
      ]
     },
     "execution_count": 52,
     "metadata": {},
     "output_type": "execute_result"
    }
   ],
   "source": [
    "a.sum(axis=1)"
   ]
  },
  {
   "cell_type": "code",
   "execution_count": 53,
   "metadata": {
    "collapsed": false
   },
   "outputs": [
    {
     "data": {
      "text/plain": [
       "array(['f', 'm'], \n",
       "      dtype='|S1')"
      ]
     },
     "execution_count": 53,
     "metadata": {},
     "output_type": "execute_result"
    }
   ],
   "source": [
    "np.unique(genders)"
   ]
  },
  {
   "cell_type": "code",
   "execution_count": 54,
   "metadata": {
    "collapsed": false
   },
   "outputs": [
    {
     "data": {
      "text/plain": [
       "(array(['f', 'm'], \n",
       "       dtype='|S1'), array([4, 6]))"
      ]
     },
     "execution_count": 54,
     "metadata": {},
     "output_type": "execute_result"
    }
   ],
   "source": [
    "np.unique(genders,return_counts=True)"
   ]
  },
  {
   "cell_type": "code",
   "execution_count": 55,
   "metadata": {
    "collapsed": false
   },
   "outputs": [
    {
     "data": {
      "text/plain": [
       "array([1, 0, 0, 0, 1, 0, 1, 1, 1, 0])"
      ]
     },
     "execution_count": 55,
     "metadata": {},
     "output_type": "execute_result"
    }
   ],
   "source": [
    "np.where(ages>30, 0, 1)"
   ]
  },
  {
   "cell_type": "code",
   "execution_count": 56,
   "metadata": {
    "collapsed": false
   },
   "outputs": [
    {
     "data": {
      "text/plain": [
       "array([ 0, 56, 67, 89,  0, 56,  0,  0,  0, 72])"
      ]
     },
     "execution_count": 56,
     "metadata": {},
     "output_type": "execute_result"
    }
   ],
   "source": [
    "np.where(ages<30, 0, ages)"
   ]
  },
  {
   "cell_type": "code",
   "execution_count": 57,
   "metadata": {
    "collapsed": false
   },
   "outputs": [
    {
     "data": {
      "text/plain": [
       "array([ 0.18830122,  0.83845397,  0.81110033,  0.47910764,  0.53906557,\n",
       "        0.65843344,  0.86157557,  0.16586074,  0.92789509,  0.32601429])"
      ]
     },
     "execution_count": 57,
     "metadata": {},
     "output_type": "execute_result"
    }
   ],
   "source": [
    "a = np.random.rand(10)\n",
    "a"
   ]
  },
  {
   "cell_type": "code",
   "execution_count": 58,
   "metadata": {
    "collapsed": true
   },
   "outputs": [],
   "source": [
    "np.save(\"array1\", a)"
   ]
  },
  {
   "cell_type": "code",
   "execution_count": 59,
   "metadata": {
    "collapsed": false
   },
   "outputs": [
    {
     "name": "stdout",
     "output_type": "stream",
     "text": [
      "array1.npy  array2.txt  arrays.npz  Day05.ipynb  Numpy.ipynb  Untitled.ipynb\r\n"
     ]
    }
   ],
   "source": [
    "ls"
   ]
  },
  {
   "cell_type": "code",
   "execution_count": 60,
   "metadata": {
    "collapsed": true
   },
   "outputs": [],
   "source": [
    "%pycat array1.npy"
   ]
  },
  {
   "cell_type": "code",
   "execution_count": 61,
   "metadata": {
    "collapsed": true
   },
   "outputs": [],
   "source": [
    "a_copy = np.load(\"array1.npy\")"
   ]
  },
  {
   "cell_type": "code",
   "execution_count": 62,
   "metadata": {
    "collapsed": false
   },
   "outputs": [
    {
     "data": {
      "text/plain": [
       "array([ 0.18830122,  0.83845397,  0.81110033,  0.47910764,  0.53906557,\n",
       "        0.65843344,  0.86157557,  0.16586074,  0.92789509,  0.32601429])"
      ]
     },
     "execution_count": 62,
     "metadata": {},
     "output_type": "execute_result"
    }
   ],
   "source": [
    "a_copy"
   ]
  },
  {
   "cell_type": "code",
   "execution_count": 63,
   "metadata": {
    "collapsed": false
   },
   "outputs": [
    {
     "data": {
      "text/plain": [
       "array([[6, 3, 5],\n",
       "       [4, 0, 3],\n",
       "       [3, 4, 4],\n",
       "       [9, 8, 0],\n",
       "       [2, 5, 5]])"
      ]
     },
     "execution_count": 63,
     "metadata": {},
     "output_type": "execute_result"
    }
   ],
   "source": [
    "b = np.random.randint(0,10,(5,3))\n",
    "b"
   ]
  },
  {
   "cell_type": "code",
   "execution_count": 64,
   "metadata": {
    "collapsed": true
   },
   "outputs": [],
   "source": [
    "np.savetxt(\"array2.txt\", b)"
   ]
  },
  {
   "cell_type": "code",
   "execution_count": 65,
   "metadata": {
    "collapsed": false
   },
   "outputs": [
    {
     "name": "stdout",
     "output_type": "stream",
     "text": [
      "array1.npy  array2.txt  arrays.npz  Day05.ipynb  Numpy.ipynb  Untitled.ipynb\r\n"
     ]
    }
   ],
   "source": [
    "ls"
   ]
  },
  {
   "cell_type": "code",
   "execution_count": 66,
   "metadata": {
    "collapsed": true
   },
   "outputs": [],
   "source": [
    "%pycat array2.txt"
   ]
  },
  {
   "cell_type": "code",
   "execution_count": 67,
   "metadata": {
    "collapsed": false
   },
   "outputs": [
    {
     "data": {
      "text/plain": [
       "array([[ 6.,  3.,  5.],\n",
       "       [ 4.,  0.,  3.],\n",
       "       [ 3.,  4.,  4.],\n",
       "       [ 9.,  8.,  0.],\n",
       "       [ 2.,  5.,  5.]])"
      ]
     },
     "execution_count": 67,
     "metadata": {},
     "output_type": "execute_result"
    }
   ],
   "source": [
    "np.loadtxt(\"array2.txt\")"
   ]
  },
  {
   "cell_type": "code",
   "execution_count": 68,
   "metadata": {
    "collapsed": true
   },
   "outputs": [],
   "source": [
    "np.savez(\"arrays.npz\", a=a, b=b)"
   ]
  },
  {
   "cell_type": "code",
   "execution_count": 69,
   "metadata": {
    "collapsed": true
   },
   "outputs": [],
   "source": [
    "a_and_b = np.load(\"arrays.npz\")"
   ]
  },
  {
   "cell_type": "code",
   "execution_count": 70,
   "metadata": {
    "collapsed": false
   },
   "outputs": [
    {
     "data": {
      "text/plain": [
       "array([ 0.18830122,  0.83845397,  0.81110033,  0.47910764,  0.53906557,\n",
       "        0.65843344,  0.86157557,  0.16586074,  0.92789509,  0.32601429])"
      ]
     },
     "execution_count": 70,
     "metadata": {},
     "output_type": "execute_result"
    }
   ],
   "source": [
    "a_and_b[\"a\"]"
   ]
  },
  {
   "cell_type": "code",
   "execution_count": 71,
   "metadata": {
    "collapsed": false
   },
   "outputs": [
    {
     "data": {
      "text/plain": [
       "array([[6, 3, 5],\n",
       "       [4, 0, 3],\n",
       "       [3, 4, 4],\n",
       "       [9, 8, 0],\n",
       "       [2, 5, 5]])"
      ]
     },
     "execution_count": 71,
     "metadata": {},
     "output_type": "execute_result"
    }
   ],
   "source": [
    "a_and_b[\"b\"]"
   ]
  },
  {
   "cell_type": "code",
   "execution_count": 72,
   "metadata": {
    "collapsed": false
   },
   "outputs": [],
   "source": [
    "a = np.random.rand(5,5)\n",
    "b = np.random.rand(5,5)"
   ]
  },
  {
   "cell_type": "code",
   "execution_count": 73,
   "metadata": {
    "collapsed": false
   },
   "outputs": [
    {
     "data": {
      "text/plain": [
       "array([[ 0.01136743,  0.15698163,  0.52870858,  0.8899581 ,  0.1370473 ],\n",
       "       [ 0.37954382,  0.30941556,  0.17197787,  0.44698928,  0.13509894],\n",
       "       [ 0.21000253,  0.22872409,  0.38693399,  0.5640231 ,  0.00657149],\n",
       "       [ 0.10725132,  0.40439514,  0.20743501,  0.09689429,  0.0076696 ],\n",
       "       [ 0.74808798,  0.04407103,  0.32688194,  0.48602074,  0.12518149]])"
      ]
     },
     "execution_count": 73,
     "metadata": {},
     "output_type": "execute_result"
    }
   ],
   "source": [
    "a*b"
   ]
  },
  {
   "cell_type": "code",
   "execution_count": 74,
   "metadata": {
    "collapsed": false
   },
   "outputs": [
    {
     "data": {
      "text/plain": [
       "array([[ 1.04211097,  2.01031903,  2.16461426,  1.96228326,  0.57390927],\n",
       "       [ 1.30087571,  1.74397962,  1.89791141,  1.77485553,  0.68247609],\n",
       "       [ 0.727867  ,  1.3503134 ,  1.39182029,  1.49457338,  0.29619683],\n",
       "       [ 1.2977354 ,  1.6613309 ,  1.77800595,  1.77124449,  0.69617672],\n",
       "       [ 0.62476232,  1.90453303,  1.93090159,  1.7455144 ,  0.45203689]])"
      ]
     },
     "execution_count": 74,
     "metadata": {},
     "output_type": "execute_result"
    }
   ],
   "source": [
    "np.dot(a,b)"
   ]
  },
  {
   "cell_type": "code",
   "execution_count": 76,
   "metadata": {
    "collapsed": true
   },
   "outputs": [],
   "source": [
    "m1 = np.matrix(a)\n",
    "m2 = np.matrix(b)"
   ]
  },
  {
   "cell_type": "code",
   "execution_count": 77,
   "metadata": {
    "collapsed": false
   },
   "outputs": [
    {
     "data": {
      "text/plain": [
       "matrix([[ 1.04211097,  2.01031903,  2.16461426,  1.96228326,  0.57390927],\n",
       "        [ 1.30087571,  1.74397962,  1.89791141,  1.77485553,  0.68247609],\n",
       "        [ 0.727867  ,  1.3503134 ,  1.39182029,  1.49457338,  0.29619683],\n",
       "        [ 1.2977354 ,  1.6613309 ,  1.77800595,  1.77124449,  0.69617672],\n",
       "        [ 0.62476232,  1.90453303,  1.93090159,  1.7455144 ,  0.45203689]])"
      ]
     },
     "execution_count": 77,
     "metadata": {},
     "output_type": "execute_result"
    }
   ],
   "source": [
    "m1*m2"
   ]
  },
  {
   "cell_type": "code",
   "execution_count": 78,
   "metadata": {
    "collapsed": false
   },
   "outputs": [
    {
     "data": {
      "text/plain": [
       "0.027541253108440668"
      ]
     },
     "execution_count": 78,
     "metadata": {},
     "output_type": "execute_result"
    }
   ],
   "source": [
    "np.linalg.det(a)"
   ]
  },
  {
   "cell_type": "code",
   "execution_count": 80,
   "metadata": {
    "collapsed": false
   },
   "outputs": [
    {
     "data": {
      "text/plain": [
       "array([[ 0.11836647, -3.8677372 , -0.54499402,  3.51266091,  1.2214507 ],\n",
       "       [-2.26695293,  2.8804356 ,  1.75295624, -1.48915052,  0.07985372],\n",
       "       [ 2.6210383 , -4.15157723,  0.63421879,  2.77555757, -1.52341498],\n",
       "       [-1.39613586,  5.51572396,  0.58297095, -4.83465679,  0.53226709],\n",
       "       [ 1.6531463 , -0.79215028, -1.82217837,  1.35068052, -0.58282749]])"
      ]
     },
     "execution_count": 80,
     "metadata": {},
     "output_type": "execute_result"
    }
   ],
   "source": [
    "np.linalg.inv(a)"
   ]
  },
  {
   "cell_type": "code",
   "execution_count": 81,
   "metadata": {
    "collapsed": false
   },
   "outputs": [
    {
     "data": {
      "text/plain": [
       "array([ 2.64444128+0.j        ,  0.21777936+0.23387031j,\n",
       "        0.21777936-0.23387031j, -0.40151018+0.j        , -0.25399719+0.j        ])"
      ]
     },
     "execution_count": 81,
     "metadata": {},
     "output_type": "execute_result"
    }
   ],
   "source": [
    "np.linalg.eigvals(a)"
   ]
  },
  {
   "cell_type": "code",
   "execution_count": 82,
   "metadata": {
    "collapsed": true
   },
   "outputs": [],
   "source": [
    "c = np.random.rand(2000,2000)"
   ]
  },
  {
   "cell_type": "code",
   "execution_count": 83,
   "metadata": {
    "collapsed": false
   },
   "outputs": [
    {
     "name": "stdout",
     "output_type": "stream",
     "text": [
      "1 loops, best of 1: 29.5 s per loop\n"
     ]
    }
   ],
   "source": [
    "%timeit -n1 -r1 evs = np.linalg.eigvals(c)"
   ]
  },
  {
   "cell_type": "code",
   "execution_count": 85,
   "metadata": {
    "collapsed": false
   },
   "outputs": [
    {
     "data": {
      "text/plain": [
       "<matplotlib.text.Text at 0x7f3daab12b50>"
      ]
     },
     "execution_count": 85,
     "metadata": {},
     "output_type": "execute_result"
    },
    {
     "data": {
      "image/png": "[encoded data removed]",
      "text/plain": [
       "<matplotlib.figure.Figure at 0x7f3dab324950>"
      ]
     },
     "metadata": {},
     "output_type": "display_data"
    }
   ],
   "source": [
    "plt.hist(np.random.random(250))\n",
    "plt.title(\"Uniform Random Distribution $[0,1]$\")\n",
    "plt.xlabel(\"value\")\n",
    "plt.ylabel('count')"
   ]
  },
  {
   "cell_type": "code",
   "execution_count": 86,
   "metadata": {
    "collapsed": false
   },
   "outputs": [
    {
     "data": {
      "text/plain": [
       "<matplotlib.text.Text at 0x7f3da8b10e50>"
      ]
     },
     "execution_count": 86,
     "metadata": {},
     "output_type": "execute_result"
    },
    {
     "data": {
      "image/png": "[encoded data removed]",
      "text/plain": [
       "<matplotlib.figure.Figure at 0x7f3daaabe950>"
      ]
     },
     "metadata": {},
     "output_type": "display_data"
    }
   ],
   "source": [
    "plt.hist(np.random.randn(250))\n",
    "plt.title(\"Standard Random Distribution $[0,1]$\")\n",
    "plt.xlabel(\"value\")\n",
    "plt.ylabel('count')"
   ]
  },
  {
   "cell_type": "code",
   "execution_count": 87,
   "metadata": {
    "collapsed": false
   },
   "outputs": [
    {
     "data": {
      "text/plain": [
       "array([6, 9, 1, 2, 5, 3, 8, 4, 0, 7])"
      ]
     },
     "execution_count": 87,
     "metadata": {},
     "output_type": "execute_result"
    }
   ],
   "source": [
    "a = np.arange(0,10)\n",
    "np.random.shuffle(a)\n",
    "a"
   ]
  },
  {
   "cell_type": "code",
   "execution_count": 88,
   "metadata": {
    "collapsed": false
   },
   "outputs": [
    {
     "name": "stdout",
     "output_type": "stream",
     "text": [
      "[1 6 0 9 5 3 7 8 4 2]\n",
      "[0 1 2 3 4 5 6 7 8 9]\n"
     ]
    }
   ],
   "source": [
    "a = np.arange(0,10)\n",
    "print(np.random.permutation(a))\n",
    "print(a)"
   ]
  },
  {
   "cell_type": "code",
   "execution_count": null,
   "metadata": {
    "collapsed": true
   },
   "outputs": [],
   "source": [
    "np.random.choice([\"m\",\"f\"], 20, p=[])"
   ]
  }
 ],
 "metadata": {
  "kernelspec": {
   "display_name": "Python 2",
   "language": "python",
   "name": "python2"
  },
  "language_info": {
   "codemirror_mode": {
    "name": "ipython",
    "version": 2
   },
   "file_extension": ".py",
   "mimetype": "text/x-python",
   "name": "python",
   "nbconvert_exporter": "python",
   "pygments_lexer": "ipython2",
   "version": "2.7.6"
  }
 },
 "nbformat": 4,
 "nbformat_minor": 0
}
